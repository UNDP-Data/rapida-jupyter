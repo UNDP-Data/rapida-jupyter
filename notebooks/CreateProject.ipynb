{
 "cells": [
  {
   "cell_type": "markdown",
   "id": "00b272b9-d317-4406-ab2d-2a9311282159",
   "metadata": {},
   "source": [
    "# Creating a project"
   ]
  },
  {
   "cell_type": "markdown",
   "id": "7535f48e-2146-4a79-8148-a4ee327c73db",
   "metadata": {},
   "source": [
    "Continuing with this guide assumes that the authentication has already been done and that the setup is complete.\n",
    "Read the [README](./README.ipynb) if you have not. "
   ]
  },
  {
   "cell_type": "markdown",
   "id": "dd2b5fc3-f8c4-40a2-a3f0-040f8acd5c2e",
   "metadata": {},
   "source": [
    "The rapida tool works within a project.\n",
    "To create a project, the following simple steps needs to be done.\n",
    "\n",
    "The following are the requirements for a project. The ones in <span style=\"color:red\"> red </span> are required and must be provided.\n",
    "\n",
    "**1. <span style=\"color: red\"> admin dataset (polygons layer) </span>**\n",
    "\n",
    "**2. Mask dataset - could be a vector or raster mask.**\n",
    "\n",
    "**3. <span style=\"color: red\"> Project name </span>**"
   ]
  },
  {
   "cell_type": "code",
   "execution_count": 5,
   "id": "4d8e27fc-bd48-4473-bf39-d68e641b84be",
   "metadata": {},
   "outputs": [],
   "source": [
    "from rapida.cli.run import run_cmd"
   ]
  },
  {
   "cell_type": "markdown",
   "id": "076ae0da-b6f8-4154-921a-7e6bfd621ae2",
   "metadata": {},
   "source": [
    "The `rapida create --help` command has more explanation for the prerequisites of a project"
   ]
  },
  {
   "cell_type": "code",
   "execution_count": 6,
   "id": "7907c461-bf0b-40f7-8ac2-d6a02f45187b",
   "metadata": {},
   "outputs": [
    {
     "name": "stdout",
     "output_type": "stream",
     "text": [
      "Usage: ipykernel_launcher.py [OPTIONS] PROJECT_NAME [DESTINATION_FOLDER]\n",
      "\n",
      "  Create a RAPIDA project in a new folder. As default, it creates a project\n",
      "  folder with the same name as user specified.\n",
      "\n",
      "  Usage:\n",
      "\n",
      "  rapida create [project name] --polygons /path/to/vector_polygons.gpkg --mask\n",
      "  /path/to/mask.gpkg\n",
      "\n",
      "      This creates a project folder at current working directory with project\n",
      "      polygon of a given GeoPackage.\n",
      "\n",
      "      If --mask is provided, it creates a mask layer in the project database,\n",
      "      and assessment can compute affected version of variables.\n",
      "\n",
      "  rapida create [project name] [destination folder] --polygons\n",
      "  /path/to/vector_polygons.gpkg\n",
      "\n",
      "      If you set a folder path in the second positional argument, it creates a\n",
      "      project folder at a given destination folder.\n",
      "\n",
      "      Second positional argument is optional. If skipped, current directory is\n",
      "      used.\n",
      "\n",
      "Options:\n",
      "  -p, --polygons TEXT  Full path to the vector polygons dataset in any OGR\n",
      "                       supported format  [required]\n",
      "  -m, --mask TEXT      Full path to the mask dataset in any GDAL/OGR supported\n",
      "                       format. Can be vector or raster\n",
      "  -c, --comment TEXT   Any comment you might want to add into the project\n",
      "                       config\n",
      "  --debug              Set log level to debug\n",
      "  --help               Show this message and exit.\n"
     ]
    },
    {
     "data": {
      "text/plain": [
       "0"
      ]
     },
     "execution_count": 6,
     "metadata": {},
     "output_type": "execute_result"
    }
   ],
   "source": [
    "run_cmd('create', '--help')"
   ]
  },
  {
   "cell_type": "markdown",
   "id": "29688491-37ff-485c-bfad-031c68fe541f",
   "metadata": {},
   "source": [
    "Using the datasets already existing in `datasets`, create a project using the following command"
   ]
  },
  {
   "cell_type": "code",
   "execution_count": 8,
   "id": "1ddd4235-eb3a-47e3-8293-ff500973c9b0",
   "metadata": {},
   "outputs": [
    {
     "data": {
      "text/html": [
       "<pre style=\"white-space:pre;overflow-x:auto;line-height:normal;font-family:Menlo,'DejaVu Sans Mono',consolas,'Courier New',monospace\"><span style=\"color: #7fbfbf; text-decoration-color: #7fbfbf\">[05/12/25 07:05:09] </span><span style=\"color: #000080; text-decoration-color: #000080\">INFO    </span> Got vector mask                                                         <a href=\"file:///app/.venv/lib/python3.12/site-packages/rapida/project/project.py\" target=\"_blank\"><span style=\"color: #7f7f7f; text-decoration-color: #7f7f7f\">project.py</span></a><span style=\"color: #7f7f7f; text-decoration-color: #7f7f7f\">:</span><a href=\"file:///app/.venv/lib/python3.12/site-packages/rapida/project/project.py#226\" target=\"_blank\"><span style=\"color: #7f7f7f; text-decoration-color: #7f7f7f\">226</span></a>\n",
       "</pre>\n"
      ],
      "text/plain": [
       "\u001b[2;36m[05/12/25 07:05:09]\u001b[0m\u001b[2;36m \u001b[0m\u001b[34mINFO    \u001b[0m Got vector mask                                                         \u001b]8;id=722568;file:///app/.venv/lib/python3.12/site-packages/rapida/project/project.py\u001b\\\u001b[2mproject.py\u001b[0m\u001b]8;;\u001b\\\u001b[2m:\u001b[0m\u001b]8;id=428047;file:///app/.venv/lib/python3.12/site-packages/rapida/project/project.py#226\u001b\\\u001b[2m226\u001b[0m\u001b]8;;\u001b\\\n"
      ]
     },
     "metadata": {},
     "output_type": "display_data"
    },
    {
     "data": {
      "text/html": [
       "<pre style=\"white-space:pre;overflow-x:auto;line-height:normal;font-family:Menlo,'DejaVu Sans Mono',consolas,'Courier New',monospace\"><span style=\"color: #7fbfbf; text-decoration-color: #7fbfbf\">[05/12/25 07:05:10] </span><span style=\"color: #000080; text-decoration-color: #000080\">INFO    </span> Project <span style=\"color: #008000; text-decoration-color: #008000\">\"nairobi_test_project\"</span> was created successfully.                  <a href=\"file:///app/.venv/lib/python3.12/site-packages/rapida/cli/create.py\" target=\"_blank\"><span style=\"color: #7f7f7f; text-decoration-color: #7f7f7f\">create.py</span></a><span style=\"color: #7f7f7f; text-decoration-color: #7f7f7f\">:</span><a href=\"file:///app/.venv/lib/python3.12/site-packages/rapida/cli/create.py#63\" target=\"_blank\"><span style=\"color: #7f7f7f; text-decoration-color: #7f7f7f\">63</span></a>\n",
       "</pre>\n"
      ],
      "text/plain": [
       "\u001b[2;36m[05/12/25 07:05:10]\u001b[0m\u001b[2;36m \u001b[0m\u001b[34mINFO    \u001b[0m Project \u001b[32m\"nairobi_test_project\"\u001b[0m was created successfully.                  \u001b]8;id=593950;file:///app/.venv/lib/python3.12/site-packages/rapida/cli/create.py\u001b\\\u001b[2mcreate.py\u001b[0m\u001b]8;;\u001b\\\u001b[2m:\u001b[0m\u001b]8;id=253333;file:///app/.venv/lib/python3.12/site-packages/rapida/cli/create.py#63\u001b\\\u001b[2m63\u001b[0m\u001b]8;;\u001b\\\n"
      ]
     },
     "metadata": {},
     "output_type": "display_data"
    }
   ],
   "source": [
    "run_cmd(\"create\", \"nairobi_test_project -p /data/notebooks/datasets/nairobi_admin2.gpkg -m /data/notebooks/datasets/mask.fgb\")"
   ]
  },
  {
   "cell_type": "markdown",
   "id": "d754f68b-a28c-43aa-81a6-79d1ea41900a",
   "metadata": {},
   "source": [
    "After you create a project, you will see that a folder named similar to the **project name** provided exists"
   ]
  },
  {
   "cell_type": "markdown",
   "id": "c6af4fe0-2043-4123-be37-ed8a43415310",
   "metadata": {},
   "source": [
    "This folder contains a file `rapida.json` and `data` folder with a geopackage named similar to the project. This geopackage contains 2 layers, as at this point:\n",
    "1. polygons\n",
    "2. mask"
   ]
  },
  {
   "cell_type": "markdown",
   "id": "264e2ecc-8c1c-4902-9f56-cc77e2232854",
   "metadata": {},
   "source": [
    "After this, you can now go to the assesment section of the process."
   ]
  }
 ],
 "metadata": {
  "kernelspec": {
   "display_name": "Python 3 (ipykernel)",
   "language": "python",
   "name": "python3"
  },
  "language_info": {
   "codemirror_mode": {
    "name": "ipython",
    "version": 3
   },
   "file_extension": ".py",
   "mimetype": "text/x-python",
   "name": "python",
   "nbconvert_exporter": "python",
   "pygments_lexer": "ipython3",
   "version": "3.12.3"
  }
 },
 "nbformat": 4,
 "nbformat_minor": 5
}
