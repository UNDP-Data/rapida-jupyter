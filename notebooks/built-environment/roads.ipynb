{
 "cells": [
  {
   "cell_type": "markdown",
   "id": "970f3e3e-3f89-459f-886b-7dc004c9c8a6",
   "metadata": {},
   "source": [
    "## Roads Component"
   ]
  },
  {
   "cell_type": "markdown",
   "id": "eb69d7f5-13fa-49f3-96c8-90c236b3d5dc",
   "metadata": {},
   "source": [
    "### Data"
   ]
  },
  {
   "cell_type": "markdown",
   "id": "0ad7f467-7e6d-44dd-99e2-aca24a931062",
   "metadata": {},
   "source": [
    "The roads data used for this assessment is sourced from Global Roads Inventory Project (GRIP) which provides a more recent and consistent global roads dataset for use in global environmental and biodiversity assessment models like GLOBIO. Original data is sourced from https://www.globio.info/download-grip-dataset."
   ]
  },
  {
   "cell_type": "markdown",
   "id": "e5faa241-3417-4b81-a272-7b73278886bc",
   "metadata": {},
   "source": [
    "### Create a project"
   ]
  },
  {
   "cell_type": "markdown",
   "id": "97633a76-8173-4138-97a6-7f3efbd47f8c",
   "metadata": {},
   "source": [
    "To run any assessment, you need to have a project already created.\n",
    "To create a project, please follow the instruction statement in the [CreateProject](https://rapida.undpgeohub.org/hub/user-redirect/lab/tree/notebooks/CreateProject.ipynb) notebook"
   ]
  },
  {
   "cell_type": "markdown",
   "id": "e44e4f0a-2640-41a3-925d-d0c13c8652f6",
   "metadata": {},
   "source": [
    "### Variables"
   ]
  },
  {
   "cell_type": "markdown",
   "id": "0a75fc21-8557-4f80-913f-d3306fe0b8ff",
   "metadata": {},
   "source": [
    "There are currently 2 variables implemented for the **roads** component: `roads_length` and `roads_count`\n",
    "\n",
    "`roads_length` represents the total length of roads\n",
    "\n",
    "`roads_count` represents the total number of roads"
   ]
  },
  {
   "cell_type": "markdown",
   "id": "94613f97-c600-4b87-a3b8-888053719de5",
   "metadata": {},
   "source": [
    "### Assessment"
   ]
  },
  {
   "cell_type": "markdown",
   "id": "a2b748f0-fa6d-4196-a5c5-591fb6091774",
   "metadata": {},
   "source": [
    "For our purposes, we are going to load the assessment GUI to run assessment for the Roads"
   ]
  },
  {
   "cell_type": "code",
   "execution_count": 7,
   "id": "c3084ecf-ada6-4866-9b56-6316767666e2",
   "metadata": {},
   "outputs": [
    {
     "data": {
      "application/vnd.jupyter.widget-view+json": {
       "model_id": "1dcc66e8c86c4753b9e190e67d4a34ff",
       "version_major": 2,
       "version_minor": 0
      },
      "text/plain": [
       "Label(value='Run Assessment')"
      ]
     },
     "metadata": {},
     "output_type": "display_data"
    },
    {
     "data": {
      "application/vnd.jupyter.widget-view+json": {
       "model_id": "8f0b6d2910314a58b5b0f01540554eb6",
       "version_major": 2,
       "version_minor": 0
      },
      "text/plain": [
       "Tab(children=(VBox(children=(Checkbox(value=False, description='Select All in Tab'), Checkbox(value=False, des…"
      ]
     },
     "metadata": {},
     "output_type": "display_data"
    },
    {
     "data": {
      "application/vnd.jupyter.widget-view+json": {
       "model_id": "d84d0fb0fd6148c0bd53a031bdd210e2",
       "version_major": 2,
       "version_minor": 0
      },
      "text/plain": [
       "HBox(children=(Button(button_style='success', description='Select All', style=ButtonStyle()), Button(button_st…"
      ]
     },
     "metadata": {},
     "output_type": "display_data"
    },
    {
     "data": {
      "application/vnd.jupyter.widget-view+json": {
       "model_id": "6d3332f2b5be4877b7c22fcb3f82f158",
       "version_major": 2,
       "version_minor": 0
      },
      "text/plain": [
       "Output()"
      ]
     },
     "metadata": {},
     "output_type": "display_data"
    }
   ],
   "source": [
    "from rapida_jupyter.util.assess_gui import assessment_gui\n",
    "assessment_gui(project_path=\"/data/demo_project/\", component=\"roads\")"
   ]
  },
  {
   "cell_type": "markdown",
   "id": "7a5b61c9-987c-43a0-9933-c3c761f78e5c",
   "metadata": {},
   "source": [
    "### Visualization"
   ]
  },
  {
   "cell_type": "markdown",
   "id": "fe189e29-e224-4852-9251-59210ee4003f",
   "metadata": {},
   "source": [
    "To visualize the assessed data, We will also use the `display_data` function of rapida_jupyter package"
   ]
  },
  {
   "cell_type": "code",
   "execution_count": 10,
   "id": "259b3784-ccfb-4792-b943-685e8e7f0d2e",
   "metadata": {},
   "outputs": [
    {
     "data": {
      "application/vnd.jupyter.widget-view+json": {
       "model_id": "a0f412d64f6e4055a961b71212c80971",
       "version_major": 2,
       "version_minor": 0
      },
      "text/plain": [
       "HBox(children=(Dropdown(description='Layer:', options=('polygons', 'mask', 'stats.population', 'buildings.affe…"
      ]
     },
     "metadata": {},
     "output_type": "display_data"
    },
    {
     "data": {
      "application/vnd.jupyter.widget-view+json": {
       "model_id": "a581ccb87ce243fb943aed1608438d89",
       "version_major": 2,
       "version_minor": 0
      },
      "text/plain": [
       "Map(center=[-1.2907794985595658, 36.87149049999999], controls=(ZoomControl(options=['position', 'zoom_in_text'…"
      ]
     },
     "metadata": {},
     "output_type": "display_data"
    }
   ],
   "source": [
    "from rapida_jupyter.util.display_geodata import display_data\n",
    "display_data(gpkg_path=\"/data/demo_project/data/demo_project.gpkg\")"
   ]
  },
  {
   "cell_type": "code",
   "execution_count": null,
   "id": "c6e3eaf2-8541-4b5c-83c0-f504d6bd6757",
   "metadata": {},
   "outputs": [],
   "source": []
  }
 ],
 "metadata": {
  "kernelspec": {
   "display_name": "Python 3 (ipykernel)",
   "language": "python",
   "name": "python3"
  },
  "language_info": {
   "codemirror_mode": {
    "name": "ipython",
    "version": 3
   },
   "file_extension": ".py",
   "mimetype": "text/x-python",
   "name": "python",
   "nbconvert_exporter": "python",
   "pygments_lexer": "ipython3",
   "version": "3.12.3"
  }
 },
 "nbformat": 4,
 "nbformat_minor": 5
}
