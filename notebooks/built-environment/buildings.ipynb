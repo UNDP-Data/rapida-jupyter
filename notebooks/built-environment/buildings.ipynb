{
 "cells": [
  {
   "cell_type": "markdown",
   "id": "970f3e3e-3f89-459f-886b-7dc004c9c8a6",
   "metadata": {},
   "source": [
    "## Buildings Component"
   ]
  },
  {
   "cell_type": "markdown",
   "id": "2a01e4c9-67e1-4b3e-b117-696b43ecc6c6",
   "metadata": {},
   "source": [
    "### Data"
   ]
  },
  {
   "cell_type": "markdown",
   "id": "1c8a2560-255f-4ecd-bbc2-ecb65831e23e",
   "metadata": {},
   "source": [
    "The Google-Microsoft Open Buildings dataset we use in rapida is a comprehensive, openly accessible collection of global building footprints, curated by VIDA and hosted on the Source Cooperative platform. It integrates Google's Open Buildings V3 and Microsoft's Global Building Footprints, resulting in over 2.5 billion building footprints worldwide as of September 2023."
   ]
  },
  {
   "cell_type": "markdown",
   "id": "e5faa241-3417-4b81-a272-7b73278886bc",
   "metadata": {},
   "source": [
    "### Create a project"
   ]
  },
  {
   "cell_type": "markdown",
   "id": "97633a76-8173-4138-97a6-7f3efbd47f8c",
   "metadata": {},
   "source": [
    "To run any assessment, you need to have a project already created.\n",
    "To create a project, please follow the instruction statement in the [CreateProject](https://rapida.undpgeohub.org/hub/user-redirect/lab/tree/notebooks/CreateProject.ipynb) notebook"
   ]
  },
  {
   "cell_type": "markdown",
   "id": "d7adb260-2ca1-48bd-993d-8a5d28cbac68",
   "metadata": {},
   "source": [
    "### Variables\n",
    "\n",
    "The buildings component has 2 variables: `nbuildings` and `buildings_area`\n",
    "\n",
    "`nbuildings` represents the number of buildings\n",
    "\n",
    "`buildings_area` represents the total surface are of the buildings"
   ]
  },
  {
   "cell_type": "markdown",
   "id": "94613f97-c600-4b87-a3b8-888053719de5",
   "metadata": {},
   "source": [
    "### Assessment"
   ]
  },
  {
   "cell_type": "markdown",
   "id": "beab5d98-7e14-400b-91b8-3c4edff5b8c8",
   "metadata": {},
   "source": [
    "For our purposes, we are going to load the assessment GUI to run assessment for the Electricity Grid"
   ]
  },
  {
   "cell_type": "code",
   "execution_count": 3,
   "id": "7b2addc5-0242-4b9d-89c0-5b177326b943",
   "metadata": {},
   "outputs": [
    {
     "data": {
      "application/vnd.jupyter.widget-view+json": {
       "model_id": "89e1c424bb2e4946bb7a6ecbce8a7754",
       "version_major": 2,
       "version_minor": 0
      },
      "text/plain": [
       "Label(value='Run Assessment')"
      ]
     },
     "metadata": {},
     "output_type": "display_data"
    },
    {
     "data": {
      "application/vnd.jupyter.widget-view+json": {
       "model_id": "58d18b1e652c4bdd8c2e583acb4ea9b9",
       "version_major": 2,
       "version_minor": 0
      },
      "text/plain": [
       "Tab(children=(VBox(children=(Checkbox(value=False, description='Select All in Tab'), Checkbox(value=False, des…"
      ]
     },
     "metadata": {},
     "output_type": "display_data"
    },
    {
     "data": {
      "application/vnd.jupyter.widget-view+json": {
       "model_id": "1fe6347db4344d879d4483bc20328ced",
       "version_major": 2,
       "version_minor": 0
      },
      "text/plain": [
       "HBox(children=(Button(button_style='success', description='Select All', style=ButtonStyle()), Button(button_st…"
      ]
     },
     "metadata": {},
     "output_type": "display_data"
    },
    {
     "data": {
      "application/vnd.jupyter.widget-view+json": {
       "model_id": "4190533750b640a893f9df13da5fa419",
       "version_major": 2,
       "version_minor": 0
      },
      "text/plain": [
       "Output()"
      ]
     },
     "metadata": {},
     "output_type": "display_data"
    }
   ],
   "source": [
    "from rapida_jupyter.util.assess_gui import assessment_gui\n",
    "assessment_gui(project_path=\"/data/notebooks/nairobi/\", component=\"buildings\")"
   ]
  },
  {
   "cell_type": "markdown",
   "id": "d0fb9251-4195-4f8b-a55f-d604a2379f38",
   "metadata": {},
   "source": [
    "### Visualization"
   ]
  },
  {
   "cell_type": "markdown",
   "id": "47fe3aee-df94-46b1-8c52-b4d5feef00b5",
   "metadata": {},
   "source": [
    "To visualize the assessed data, We will also use the `display_data` function of rapida_jupyter package"
   ]
  },
  {
   "cell_type": "code",
   "execution_count": 6,
   "id": "bcc131f9-5a20-4b39-a336-76b03a603c57",
   "metadata": {},
   "outputs": [
    {
     "data": {
      "application/vnd.jupyter.widget-view+json": {
       "model_id": "b9b07dd41d384600b9522f271382b9f1",
       "version_major": 2,
       "version_minor": 0
      },
      "text/plain": [
       "HBox(children=(Dropdown(description='Layer:', options=('polygons', 'mask', 'stats.population', 'buildings.affe…"
      ]
     },
     "metadata": {},
     "output_type": "display_data"
    },
    {
     "data": {
      "application/vnd.jupyter.widget-view+json": {
       "model_id": "dd8a5da0d5714c8c8df83a33b2cbb553",
       "version_major": 2,
       "version_minor": 0
      },
      "text/plain": [
       "Map(center=[-1.2907794985595658, 36.87149049999999], controls=(ZoomControl(options=['position', 'zoom_in_text'…"
      ]
     },
     "metadata": {},
     "output_type": "display_data"
    }
   ],
   "source": [
    "from rapida_jupyter.util.display_geodata import display_data\n",
    "display_data(gpkg_path=\"/data/notebooks/nairobi/data/nairobi.gpkg\") "
   ]
  },
  {
   "cell_type": "code",
   "execution_count": null,
   "id": "a7e283c8-a7ce-46e6-8c7f-7db99d355df9",
   "metadata": {},
   "outputs": [],
   "source": []
  }
 ],
 "metadata": {
  "kernelspec": {
   "display_name": "Python 3 (ipykernel)",
   "language": "python",
   "name": "python3"
  },
  "language_info": {
   "codemirror_mode": {
    "name": "ipython",
    "version": 3
   },
   "file_extension": ".py",
   "mimetype": "text/x-python",
   "name": "python",
   "nbconvert_exporter": "python",
   "pygments_lexer": "ipython3",
   "version": "3.12.3"
  }
 },
 "nbformat": 4,
 "nbformat_minor": 5
}
