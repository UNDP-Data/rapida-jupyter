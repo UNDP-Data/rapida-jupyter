{
 "cells": [
  {
   "cell_type": "markdown",
   "id": "970f3e3e-3f89-459f-886b-7dc004c9c8a6",
   "metadata": {},
   "source": [
    "## Electricity Grid Component"
   ]
  },
  {
   "cell_type": "markdown",
   "id": "a8be8eab-047c-4c49-b4af-a0d94d8b1fdb",
   "metadata": {},
   "source": [
    "### Data"
   ]
  },
  {
   "cell_type": "markdown",
   "id": "fd9baac8-c5cd-4b8d-a54c-346b412aeef3",
   "metadata": {},
   "source": [
    "The electricity grid data used for this assessment is a predictive dataset of distribution and transmission of electricity grid. The original dataset is sourced from GridFinder https://gridfinder.rdrn.me/ an open source tool for predicting the location of electricity network lines, using night-time lights satellite imagery and OpenStreetMap data.\n",
    "\n",
    "See more information of this data on [GeoHub](https://geohub.data.undp.org/data/310aadaa61ea23811e6ecd75905aaf29)"
   ]
  },
  {
   "cell_type": "markdown",
   "id": "e5faa241-3417-4b81-a272-7b73278886bc",
   "metadata": {},
   "source": [
    "### Create a project"
   ]
  },
  {
   "cell_type": "markdown",
   "id": "97633a76-8173-4138-97a6-7f3efbd47f8c",
   "metadata": {},
   "source": [
    "To run any assessment, you need to have a project already created.\n",
    "To create a project, please follow the instruction statement in the [CreateProject](https://rapida.undpgeohub.org/hub/user-redirect/lab/tree/notebooks/CreateProject.ipynb) notebook. If you already have a notebook, you can skip this part"
   ]
  },
  {
   "cell_type": "markdown",
   "id": "91e18c9f-a0b8-4e0c-930f-d157715d2265",
   "metadata": {},
   "source": [
    "### Variables"
   ]
  },
  {
   "cell_type": "markdown",
   "id": "56115ed6-9972-4e97-a63a-8bce1f076c75",
   "metadata": {},
   "source": [
    "The **elegrid** component currently has 2 variables: `elegrid_length` and `elegrid_density`\n",
    "\n",
    "\n",
    "\n",
    "`elegrid_length` represents the Total length of the electricity grid\n",
    "\n",
    "`elegrid density` represents the Total density of electricity grid"
   ]
  },
  {
   "cell_type": "markdown",
   "id": "94613f97-c600-4b87-a3b8-888053719de5",
   "metadata": {},
   "source": [
    "### Assessment"
   ]
  },
  {
   "cell_type": "markdown",
   "id": "f95a76dd-0e74-43c8-865b-356807000b01",
   "metadata": {},
   "source": [
    "For our purposes, we are going to load the assessment GUI to run assessment for the Electricity Grid"
   ]
  },
  {
   "cell_type": "code",
   "execution_count": 7,
   "id": "82e935c5-0f89-425a-92e1-60bac4aeff7b",
   "metadata": {},
   "outputs": [],
   "source": [
    "from rapida_jupyter.util.assess_gui import assessment_gui"
   ]
  },
  {
   "cell_type": "code",
   "execution_count": 14,
   "id": "9a3e6402-e3ae-4f4a-bb2c-56ed7b0c752b",
   "metadata": {},
   "outputs": [
    {
     "data": {
      "application/vnd.jupyter.widget-view+json": {
       "model_id": "b8196dabb9a34078a5235ba3af4b2c9d",
       "version_major": 2,
       "version_minor": 0
      },
      "text/plain": [
       "Label(value='Run Assessment')"
      ]
     },
     "metadata": {},
     "output_type": "display_data"
    },
    {
     "data": {
      "application/vnd.jupyter.widget-view+json": {
       "model_id": "3710bcbedd624ee88ccc3f9526945e90",
       "version_major": 2,
       "version_minor": 0
      },
      "text/plain": [
       "Tab(children=(VBox(children=(Checkbox(value=False, description='Select All in Tab'), Checkbox(value=False, des…"
      ]
     },
     "metadata": {},
     "output_type": "display_data"
    },
    {
     "data": {
      "application/vnd.jupyter.widget-view+json": {
       "model_id": "12801ec680cf42c8a1eaa622f443cf55",
       "version_major": 2,
       "version_minor": 0
      },
      "text/plain": [
       "HBox(children=(Button(button_style='success', description='Select All', style=ButtonStyle()), Button(button_st…"
      ]
     },
     "metadata": {},
     "output_type": "display_data"
    },
    {
     "data": {
      "application/vnd.jupyter.widget-view+json": {
       "model_id": "4ef791b2592a462aba683eecec733fc0",
       "version_major": 2,
       "version_minor": 0
      },
      "text/plain": [
       "Output()"
      ]
     },
     "metadata": {},
     "output_type": "display_data"
    }
   ],
   "source": [
    "assessment_gui(project_path=\"/data/demo_project\", component=\"elegrid\")"
   ]
  },
  {
   "cell_type": "markdown",
   "id": "6b6c912a-9520-45a1-b0d3-b348fe360536",
   "metadata": {},
   "source": [
    "### Visualization"
   ]
  },
  {
   "cell_type": "markdown",
   "id": "e4fd6965-fe60-4d1d-92cc-d615a0eb65c1",
   "metadata": {},
   "source": [
    "To visualize the assessed data, We will also use the `display_data` function of rapida_jupyter package"
   ]
  },
  {
   "cell_type": "code",
   "execution_count": 15,
   "id": "9c987382-b4bd-4e40-86c8-ab9b174bf483",
   "metadata": {},
   "outputs": [],
   "source": [
    "from rapida_jupyter.util.display_geodata import display_data"
   ]
  },
  {
   "cell_type": "code",
   "execution_count": 17,
   "id": "6bd1eef9-a9a8-4b52-ac69-771b636a0591",
   "metadata": {},
   "outputs": [
    {
     "data": {
      "application/vnd.jupyter.widget-view+json": {
       "model_id": "ad18cee9b1b142a1980473fe58ebd64e",
       "version_major": 2,
       "version_minor": 0
      },
      "text/plain": [
       "VBox(children=(HBox(children=(Dropdown(description='Layer:', options=('polygons', 'mask', 'elegrid', 'elegrid.…"
      ]
     },
     "metadata": {},
     "output_type": "display_data"
    },
    {
     "data": {
      "application/vnd.jupyter.widget-view+json": {
       "model_id": "8c8d62645fb54341985523279829b963",
       "version_major": 2,
       "version_minor": 0
      },
      "text/plain": [
       "Map(center=[-1.2907794985595658, 36.87149049999999], controls=(ZoomControl(options=['position', 'zoom_in_text'…"
      ]
     },
     "metadata": {},
     "output_type": "display_data"
    }
   ],
   "source": [
    "display_data(gpkg_path=\"/data/demo_project/data/demo_project.gpkg\")"
   ]
  },
  {
   "cell_type": "code",
   "execution_count": null,
   "id": "a40fd378-27e2-4dbd-9965-06160bbd52fd",
   "metadata": {},
   "outputs": [],
   "source": []
  }
 ],
 "metadata": {
  "kernelspec": {
   "display_name": "Python 3 (ipykernel)",
   "language": "python",
   "name": "python3"
  },
  "language_info": {
   "codemirror_mode": {
    "name": "ipython",
    "version": 3
   },
   "file_extension": ".py",
   "mimetype": "text/x-python",
   "name": "python",
   "nbconvert_exporter": "python",
   "pygments_lexer": "ipython3",
   "version": "3.12.3"
  }
 },
 "nbformat": 4,
 "nbformat_minor": 5
}
