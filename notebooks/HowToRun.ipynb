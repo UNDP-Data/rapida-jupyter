{
 "cells": [
  {
   "cell_type": "markdown",
   "id": "4b9478b6-cbbb-451c-a376-b09fbbf92328",
   "metadata": {},
   "source": [
    "### How to Run"
   ]
  },
  {
   "cell_type": "markdown",
   "id": "408a837d-2faf-4263-ac81-b825d94ceb8b",
   "metadata": {},
   "source": [
    "This guide shows how to create and run these notebooks in the rapida environment."
   ]
  },
  {
   "cell_type": "markdown",
   "id": "68921537-32fd-43be-8080-34e655c621a8",
   "metadata": {},
   "source": [
    "#### 1. Authentication"
   ]
  },
  {
   "cell_type": "markdown",
   "id": "201eb9fa-0944-4116-af86-178282590dcf",
   "metadata": {},
   "source": [
    "Before you can run any functionality on rapida jupyter notebooks, you will need to be authenticated first. "
   ]
  },
  {
   "cell_type": "markdown",
   "id": "a7f930e5-1f5f-4213-8d8b-dc323015af1c",
   "metadata": {},
   "source": [
    "To authenticate, run **only** the first code cell of the notebook.\n",
    "Fron this, you will see an input of email address and password. You should enter your **UNDP** account details in this section\n",
    "see the following image\n",
    "\n",
    "![Authentication form](./images/authentication_form.png)\n",
    "\n",
    "\n",
    "\n",
    "After you press the **Authenticate** button, you should enter the 2FA code that will be sent to your authenticator app, and after you do, you will see a button with your name on it.\n",
    "\n",
    "![Authentication Done](./images/authenticated.png)\n",
    "\n",
    "Once you see this you have authenticated in rapida jupyter environment"
   ]
  },
  {
   "cell_type": "markdown",
   "id": "bae2816b-8b87-44c6-bcd5-8bd610a327c4",
   "metadata": {},
   "source": [
    "#### 2. Cell by  cell"
   ]
  },
  {
   "cell_type": "markdown",
   "id": "f0e55051-c90a-4bf7-ab12-b1ebe280f848",
   "metadata": {},
   "source": [
    "It is **important** to run the notebook cell by cell for one main reason:\n",
    "\n",
    "- Incase the cell is an implementation of any GUI, you get to interact with the GUI first before running any subsequent cells which might depend on output of the interaction with the GUI. This includes the authentication"
   ]
  },
  {
   "cell_type": "code",
   "execution_count": null,
   "id": "b0c7b939-0213-44c2-a457-c3c17837335c",
   "metadata": {},
   "outputs": [],
   "source": []
  }
 ],
 "metadata": {
  "kernelspec": {
   "display_name": "Python 3 (ipykernel)",
   "language": "python",
   "name": "python3"
  },
  "language_info": {
   "codemirror_mode": {
    "name": "ipython",
    "version": 3
   },
   "file_extension": ".py",
   "mimetype": "text/x-python",
   "name": "python",
   "nbconvert_exporter": "python",
   "pygments_lexer": "ipython3",
   "version": "3.12.3"
  }
 },
 "nbformat": 4,
 "nbformat_minor": 5
}
