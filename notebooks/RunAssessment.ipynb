{
 "cells": [
  {
   "cell_type": "markdown",
   "id": "35c5da67-14d6-40b6-9f8a-9779bec9b42d",
   "metadata": {},
   "source": [
    "## Running Assessment"
   ]
  },
  {
   "cell_type": "markdown",
   "id": "ddd14bfb-e6a0-4ae9-8e71-d2aa20bd00fe",
   "metadata": {},
   "source": [
    "#### 1. GUI"
   ]
  },
  {
   "cell_type": "markdown",
   "id": "5af0c130-09d7-46da-b272-180ec8246164",
   "metadata": {},
   "source": [
    "To run assessment of different variables, we have implemented this GUI so as to make it easy for users to run assessment"
   ]
  },
  {
   "cell_type": "markdown",
   "id": "e848969b-40bb-424d-becc-6abf5ae97c08",
   "metadata": {},
   "source": [
    "Import the assess_gui module"
   ]
  },
  {
   "cell_type": "code",
   "execution_count": 6,
   "id": "51464bab-6730-49e4-99fe-c816b4886a60",
   "metadata": {},
   "outputs": [],
   "source": [
    "from rapida_jupyter.util.assess_gui import assessment_gui, pushd"
   ]
  },
  {
   "cell_type": "markdown",
   "id": "e898fc8f-9677-4afc-ab2a-99bf3ad50730",
   "metadata": {},
   "source": [
    "The positional argument for the `assessment_gui` function is the absolute project path"
   ]
  },
  {
   "cell_type": "code",
   "execution_count": 7,
   "id": "0cd3d23d-23ac-4ea6-84e6-398776abd7bb",
   "metadata": {},
   "outputs": [
    {
     "data": {
      "application/vnd.jupyter.widget-view+json": {
       "model_id": "74687e9c38cb428c95d3a241a7e7fa0b",
       "version_major": 2,
       "version_minor": 0
      },
      "text/plain": [
       "Label(value='Run Assessment')"
      ]
     },
     "metadata": {},
     "output_type": "display_data"
    },
    {
     "data": {
      "application/vnd.jupyter.widget-view+json": {
       "model_id": "58b624b8c79544b393192672bd50fbd0",
       "version_major": 2,
       "version_minor": 0
      },
      "text/plain": [
       "Tab(children=(VBox(children=(Checkbox(value=False, description='Select All in Tab'), Checkbox(value=False, des…"
      ]
     },
     "metadata": {},
     "output_type": "display_data"
    },
    {
     "data": {
      "application/vnd.jupyter.widget-view+json": {
       "model_id": "914de926a87b41849d10fad4f3d15e82",
       "version_major": 2,
       "version_minor": 0
      },
      "text/plain": [
       "HBox(children=(Button(button_style='success', description='Select All', style=ButtonStyle()), Button(button_st…"
      ]
     },
     "metadata": {},
     "output_type": "display_data"
    },
    {
     "data": {
      "application/vnd.jupyter.widget-view+json": {
       "model_id": "ed10cb6e17ed47399e007aceb540ad95",
       "version_major": 2,
       "version_minor": 0
      },
      "text/plain": [
       "Output()"
      ]
     },
     "metadata": {},
     "output_type": "display_data"
    }
   ],
   "source": [
    "assessment_gui(\"/data/notebooks/nairobi\")"
   ]
  },
  {
   "cell_type": "markdown",
   "id": "391da55b-50dc-49c7-8d91-7f3cfbe2f5f9",
   "metadata": {},
   "source": [
    "#### 2. API"
   ]
  },
  {
   "cell_type": "markdown",
   "id": "c1dbbd40-3417-4ebd-9956-098ad154c271",
   "metadata": {},
   "source": [
    "You can also our API to run assessment. The following cells are implemented to demonstrate this"
   ]
  },
  {
   "cell_type": "markdown",
   "id": "bdd91a80-ec8e-47bd-b677-1bd1a77ba0aa",
   "metadata": {},
   "source": [
    "In this example, I am going to demonstrate how you can run assessment for single variable and for multiple variables using the API. For my example, I am going to use the **population** component which has a lot of variables, but for my case: **child_total**, and **female_active**"
   ]
  },
  {
   "cell_type": "markdown",
   "id": "ccc6981c-d65c-4590-aab7-c0b57df4c2c4",
   "metadata": {},
   "source": [
    "##### Single variable"
   ]
  },
  {
   "cell_type": "code",
   "execution_count": 3,
   "id": "1ef04a7b-fc38-4643-8df3-c48a1a6d27df",
   "metadata": {},
   "outputs": [],
   "source": [
    "from rapida.cli.run import run_cmd"
   ]
  },
  {
   "cell_type": "code",
   "execution_count": 12,
   "id": "ae396b98-6f5a-4572-bc87-b5628107d8db",
   "metadata": {},
   "outputs": [
    {
     "data": {
      "text/html": [
       "<pre style=\"white-space:pre;overflow-x:auto;line-height:normal;font-family:Menlo,'DejaVu Sans Mono',consolas,'Courier New',monospace\"><span style=\"color: #7fbfbf; text-decoration-color: #7fbfbf\">[05/09/25 09:50:37] </span><span style=\"color: #000080; text-decoration-color: #000080\">INFO    </span> Current project/folder: <span style=\"color: #800080; text-decoration-color: #800080\">/data/notebooks/</span><span style=\"color: #ff00ff; text-decoration-color: #ff00ff\">nairobi</span>                          <a href=\"file:///app/.venv/lib/python3.12/site-packages/rapida/cli/assess.py\" target=\"_blank\"><span style=\"color: #7f7f7f; text-decoration-color: #7f7f7f\">assess.py</span></a><span style=\"color: #7f7f7f; text-decoration-color: #7f7f7f\">:</span><a href=\"file:///app/.venv/lib/python3.12/site-packages/rapida/cli/assess.py#182\" target=\"_blank\"><span style=\"color: #7f7f7f; text-decoration-color: #7f7f7f\">182</span></a>\n",
       "</pre>\n"
      ],
      "text/plain": [
       "\u001b[2;36m[05/09/25 09:50:37]\u001b[0m\u001b[2;36m \u001b[0m\u001b[34mINFO    \u001b[0m Current project/folder: \u001b[35m/data/notebooks/\u001b[0m\u001b[95mnairobi\u001b[0m                          \u001b]8;id=196400;file:///app/.venv/lib/python3.12/site-packages/rapida/cli/assess.py\u001b\\\u001b[2massess.py\u001b[0m\u001b]8;;\u001b\\\u001b[2m:\u001b[0m\u001b]8;id=854970;file:///app/.venv/lib/python3.12/site-packages/rapida/cli/assess.py#182\u001b\\\u001b[2m182\u001b[0m\u001b]8;;\u001b\\\n"
      ]
     },
     "metadata": {},
     "output_type": "display_data"
    },
    {
     "data": {
      "application/vnd.jupyter.widget-view+json": {
       "model_id": "69ca9809b56c43429474b1fd82c4602f",
       "version_major": 2,
       "version_minor": 0
      },
      "text/plain": [
       "Output()"
      ]
     },
     "metadata": {},
     "output_type": "display_data"
    },
    {
     "data": {
      "text/html": [
       "<pre style=\"white-space:pre;overflow-x:auto;line-height:normal;font-family:Menlo,'DejaVu Sans Mono',consolas,'Courier New',monospace\"><span style=\"color: #7fbfbf; text-decoration-color: #7fbfbf\">                    </span><span style=\"color: #000080; text-decoration-color: #000080\">INFO    </span> Assessing component <span style=\"color: #008000; text-decoration-color: #008000\">\"buildings\"</span> in  KEN                                 <a href=\"file:///app/.venv/lib/python3.12/site-packages/rapida/components/buildings/__init__.py\" target=\"_blank\"><span style=\"color: #7f7f7f; text-decoration-color: #7f7f7f\">__init__.py</span></a><span style=\"color: #7f7f7f; text-decoration-color: #7f7f7f\">:</span><a href=\"file:///app/.venv/lib/python3.12/site-packages/rapida/components/buildings/__init__.py#31\" target=\"_blank\"><span style=\"color: #7f7f7f; text-decoration-color: #7f7f7f\">31</span></a>\n",
       "</pre>\n"
      ],
      "text/plain": [
       "\u001b[2;36m                   \u001b[0m\u001b[2;36m \u001b[0m\u001b[34mINFO    \u001b[0m Assessing component \u001b[32m\"buildings\"\u001b[0m in  KEN                                 \u001b]8;id=812098;file:///app/.venv/lib/python3.12/site-packages/rapida/components/buildings/__init__.py\u001b\\\u001b[2m__init__.py\u001b[0m\u001b]8;;\u001b\\\u001b[2m:\u001b[0m\u001b]8;id=175491;file:///app/.venv/lib/python3.12/site-packages/rapida/components/buildings/__init__.py#31\u001b\\\u001b[2m31\u001b[0m\u001b]8;;\u001b\\\n"
      ]
     },
     "metadata": {},
     "output_type": "display_data"
    },
    {
     "data": {
      "text/html": [
       "<pre style=\"white-space:pre;overflow-x:auto;line-height:normal;font-family:Menlo,'DejaVu Sans Mono',consolas,'Courier New',monospace\"><span style=\"color: #7fbfbf; text-decoration-color: #7fbfbf\">                    </span><span style=\"color: #000080; text-decoration-color: #000080\">INFO    </span> Downloading nbuildings in KEN                                          <a href=\"file:///app/.venv/lib/python3.12/site-packages/rapida/components/buildings/__init__.py\" target=\"_blank\"><span style=\"color: #7f7f7f; text-decoration-color: #7f7f7f\">__init__.py</span></a><span style=\"color: #7f7f7f; text-decoration-color: #7f7f7f\">:</span><a href=\"file:///app/.venv/lib/python3.12/site-packages/rapida/components/buildings/__init__.py#116\" target=\"_blank\"><span style=\"color: #7f7f7f; text-decoration-color: #7f7f7f\">116</span></a>\n",
       "</pre>\n"
      ],
      "text/plain": [
       "\u001b[2;36m                   \u001b[0m\u001b[2;36m \u001b[0m\u001b[34mINFO    \u001b[0m Downloading nbuildings in KEN                                          \u001b]8;id=481586;file:///app/.venv/lib/python3.12/site-packages/rapida/components/buildings/__init__.py\u001b\\\u001b[2m__init__.py\u001b[0m\u001b]8;;\u001b\\\u001b[2m:\u001b[0m\u001b]8;id=315680;file:///app/.venv/lib/python3.12/site-packages/rapida/components/buildings/__init__.py#116\u001b\\\u001b[2m116\u001b[0m\u001b]8;;\u001b\\\n"
      ]
     },
     "metadata": {},
     "output_type": "display_data"
    },
    {
     "data": {
      "text/html": [
       "<pre style=\"white-space:pre;overflow-x:auto;line-height:normal;font-family:Menlo,'DejaVu Sans Mono',consolas,'Courier New',monospace\"><span style=\"color: #7fbfbf; text-decoration-color: #7fbfbf\">[05/09/25 10:06:47] </span><span style=\"color: #000080; text-decoration-color: #000080\">INFO    </span> Calculating affected buildings                                         <a href=\"file:///app/.venv/lib/python3.12/site-packages/rapida/components/buildings/__init__.py\" target=\"_blank\"><span style=\"color: #7f7f7f; text-decoration-color: #7f7f7f\">__init__.py</span></a><span style=\"color: #7f7f7f; text-decoration-color: #7f7f7f\">:</span><a href=\"file:///app/.venv/lib/python3.12/site-packages/rapida/components/buildings/__init__.py#167\" target=\"_blank\"><span style=\"color: #7f7f7f; text-decoration-color: #7f7f7f\">167</span></a>\n",
       "</pre>\n"
      ],
      "text/plain": [
       "\u001b[2;36m[05/09/25 10:06:47]\u001b[0m\u001b[2;36m \u001b[0m\u001b[34mINFO    \u001b[0m Calculating affected buildings                                         \u001b]8;id=150861;file:///app/.venv/lib/python3.12/site-packages/rapida/components/buildings/__init__.py\u001b\\\u001b[2m__init__.py\u001b[0m\u001b]8;;\u001b\\\u001b[2m:\u001b[0m\u001b]8;id=780035;file:///app/.venv/lib/python3.12/site-packages/rapida/components/buildings/__init__.py#167\u001b\\\u001b[2m167\u001b[0m\u001b]8;;\u001b\\\n"
      ]
     },
     "metadata": {},
     "output_type": "display_data"
    },
    {
     "data": {
      "text/html": [
       "<pre style=\"white-space:pre;overflow-x:auto;line-height:normal;font-family:Menlo,'DejaVu Sans Mono',consolas,'Courier New',monospace\"><span style=\"color: #7fbfbf; text-decoration-color: #7fbfbf\">[05/09/25 10:10:43] </span><span style=\"color: #000080; text-decoration-color: #000080\">INFO    </span> Evaluating variable nbuildings                                         <a href=\"file:///app/.venv/lib/python3.12/site-packages/rapida/components/buildings/__init__.py\" target=\"_blank\"><span style=\"color: #7f7f7f; text-decoration-color: #7f7f7f\">__init__.py</span></a><span style=\"color: #7f7f7f; text-decoration-color: #7f7f7f\">:</span><a href=\"file:///app/.venv/lib/python3.12/site-packages/rapida/components/buildings/__init__.py#195\" target=\"_blank\"><span style=\"color: #7f7f7f; text-decoration-color: #7f7f7f\">195</span></a>\n",
       "</pre>\n"
      ],
      "text/plain": [
       "\u001b[2;36m[05/09/25 10:10:43]\u001b[0m\u001b[2;36m \u001b[0m\u001b[34mINFO    \u001b[0m Evaluating variable nbuildings                                         \u001b]8;id=509525;file:///app/.venv/lib/python3.12/site-packages/rapida/components/buildings/__init__.py\u001b\\\u001b[2m__init__.py\u001b[0m\u001b]8;;\u001b\\\u001b[2m:\u001b[0m\u001b]8;id=517975;file:///app/.venv/lib/python3.12/site-packages/rapida/components/buildings/__init__.py#195\u001b\\\u001b[2m195\u001b[0m\u001b]8;;\u001b\\\n"
      ]
     },
     "metadata": {},
     "output_type": "display_data"
    },
    {
     "data": {
      "text/html": [
       "<pre style=\"white-space:pre;overflow-x:auto;line-height:normal;font-family:Menlo,'DejaVu Sans Mono',consolas,'Courier New',monospace\"></pre>\n"
      ],
      "text/plain": []
     },
     "metadata": {},
     "output_type": "display_data"
    }
   ],
   "source": [
    "run_cmd('assess', '-c population -v child_total')"
   ]
  },
  {
   "cell_type": "markdown",
   "id": "91ced76c-eead-4254-a65f-99dad258672c",
   "metadata": {},
   "source": [
    "##### Multiple variables"
   ]
  },
  {
   "cell_type": "code",
   "execution_count": 13,
   "id": "eb666cc2-dd20-437e-bf89-75d6d212dae1",
   "metadata": {},
   "outputs": [
    {
     "data": {
      "text/html": [
       "<pre style=\"white-space:pre;overflow-x:auto;line-height:normal;font-family:Menlo,'DejaVu Sans Mono',consolas,'Courier New',monospace\"><span style=\"color: #7fbfbf; text-decoration-color: #7fbfbf\">[05/09/25 10:11:08] </span><span style=\"color: #000080; text-decoration-color: #000080\">INFO    </span> Current project/folder: <span style=\"color: #800080; text-decoration-color: #800080\">/data/notebooks/</span><span style=\"color: #ff00ff; text-decoration-color: #ff00ff\">nairobi</span>                          <a href=\"file:///app/.venv/lib/python3.12/site-packages/rapida/cli/assess.py\" target=\"_blank\"><span style=\"color: #7f7f7f; text-decoration-color: #7f7f7f\">assess.py</span></a><span style=\"color: #7f7f7f; text-decoration-color: #7f7f7f\">:</span><a href=\"file:///app/.venv/lib/python3.12/site-packages/rapida/cli/assess.py#182\" target=\"_blank\"><span style=\"color: #7f7f7f; text-decoration-color: #7f7f7f\">182</span></a>\n",
       "</pre>\n"
      ],
      "text/plain": [
       "\u001b[2;36m[05/09/25 10:11:08]\u001b[0m\u001b[2;36m \u001b[0m\u001b[34mINFO    \u001b[0m Current project/folder: \u001b[35m/data/notebooks/\u001b[0m\u001b[95mnairobi\u001b[0m                          \u001b]8;id=206689;file:///app/.venv/lib/python3.12/site-packages/rapida/cli/assess.py\u001b\\\u001b[2massess.py\u001b[0m\u001b]8;;\u001b\\\u001b[2m:\u001b[0m\u001b]8;id=254020;file:///app/.venv/lib/python3.12/site-packages/rapida/cli/assess.py#182\u001b\\\u001b[2m182\u001b[0m\u001b]8;;\u001b\\\n"
      ]
     },
     "metadata": {},
     "output_type": "display_data"
    },
    {
     "data": {
      "application/vnd.jupyter.widget-view+json": {
       "model_id": "a0084ce78af145818240b1ad5f3148d2",
       "version_major": 2,
       "version_minor": 0
      },
      "text/plain": [
       "Output()"
      ]
     },
     "metadata": {},
     "output_type": "display_data"
    },
    {
     "data": {
      "text/html": [
       "<pre style=\"white-space:pre;overflow-x:auto;line-height:normal;font-family:Menlo,'DejaVu Sans Mono',consolas,'Courier New',monospace\"><span style=\"color: #7fbfbf; text-decoration-color: #7fbfbf\">                    </span><span style=\"color: #000080; text-decoration-color: #000080\">INFO    </span> Assessing component <span style=\"color: #008000; text-decoration-color: #008000\">\"buildings\"</span> in  KEN                                 <a href=\"file:///app/.venv/lib/python3.12/site-packages/rapida/components/buildings/__init__.py\" target=\"_blank\"><span style=\"color: #7f7f7f; text-decoration-color: #7f7f7f\">__init__.py</span></a><span style=\"color: #7f7f7f; text-decoration-color: #7f7f7f\">:</span><a href=\"file:///app/.venv/lib/python3.12/site-packages/rapida/components/buildings/__init__.py#31\" target=\"_blank\"><span style=\"color: #7f7f7f; text-decoration-color: #7f7f7f\">31</span></a>\n",
       "</pre>\n"
      ],
      "text/plain": [
       "\u001b[2;36m                   \u001b[0m\u001b[2;36m \u001b[0m\u001b[34mINFO    \u001b[0m Assessing component \u001b[32m\"buildings\"\u001b[0m in  KEN                                 \u001b]8;id=944657;file:///app/.venv/lib/python3.12/site-packages/rapida/components/buildings/__init__.py\u001b\\\u001b[2m__init__.py\u001b[0m\u001b]8;;\u001b\\\u001b[2m:\u001b[0m\u001b]8;id=218111;file:///app/.venv/lib/python3.12/site-packages/rapida/components/buildings/__init__.py#31\u001b\\\u001b[2m31\u001b[0m\u001b]8;;\u001b\\\n"
      ]
     },
     "metadata": {},
     "output_type": "display_data"
    },
    {
     "data": {
      "text/html": [
       "<pre style=\"white-space:pre;overflow-x:auto;line-height:normal;font-family:Menlo,'DejaVu Sans Mono',consolas,'Courier New',monospace\"><span style=\"color: #7fbfbf; text-decoration-color: #7fbfbf\">                    </span><span style=\"color: #000080; text-decoration-color: #000080\">INFO    </span> Evaluating variable buildings_area                                     <a href=\"file:///app/.venv/lib/python3.12/site-packages/rapida/components/buildings/__init__.py\" target=\"_blank\"><span style=\"color: #7f7f7f; text-decoration-color: #7f7f7f\">__init__.py</span></a><span style=\"color: #7f7f7f; text-decoration-color: #7f7f7f\">:</span><a href=\"file:///app/.venv/lib/python3.12/site-packages/rapida/components/buildings/__init__.py#195\" target=\"_blank\"><span style=\"color: #7f7f7f; text-decoration-color: #7f7f7f\">195</span></a>\n",
       "</pre>\n"
      ],
      "text/plain": [
       "\u001b[2;36m                   \u001b[0m\u001b[2;36m \u001b[0m\u001b[34mINFO    \u001b[0m Evaluating variable buildings_area                                     \u001b]8;id=802588;file:///app/.venv/lib/python3.12/site-packages/rapida/components/buildings/__init__.py\u001b\\\u001b[2m__init__.py\u001b[0m\u001b]8;;\u001b\\\u001b[2m:\u001b[0m\u001b]8;id=879886;file:///app/.venv/lib/python3.12/site-packages/rapida/components/buildings/__init__.py#195\u001b\\\u001b[2m195\u001b[0m\u001b]8;;\u001b\\\n"
      ]
     },
     "metadata": {},
     "output_type": "display_data"
    },
    {
     "data": {
      "text/html": [
       "<pre style=\"white-space:pre;overflow-x:auto;line-height:normal;font-family:Menlo,'DejaVu Sans Mono',consolas,'Courier New',monospace\"><span style=\"color: #7fbfbf; text-decoration-color: #7fbfbf\">[05/09/25 10:11:32] </span><span style=\"color: #000080; text-decoration-color: #000080\">INFO    </span> Evaluating variable nbuildings                                         <a href=\"file:///app/.venv/lib/python3.12/site-packages/rapida/components/buildings/__init__.py\" target=\"_blank\"><span style=\"color: #7f7f7f; text-decoration-color: #7f7f7f\">__init__.py</span></a><span style=\"color: #7f7f7f; text-decoration-color: #7f7f7f\">:</span><a href=\"file:///app/.venv/lib/python3.12/site-packages/rapida/components/buildings/__init__.py#195\" target=\"_blank\"><span style=\"color: #7f7f7f; text-decoration-color: #7f7f7f\">195</span></a>\n",
       "</pre>\n"
      ],
      "text/plain": [
       "\u001b[2;36m[05/09/25 10:11:32]\u001b[0m\u001b[2;36m \u001b[0m\u001b[34mINFO    \u001b[0m Evaluating variable nbuildings                                         \u001b]8;id=137914;file:///app/.venv/lib/python3.12/site-packages/rapida/components/buildings/__init__.py\u001b\\\u001b[2m__init__.py\u001b[0m\u001b]8;;\u001b\\\u001b[2m:\u001b[0m\u001b]8;id=933287;file:///app/.venv/lib/python3.12/site-packages/rapida/components/buildings/__init__.py#195\u001b\\\u001b[2m195\u001b[0m\u001b]8;;\u001b\\\n"
      ]
     },
     "metadata": {},
     "output_type": "display_data"
    },
    {
     "data": {
      "text/html": [
       "<pre style=\"white-space:pre;overflow-x:auto;line-height:normal;font-family:Menlo,'DejaVu Sans Mono',consolas,'Courier New',monospace\"></pre>\n"
      ],
      "text/plain": []
     },
     "metadata": {},
     "output_type": "display_data"
    }
   ],
   "source": [
    "run_cmd('assess', '-c population')"
   ]
  },
  {
   "cell_type": "markdown",
   "id": "4b792dae-e99e-4f8c-8920-ebc88b720df7",
   "metadata": {},
   "source": [
    "If the assessment has already been done, you can force the assessment by adding a `--force` flag at the end of the command arguments, this will force the download and assessment with be done all ove again"
   ]
  },
  {
   "cell_type": "code",
   "execution_count": 6,
   "id": "d0121077-49bb-4a4e-b945-30d09ac4b4b7",
   "metadata": {},
   "outputs": [
    {
     "name": "stdout",
     "output_type": "stream",
     "text": [
      "[Errno 2] No such file or directory: '(/data/notebooks/nairobi/)'\n",
      "/data/notebooks\n"
     ]
    },
    {
     "data": {
      "text/plain": [
       "['/data/notebooks', '/data/notebooks']"
      ]
     },
     "execution_count": 6,
     "metadata": {},
     "output_type": "execute_result"
    }
   ],
   "source": [
    "pushd(\"/data/notebooks/nairobi/\")"
   ]
  },
  {
   "cell_type": "code",
   "execution_count": 7,
   "id": "7028c699-188b-44e6-9153-f09caffde25f",
   "metadata": {},
   "outputs": [
    {
     "name": "stdout",
     "output_type": "stream",
     "text": [
      "Warning: Could not load config file (/data/notebooks/rapida.json): [Errno 2] No such file or directory: '/data/notebooks/rapida.json'\n"
     ]
    },
    {
     "data": {
      "text/html": [
       "<pre style=\"white-space:pre;overflow-x:auto;line-height:normal;font-family:Menlo,'DejaVu Sans Mono',consolas,'Courier New',monospace\"><span style=\"color: #7fbfbf; text-decoration-color: #7fbfbf\">[05/12/25 07:09:47] </span><span style=\"color: #800000; text-decoration-color: #800000; font-weight: bold\">ERROR   </span> Project <span style=\"color: #008000; text-decoration-color: #008000\">\"/data/notebooks\"</span> is not a valid RAPIDA project                  <a href=\"file:///app/.venv/lib/python3.12/site-packages/rapida/cli/assess.py\" target=\"_blank\"><span style=\"color: #7f7f7f; text-decoration-color: #7f7f7f\">assess.py</span></a><span style=\"color: #7f7f7f; text-decoration-color: #7f7f7f\">:</span><a href=\"file:///app/.venv/lib/python3.12/site-packages/rapida/cli/assess.py#174\" target=\"_blank\"><span style=\"color: #7f7f7f; text-decoration-color: #7f7f7f\">174</span></a>\n",
       "</pre>\n"
      ],
      "text/plain": [
       "\u001b[2;36m[05/12/25 07:09:47]\u001b[0m\u001b[2;36m \u001b[0m\u001b[1;31mERROR   \u001b[0m Project \u001b[32m\"/data/notebooks\"\u001b[0m is not a valid RAPIDA project                  \u001b]8;id=290625;file:///app/.venv/lib/python3.12/site-packages/rapida/cli/assess.py\u001b\\\u001b[2massess.py\u001b[0m\u001b]8;;\u001b\\\u001b[2m:\u001b[0m\u001b]8;id=36259;file:///app/.venv/lib/python3.12/site-packages/rapida/cli/assess.py#174\u001b\\\u001b[2m174\u001b[0m\u001b]8;;\u001b\\\n"
      ]
     },
     "metadata": {},
     "output_type": "display_data"
    }
   ],
   "source": [
    "run_cmd('assess', '-c population --force')"
   ]
  },
  {
   "cell_type": "markdown",
   "id": "78a95fd7-2f76-4d9f-9208-86d8fa4cfd7b",
   "metadata": {},
   "source": [
    "#### Other notes about Assessment"
   ]
  },
  {
   "cell_type": "markdown",
   "id": "9b59c0ad-c9d3-45b4-b787-b211689b4c12",
   "metadata": {},
   "source": [
    "If there is a mask layer supplied - that is the area that has been affected by a disaster, the assessment will automatically compute the affected version too and you will have columns in the output as follow:\n",
    "`variable`, `variable_affected`. The `variable_affected` represents the proportion of the variable that usually overlap with the mask/affected area."
   ]
  }
 ],
 "metadata": {
  "kernelspec": {
   "display_name": "Python 3 (ipykernel)",
   "language": "python",
   "name": "python3"
  },
  "language_info": {
   "codemirror_mode": {
    "name": "ipython",
    "version": 3
   },
   "file_extension": ".py",
   "mimetype": "text/x-python",
   "name": "python",
   "nbconvert_exporter": "python",
   "pygments_lexer": "ipython3",
   "version": "3.12.3"
  }
 },
 "nbformat": 4,
 "nbformat_minor": 5
}
