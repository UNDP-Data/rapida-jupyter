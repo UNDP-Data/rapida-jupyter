{
 "cells": [
  {
   "cell_type": "markdown",
   "id": "ad2dab7e-473c-4ac6-b046-035b0cd4b2af",
   "metadata": {},
   "source": [
    "## Deprivation component"
   ]
  },
  {
   "cell_type": "markdown",
   "id": "2ce803d7-3862-4ac0-b5da-76cb483479eb",
   "metadata": {},
   "source": [
    "In this notebook, we are demonstrating how to assess the deprivation component and visualize it"
   ]
  },
  {
   "cell_type": "markdown",
   "id": "d6b56a27-fab0-45e7-95a5-15bf79903bf2",
   "metadata": {},
   "source": [
    "#### Data"
   ]
  },
  {
   "cell_type": "markdown",
   "id": "91e80b7c-729c-48f8-b2d0-ca71018994b2",
   "metadata": {},
   "source": [
    "The data source used for the deprivation component is called the Global Gridded Relative Deprivation Index. It is a data set that characterizes the relative levels of multidimensional deprivation and poverty in each 30 arc-second (~1 km) pixel, where a value of 100 represents the highest level of deprivation and a value of 0 the lowest. GRDIv1 is built from sociodemographic and satellite data inputs that were spatially harmonized, indexed, and weighted into six main components to produce the final index raster. Inputs were selected from the best-available data that either continuously vary across space or have at least administrative level 1 (provincial/state) resolution, and which have global spatial coverage.\n",
    "\n",
    "You can see more about the data on [GeoHub](https://geohub.data.undp.org/data/8b885646578937906c1d2759657f98e4)"
   ]
  },
  {
   "cell_type": "markdown",
   "id": "eb2cd113-b274-4150-9a27-8687931cde62",
   "metadata": {},
   "source": [
    "### Create a project"
   ]
  },
  {
   "cell_type": "markdown",
   "id": "82b8177b-3351-4fe0-a37a-f661e2b957ee",
   "metadata": {},
   "source": [
    "To run any assessment, you need to have a project already created.\n",
    "To create a project, please follow the instruction statement in the [CreateProject](https://rapida.undpgeohub.org/hub/user-redirect/lab/tree/notebooks/CreateProject.ipynb) notebook"
   ]
  },
  {
   "cell_type": "markdown",
   "id": "b35b70c9-e518-4012-b3a0-36b1d60b2233",
   "metadata": {},
   "source": [
    "### Variables"
   ]
  },
  {
   "cell_type": "markdown",
   "id": "a52ae002-c7ad-4e93-8f6f-66857608243a",
   "metadata": {},
   "source": [
    "There are currently 3 variables for electricity component\n",
    "1. **depriv_mean**: Average value of relative deprivation index\n",
    "2. **depriv_min**: Smallest value of relative deprivation index\n",
    "3. **depriv_max**: Smallest value of relative deprivation index"
   ]
  },
  {
   "cell_type": "markdown",
   "id": "83cd43b7-d869-47f7-8b3f-8dde9545976b",
   "metadata": {},
   "source": [
    "### Assessment"
   ]
  },
  {
   "cell_type": "markdown",
   "id": "e1829731-31f8-4813-ba55-3bcaa024cbe9",
   "metadata": {},
   "source": [
    "For our purposes, we are going to load the assessment GUI to run assessment for the Deprivation component"
   ]
  },
  {
   "cell_type": "code",
   "execution_count": 1,
   "id": "321c07e1-e8b9-4e81-b4b6-4cb2605f3a29",
   "metadata": {},
   "outputs": [
    {
     "data": {
      "application/vnd.jupyter.widget-view+json": {
       "model_id": "4486e4e7c2664c30967d409cdd469621",
       "version_major": 2,
       "version_minor": 0
      },
      "text/plain": [
       "VBox(children=(HBox(children=(Text(value='', description='Email:', layout=Layout(width='200px'), placeholder='…"
      ]
     },
     "metadata": {},
     "output_type": "display_data"
    },
    {
     "name": "stderr",
     "output_type": "stream",
     "text": [
      "2025-05-12 07:47:42.446570: E external/local_xla/xla/stream_executor/cuda/cuda_fft.cc:467] Unable to register cuFFT factory: Attempting to register factory for plugin cuFFT when one has already been registered\n",
      "WARNING: All log messages before absl::InitializeLog() is called are written to STDERR\n",
      "E0000 00:00:1747036062.489611    4689 cuda_dnn.cc:8579] Unable to register cuDNN factory: Attempting to register factory for plugin cuDNN when one has already been registered\n",
      "E0000 00:00:1747036062.504381    4689 cuda_blas.cc:1407] Unable to register cuBLAS factory: Attempting to register factory for plugin cuBLAS when one has already been registered\n",
      "W0000 00:00:1747036062.525822    4689 computation_placer.cc:177] computation placer already registered. Please check linkage and avoid linking the same target more than once.\n",
      "W0000 00:00:1747036062.525859    4689 computation_placer.cc:177] computation placer already registered. Please check linkage and avoid linking the same target more than once.\n",
      "W0000 00:00:1747036062.525862    4689 computation_placer.cc:177] computation placer already registered. Please check linkage and avoid linking the same target more than once.\n",
      "W0000 00:00:1747036062.525865    4689 computation_placer.cc:177] computation placer already registered. Please check linkage and avoid linking the same target more than once.\n"
     ]
    },
    {
     "data": {
      "application/vnd.jupyter.widget-view+json": {
       "model_id": "f864fa71b5df4fc6805177ed084d7ebc",
       "version_major": 2,
       "version_minor": 0
      },
      "text/plain": [
       "Label(value='Run Assessment')"
      ]
     },
     "metadata": {},
     "output_type": "display_data"
    },
    {
     "data": {
      "application/vnd.jupyter.widget-view+json": {
       "model_id": "d22b6f89f24043308e1206331e92b1da",
       "version_major": 2,
       "version_minor": 0
      },
      "text/plain": [
       "Tab(children=(VBox(children=(Checkbox(value=False, description='Select All in Tab'), Checkbox(value=False, des…"
      ]
     },
     "metadata": {},
     "output_type": "display_data"
    },
    {
     "data": {
      "application/vnd.jupyter.widget-view+json": {
       "model_id": "0abf7442d29e4100ae6eb753657f6886",
       "version_major": 2,
       "version_minor": 0
      },
      "text/plain": [
       "HBox(children=(Button(button_style='success', description='Select All', style=ButtonStyle()), Button(button_st…"
      ]
     },
     "metadata": {},
     "output_type": "display_data"
    },
    {
     "data": {
      "application/vnd.jupyter.widget-view+json": {
       "model_id": "3c6e2ace492f43a6be70625d87b243a7",
       "version_major": 2,
       "version_minor": 0
      },
      "text/plain": [
       "Output()"
      ]
     },
     "metadata": {},
     "output_type": "display_data"
    }
   ],
   "source": [
    "from rapida_jupyter.util.assess_gui import assessment_gui\n",
    "assessment_gui(project_path=\"/data/notebooks/nairobi/\", component=\"deprivation\")"
   ]
  },
  {
   "cell_type": "markdown",
   "id": "a78a07b5-bc21-47af-958b-0ab4a9d7e16c",
   "metadata": {},
   "source": [
    "### Visualization"
   ]
  },
  {
   "cell_type": "markdown",
   "id": "2e053e60-fed4-45c8-b415-ab1a7c2df16e",
   "metadata": {},
   "source": [
    "To visualize the assessed data, We will also use the `display_data` function of rapida_jupyter package"
   ]
  },
  {
   "cell_type": "code",
   "execution_count": 2,
   "id": "735fd52a-08e7-424a-a8ef-4c91fcc07447",
   "metadata": {},
   "outputs": [
    {
     "data": {
      "application/vnd.jupyter.widget-view+json": {
       "model_id": "e9a88fae1cb8479bbd6032301697d1e6",
       "version_major": 2,
       "version_minor": 0
      },
      "text/plain": [
       "HBox(children=(Dropdown(description='Layer:', options=('polygons', 'mask', 'buildings.affected', 'stats.buildi…"
      ]
     },
     "metadata": {},
     "output_type": "display_data"
    },
    {
     "data": {
      "application/vnd.jupyter.widget-view+json": {
       "model_id": "173c3463dc714f579477cb37a96dc479",
       "version_major": 2,
       "version_minor": 0
      },
      "text/plain": [
       "Map(center=[-1.2907794985595658, 36.87149049999999], controls=(ZoomControl(options=['position', 'zoom_in_text'…"
      ]
     },
     "metadata": {},
     "output_type": "display_data"
    }
   ],
   "source": [
    "from rapida_jupyter.util.display_geodata import display_data\n",
    "display_data(gpkg_path=\"/data/notebooks/nairobi/data/nairobi.gpkg\") "
   ]
  },
  {
   "cell_type": "code",
   "execution_count": null,
   "id": "74ecbcd1-23fe-431e-8f92-df351b339091",
   "metadata": {},
   "outputs": [],
   "source": []
  }
 ],
 "metadata": {
  "kernelspec": {
   "display_name": "Python 3 (ipykernel)",
   "language": "python",
   "name": "python3"
  },
  "language_info": {
   "codemirror_mode": {
    "name": "ipython",
    "version": 3
   },
   "file_extension": ".py",
   "mimetype": "text/x-python",
   "name": "python",
   "nbconvert_exporter": "python",
   "pygments_lexer": "ipython3",
   "version": "3.12.3"
  }
 },
 "nbformat": 4,
 "nbformat_minor": 5
}
