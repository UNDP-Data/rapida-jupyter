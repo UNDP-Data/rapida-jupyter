{
 "cells": [
  {
   "cell_type": "markdown",
   "id": "ad2dab7e-473c-4ac6-b046-035b0cd4b2af",
   "metadata": {},
   "source": [
    "## GDP (Gross Domestic Product) component"
   ]
  },
  {
   "cell_type": "markdown",
   "id": "2ce803d7-3862-4ac0-b5da-76cb483479eb",
   "metadata": {},
   "source": [
    "In this notebook, we are demonstrating how to assess the GDP component and visualize it"
   ]
  },
  {
   "cell_type": "markdown",
   "id": "d6b56a27-fab0-45e7-95a5-15bf79903bf2",
   "metadata": {},
   "source": [
    "#### Data"
   ]
  },
  {
   "cell_type": "markdown",
   "id": "91e80b7c-729c-48f8-b2d0-ca71018994b2",
   "metadata": {},
   "source": [
    "The data source used for the GDP component is the Global gridded GDP data set consistent with the shared socioeconomic pathways.\n",
    "\n",
    "Dataset Description: Global Gridded GDP Dataset (2005–2100)\n",
    "\n",
    "This dataset provides a set of spatially explicit, globally gridded estimates of Gross Domestic Product (GDP) for both a historical baseline year (2005) and future projections at ten-year intervals from 2030 to 2100 under all five Shared Socioeconomic Pathways (SSPs). The data is available at two spatial resolutions: approximately 1 km (30 arc-seconds) and 0.25 degrees.\n",
    "\n",
    "Key Features:\n",
    "\n",
    "Temporal Coverage: 2005 (baseline), 2030–2100 (in 10-year intervals)\n",
    "\n",
    "Spatial Resolution: 30 arc-seconds (~1 km) and 0.25 degrees\n",
    "\n",
    "Spatial Extent: Global land areas (60°S to 90°N, 180°E to 180°W), WGS84 coordinate system\n",
    "\n",
    "Format: GeoTIFF\n",
    "\n",
    "Units: GDP in 2005 PPP USD\n",
    "\n",
    "Methodology:\n",
    "\n",
    "The dataset uses the LitPop approach, which combines:\n",
    "\n",
    "DMSP-OLS nighttime light (NTL) data\n",
    "\n",
    "LandScan Global Population database\n",
    "\n",
    "This method reduces biases found in traditional NTL-only or uniform GDP per capita disaggregation methods.\n",
    "For projections (2030–2100), national and supranational GDP growth rates under each SSP are downscaled to 1-km grids using:\n",
    "A fixed 2015 NPP-VIIRS NTL image\n",
    "Downscaled population projections (from Jones and O'Neill, 2016) aligned with 2015 LandScan patterns\n",
    "\n",
    "Data Masking:\n",
    "Values are set to zero over Antarctica, oceans, and unlit/unpopulated areas such as deserts and wilderness zones.\n",
    "\n",
    "Reference:\n",
    "Wang and Sun (2022), Global gridded GDP data set consistent with the shared socioeconomic pathways.\n",
    "\n",
    "\n",
    "Read more about this dataset here https://zenodo.org/records/5880037"
   ]
  },
  {
   "cell_type": "markdown",
   "id": "eb2cd113-b274-4150-9a27-8687931cde62",
   "metadata": {},
   "source": [
    "### Create a project"
   ]
  },
  {
   "cell_type": "markdown",
   "id": "82b8177b-3351-4fe0-a37a-f661e2b957ee",
   "metadata": {},
   "source": [
    "To run any assessment, you need to have a project already created.\n",
    "To create a project, please follow the instruction statement in the [CreateProject](https://rapida.undpgeohub.org/hub/user-redirect/lab/tree/notebooks/CreateProject.ipynb) notebook"
   ]
  },
  {
   "cell_type": "markdown",
   "id": "b35b70c9-e518-4012-b3a0-36b1d60b2233",
   "metadata": {},
   "source": [
    "### Variables"
   ]
  },
  {
   "cell_type": "markdown",
   "id": "a52ae002-c7ad-4e93-8f6f-66857608243a",
   "metadata": {},
   "source": [
    "There are currently 4 variables for electricity component\n",
    "1. **gdp_sum**: GDP sum\n",
    "2. **gdp_mean**: GDP mean\n",
    "3. **gdp_min**: GDP min\n",
    "4. **gdp_max**: GDP max"
   ]
  },
  {
   "cell_type": "markdown",
   "id": "83cd43b7-d869-47f7-8b3f-8dde9545976b",
   "metadata": {},
   "source": [
    "### Assessment"
   ]
  },
  {
   "cell_type": "markdown",
   "id": "e1829731-31f8-4813-ba55-3bcaa024cbe9",
   "metadata": {},
   "source": [
    "For our purposes, we are going to load the assessment GUI to run assessment for the GDP component"
   ]
  },
  {
   "cell_type": "code",
   "execution_count": 2,
   "id": "321c07e1-e8b9-4e81-b4b6-4cb2605f3a29",
   "metadata": {},
   "outputs": [
    {
     "data": {
      "application/vnd.jupyter.widget-view+json": {
       "model_id": "8a7b836bc4a44b09b4f2466361771736",
       "version_major": 2,
       "version_minor": 0
      },
      "text/plain": [
       "Label(value='Run Assessment')"
      ]
     },
     "metadata": {},
     "output_type": "display_data"
    },
    {
     "data": {
      "application/vnd.jupyter.widget-view+json": {
       "model_id": "3b61d2b7dea6418181b5967f8734a3eb",
       "version_major": 2,
       "version_minor": 0
      },
      "text/plain": [
       "Tab(children=(VBox(children=(Checkbox(value=False, description='Select All in Tab'), Checkbox(value=False, des…"
      ]
     },
     "metadata": {},
     "output_type": "display_data"
    },
    {
     "data": {
      "application/vnd.jupyter.widget-view+json": {
       "model_id": "87a56e54385246dcbf555e56142075a5",
       "version_major": 2,
       "version_minor": 0
      },
      "text/plain": [
       "HBox(children=(Button(button_style='success', description='Select All', style=ButtonStyle()), Button(button_st…"
      ]
     },
     "metadata": {},
     "output_type": "display_data"
    },
    {
     "data": {
      "application/vnd.jupyter.widget-view+json": {
       "model_id": "ecaaa43e67a24855a1591633d5d042b7",
       "version_major": 2,
       "version_minor": 0
      },
      "text/plain": [
       "Output()"
      ]
     },
     "metadata": {},
     "output_type": "display_data"
    }
   ],
   "source": [
    "from rapida_jupyter.util.assess_gui import assessment_gui\n",
    "assessment_gui(project_path=\"/data/demo_project/\", component=\"gdp\")"
   ]
  },
  {
   "cell_type": "markdown",
   "id": "a78a07b5-bc21-47af-958b-0ab4a9d7e16c",
   "metadata": {},
   "source": [
    "### Visualization"
   ]
  },
  {
   "cell_type": "markdown",
   "id": "2e053e60-fed4-45c8-b415-ab1a7c2df16e",
   "metadata": {},
   "source": [
    "To visualize the assessed data, We will also use the `display_data` function of rapida_jupyter package"
   ]
  },
  {
   "cell_type": "code",
   "execution_count": 3,
   "id": "735fd52a-08e7-424a-a8ef-4c91fcc07447",
   "metadata": {},
   "outputs": [
    {
     "data": {
      "application/vnd.jupyter.widget-view+json": {
       "model_id": "6389c79d5d3240a1ba3e2912a9e26e21",
       "version_major": 2,
       "version_minor": 0
      },
      "text/plain": [
       "HBox(children=(Dropdown(description='Layer:', options=('polygons', 'mask', 'buildings.affected', 'stats.buildi…"
      ]
     },
     "metadata": {},
     "output_type": "display_data"
    },
    {
     "data": {
      "application/vnd.jupyter.widget-view+json": {
       "model_id": "2948befaf7cd444b8ae23397bc9eb8a9",
       "version_major": 2,
       "version_minor": 0
      },
      "text/plain": [
       "Map(center=[-1.2907794985595658, 36.87149049999999], controls=(ZoomControl(options=['position', 'zoom_in_text'…"
      ]
     },
     "metadata": {},
     "output_type": "display_data"
    }
   ],
   "source": [
    "from rapida_jupyter.util.display_geodata import display_data\n",
    "display_data(gpkg_path=\"/data/demo_project/data/demo_project.gpkg\") "
   ]
  },
  {
   "cell_type": "code",
   "execution_count": null,
   "id": "74ecbcd1-23fe-431e-8f92-df351b339091",
   "metadata": {},
   "outputs": [],
   "source": []
  }
 ],
 "metadata": {
  "kernelspec": {
   "display_name": "Python 3 (ipykernel)",
   "language": "python",
   "name": "python3"
  },
  "language_info": {
   "codemirror_mode": {
    "name": "ipython",
    "version": 3
   },
   "file_extension": ".py",
   "mimetype": "text/x-python",
   "name": "python",
   "nbconvert_exporter": "python",
   "pygments_lexer": "ipython3",
   "version": "3.12.3"
  }
 },
 "nbformat": 4,
 "nbformat_minor": 5
}
