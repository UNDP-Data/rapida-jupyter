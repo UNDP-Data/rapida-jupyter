{
 "cells": [
  {
   "cell_type": "markdown",
   "id": "ad2dab7e-473c-4ac6-b046-035b0cd4b2af",
   "metadata": {},
   "source": [
    "## RWI (Relative Wealth Index) component"
   ]
  },
  {
   "cell_type": "markdown",
   "id": "2ce803d7-3862-4ac0-b5da-76cb483479eb",
   "metadata": {},
   "source": [
    "In this notebook, we are demonstrating how to assess the RWI component and visualize it"
   ]
  },
  {
   "cell_type": "markdown",
   "id": "d6b56a27-fab0-45e7-95a5-15bf79903bf2",
   "metadata": {},
   "source": [
    "#### Data"
   ]
  },
  {
   "cell_type": "markdown",
   "id": "91e80b7c-729c-48f8-b2d0-ca71018994b2",
   "metadata": {},
   "source": [
    "The Relative Wealth Index predicts the relative standard of living within countries using de-identified connectivity data, satellite imagery and other nontraditional data sources. The data is provided for 93 low and middle-income countries at 2.4km resolution from Meta, and additional 11 countries published between 2021 and 2023."
   ]
  },
  {
   "cell_type": "markdown",
   "id": "eb2cd113-b274-4150-9a27-8687931cde62",
   "metadata": {},
   "source": [
    "### Create a project"
   ]
  },
  {
   "cell_type": "markdown",
   "id": "82b8177b-3351-4fe0-a37a-f661e2b957ee",
   "metadata": {},
   "source": [
    "To run any assessment, you need to have a project already created.\n",
    "To create a project, please follow the instruction statement in the [CreateProject](https://rapida.undpgeohub.org/hub/user-redirect/lab/tree/notebooks/CreateProject.ipynb) notebook"
   ]
  },
  {
   "cell_type": "markdown",
   "id": "b35b70c9-e518-4012-b3a0-36b1d60b2233",
   "metadata": {},
   "source": [
    "### Variables"
   ]
  },
  {
   "cell_type": "markdown",
   "id": "a52ae002-c7ad-4e93-8f6f-66857608243a",
   "metadata": {},
   "source": [
    "There are currently 4 variables for electricity component\n",
    "1. **rwi_mean**: mean of relative wealth index\n",
    "2. **rwi_min**: min of relative wealth index\n",
    "3. **rwi_max**: max of relative wealth index"
   ]
  },
  {
   "cell_type": "markdown",
   "id": "83cd43b7-d869-47f7-8b3f-8dde9545976b",
   "metadata": {},
   "source": [
    "### Assessment"
   ]
  },
  {
   "cell_type": "markdown",
   "id": "e1829731-31f8-4813-ba55-3bcaa024cbe9",
   "metadata": {},
   "source": [
    "For our purposes, we are going to load the assessment GUI to run assessment for the RWI component"
   ]
  },
  {
   "cell_type": "code",
   "execution_count": 3,
   "id": "321c07e1-e8b9-4e81-b4b6-4cb2605f3a29",
   "metadata": {},
   "outputs": [
    {
     "data": {
      "application/vnd.jupyter.widget-view+json": {
       "model_id": "c2dfe471746f4fe39faf025a218b9527",
       "version_major": 2,
       "version_minor": 0
      },
      "text/plain": [
       "Label(value='Run Assessment')"
      ]
     },
     "metadata": {},
     "output_type": "display_data"
    },
    {
     "data": {
      "application/vnd.jupyter.widget-view+json": {
       "model_id": "632070798c8249c3a77e13c1e3cfcbf8",
       "version_major": 2,
       "version_minor": 0
      },
      "text/plain": [
       "Tab(children=(VBox(children=(Checkbox(value=False, description='Select All in Tab'), Checkbox(value=False, des…"
      ]
     },
     "metadata": {},
     "output_type": "display_data"
    },
    {
     "data": {
      "application/vnd.jupyter.widget-view+json": {
       "model_id": "260139d4ebdd498cb70df2be96c8af1e",
       "version_major": 2,
       "version_minor": 0
      },
      "text/plain": [
       "HBox(children=(Button(button_style='success', description='Select All', style=ButtonStyle()), Button(button_st…"
      ]
     },
     "metadata": {},
     "output_type": "display_data"
    },
    {
     "data": {
      "application/vnd.jupyter.widget-view+json": {
       "model_id": "f64d944cb6b346de89a95a559f1674ae",
       "version_major": 2,
       "version_minor": 0
      },
      "text/plain": [
       "Output()"
      ]
     },
     "metadata": {},
     "output_type": "display_data"
    }
   ],
   "source": [
    "from rapida_jupyter.util.assess_gui import assessment_gui\n",
    "assessment_gui(project_path=\"/data/demo_project/\", component=\"rwi\")"
   ]
  },
  {
   "cell_type": "markdown",
   "id": "a78a07b5-bc21-47af-958b-0ab4a9d7e16c",
   "metadata": {},
   "source": [
    "### Visualization"
   ]
  },
  {
   "cell_type": "markdown",
   "id": "2e053e60-fed4-45c8-b415-ab1a7c2df16e",
   "metadata": {},
   "source": [
    "To visualize the assessed data, We will also use the `display_data` function of rapida_jupyter package"
   ]
  },
  {
   "cell_type": "code",
   "execution_count": 7,
   "id": "735fd52a-08e7-424a-a8ef-4c91fcc07447",
   "metadata": {},
   "outputs": [
    {
     "data": {
      "application/vnd.jupyter.widget-view+json": {
       "model_id": "95f3519c3b4b499c8d02beae57da119d",
       "version_major": 2,
       "version_minor": 0
      },
      "text/plain": [
       "HBox(children=(Dropdown(description='Layer:', options=('polygons', 'mask', 'buildings.affected', 'stats.buildi…"
      ]
     },
     "metadata": {},
     "output_type": "display_data"
    },
    {
     "data": {
      "application/vnd.jupyter.widget-view+json": {
       "model_id": "479cb7fa624149868421ad1e821c99ea",
       "version_major": 2,
       "version_minor": 0
      },
      "text/plain": [
       "Map(center=[-1.2907794985595658, 36.87149049999999], controls=(ZoomControl(options=['position', 'zoom_in_text'…"
      ]
     },
     "metadata": {},
     "output_type": "display_data"
    }
   ],
   "source": [
    "from rapida_jupyter.util.display_geodata import display_data\n",
    "display_data(gpkg_path=\"/data/demo_project/data/demo_project.gpkg\")"
   ]
  },
  {
   "cell_type": "code",
   "execution_count": null,
   "id": "74ecbcd1-23fe-431e-8f92-df351b339091",
   "metadata": {},
   "outputs": [],
   "source": []
  }
 ],
 "metadata": {
  "kernelspec": {
   "display_name": "Python 3 (ipykernel)",
   "language": "python",
   "name": "python3"
  },
  "language_info": {
   "codemirror_mode": {
    "name": "ipython",
    "version": 3
   },
   "file_extension": ".py",
   "mimetype": "text/x-python",
   "name": "python",
   "nbconvert_exporter": "python",
   "pygments_lexer": "ipython3",
   "version": "3.12.3"
  }
 },
 "nbformat": 4,
 "nbformat_minor": 5
}
