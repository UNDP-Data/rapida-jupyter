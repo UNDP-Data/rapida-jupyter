{
 "cells": [
  {
   "cell_type": "markdown",
   "id": "ad2dab7e-473c-4ac6-b046-035b0cd4b2af",
   "metadata": {},
   "source": [
    "## Landuse component"
   ]
  },
  {
   "cell_type": "markdown",
   "id": "2ce803d7-3862-4ac0-b5da-76cb483479eb",
   "metadata": {},
   "source": [
    "In this notebook, we are demonstrating how to assess the landuse component and visualize it"
   ]
  },
  {
   "cell_type": "markdown",
   "id": "d6b56a27-fab0-45e7-95a5-15bf79903bf2",
   "metadata": {
    "jp-MarkdownHeadingCollapsed": true
   },
   "source": [
    "#### Data"
   ]
  },
  {
   "cell_type": "markdown",
   "id": "91e80b7c-729c-48f8-b2d0-ca71018994b2",
   "metadata": {},
   "source": [
    "The data source used for the landuse component sourced from the Sentinel-2-L1C collection dataset sourced from the Earth Search STAC API"
   ]
  },
  {
   "cell_type": "markdown",
   "id": "c36eccf5-9cb2-4085-b0bc-6288f55f4063",
   "metadata": {},
   "source": [
    "### Data Preprocessing"
   ]
  },
  {
   "cell_type": "markdown",
   "id": "cfb6d60d-6b94-4e57-ae1d-b4627fb07171",
   "metadata": {},
   "source": [
    "The Sentinel-2 Level 1C dataset needs to be processed so as to be usable for the landuse component. The Sentinel-2-L1C dataset is a multiband dataset composed of imagery captured by the Sentinel-2 satellite constellation, part of the European Space Agency's Copernicus program. It contains orthorectified top-of-atmosphere (TOA) reflectance data across 13 spectral bandsThese bands are available at different spatial resolutions—10m, 20m, and 60m—depending on the specific wavelength.\n",
    "\n",
    "This data is hosted on the Earth Search STAC API and is usually ver suitable for usages such as land-use classification.\n",
    "\n",
    "For our purposes, this raw data is being used to produce the land use dataset that we later use to run the evaluation and computation of landuse variables.\n",
    "\n",
    "To produce this dataset, we run a machine learning model developed and trained on historical Sentinel-2-L1C dataset by Dynamic World and Google which they use to produce a near real time Land Cover dataset. The model produces 9 land use and land cover classes as follows:\n",
    "\n",
    "0. Water\n",
    "1. Trees\n",
    "2. Grass\n",
    "3. Flooded Vegetation\n",
    "4. Crops\n",
    "5. Shrub and Scrub\n",
    "6. Built-Up Area\n",
    "7. Bare Ground\n",
    "8. Snow and Ice\n",
    "\n",
    "These values show the Estimated probability of complete coverage by the specific land cover class"
   ]
  },
  {
   "cell_type": "markdown",
   "id": "eb2cd113-b274-4150-9a27-8687931cde62",
   "metadata": {
    "jp-MarkdownHeadingCollapsed": true
   },
   "source": [
    "### Create a project"
   ]
  },
  {
   "cell_type": "markdown",
   "id": "82b8177b-3351-4fe0-a37a-f661e2b957ee",
   "metadata": {},
   "source": [
    "To run any assessment, you need to have a project already created.\n",
    "To create a project, please follow the instruction statement in the [CreateProject](https://rapida.undpgeohub.org/hub/user-redirect/lab/tree/notebooks/CreateProject.ipynb) notebook"
   ]
  },
  {
   "cell_type": "markdown",
   "id": "b35b70c9-e518-4012-b3a0-36b1d60b2233",
   "metadata": {
    "jp-MarkdownHeadingCollapsed": true
   },
   "source": [
    "### Variables"
   ]
  },
  {
   "cell_type": "markdown",
   "id": "a52ae002-c7ad-4e93-8f6f-66857608243a",
   "metadata": {},
   "source": [
    "There are currently 3 variables for land use component\n",
    "1. **built_area**: Built-up area\n",
    "2. **crops_area**: Cropland area"
   ]
  },
  {
   "cell_type": "markdown",
   "id": "83cd43b7-d869-47f7-8b3f-8dde9545976b",
   "metadata": {},
   "source": [
    "### Assessment"
   ]
  },
  {
   "cell_type": "markdown",
   "id": "e1829731-31f8-4813-ba55-3bcaa024cbe9",
   "metadata": {},
   "source": [
    "For our purposes, we are going to load the assessment GUI to run assessment for the landuse component"
   ]
  },
  {
   "cell_type": "code",
   "execution_count": 3,
   "id": "321c07e1-e8b9-4e81-b4b6-4cb2605f3a29",
   "metadata": {},
   "outputs": [
    {
     "data": {
      "application/vnd.jupyter.widget-view+json": {
       "model_id": "76c9ea9b99224651a3b8995ac411a7aa",
       "version_major": 2,
       "version_minor": 0
      },
      "text/plain": [
       "Label(value='Run Assessment')"
      ]
     },
     "metadata": {},
     "output_type": "display_data"
    },
    {
     "data": {
      "application/vnd.jupyter.widget-view+json": {
       "model_id": "1ea0d73cf9224694bc500b2732531a00",
       "version_major": 2,
       "version_minor": 0
      },
      "text/plain": [
       "Tab(children=(VBox(children=(Checkbox(value=False, description='Select All in Tab'), Checkbox(value=False, des…"
      ]
     },
     "metadata": {},
     "output_type": "display_data"
    },
    {
     "data": {
      "application/vnd.jupyter.widget-view+json": {
       "model_id": "3aee5ed6e6674d5ab7ee6f96c0a673c7",
       "version_major": 2,
       "version_minor": 0
      },
      "text/plain": [
       "HBox(children=(Button(button_style='success', description='Select All', style=ButtonStyle()), Button(button_st…"
      ]
     },
     "metadata": {},
     "output_type": "display_data"
    },
    {
     "data": {
      "application/vnd.jupyter.widget-view+json": {
       "model_id": "c03874b62ae2431b948c0c5ccae098bf",
       "version_major": 2,
       "version_minor": 0
      },
      "text/plain": [
       "Output()"
      ]
     },
     "metadata": {},
     "output_type": "display_data"
    }
   ],
   "source": [
    "from rapida_jupyter.util.assess_gui import assessment_gui\n",
    "assessment_gui(project_path=\"/data/demo_project/\", component=\"landuse\")"
   ]
  },
  {
   "cell_type": "markdown",
   "id": "a78a07b5-bc21-47af-958b-0ab4a9d7e16c",
   "metadata": {},
   "source": [
    "### Visualization"
   ]
  },
  {
   "cell_type": "markdown",
   "id": "2e053e60-fed4-45c8-b415-ab1a7c2df16e",
   "metadata": {},
   "source": [
    "To visualize the assessed data, We will also use the `display_data` function of rapida_jupyter package"
   ]
  },
  {
   "cell_type": "code",
   "execution_count": 5,
   "id": "735fd52a-08e7-424a-a8ef-4c91fcc07447",
   "metadata": {},
   "outputs": [
    {
     "data": {
      "application/vnd.jupyter.widget-view+json": {
       "model_id": "37cb4f38adb448eabd3191269fcbfa2c",
       "version_major": 2,
       "version_minor": 0
      },
      "text/plain": [
       "HBox(children=(Dropdown(description='Layer:', options=('polygons', 'mask', 'buildings.affected', 'stats.buildi…"
      ]
     },
     "metadata": {},
     "output_type": "display_data"
    },
    {
     "data": {
      "application/vnd.jupyter.widget-view+json": {
       "model_id": "e7b2b1def8d34720b37f1b46a7828b1a",
       "version_major": 2,
       "version_minor": 0
      },
      "text/plain": [
       "Map(center=[-1.2907794985595658, 36.87149049999999], controls=(ZoomControl(options=['position', 'zoom_in_text'…"
      ]
     },
     "metadata": {},
     "output_type": "display_data"
    }
   ],
   "source": [
    "from rapida_jupyter.util.display_geodata import display_data\n",
    "display_data(gpkg_path=\"/data/demo_project/data/demo_project.gpkg\") "
   ]
  },
  {
   "cell_type": "code",
   "execution_count": null,
   "id": "74ecbcd1-23fe-431e-8f92-df351b339091",
   "metadata": {},
   "outputs": [],
   "source": []
  }
 ],
 "metadata": {
  "kernelspec": {
   "display_name": "Python 3 (ipykernel)",
   "language": "python",
   "name": "python3"
  },
  "language_info": {
   "codemirror_mode": {
    "name": "ipython",
    "version": 3
   },
   "file_extension": ".py",
   "mimetype": "text/x-python",
   "name": "python",
   "nbconvert_exporter": "python",
   "pygments_lexer": "ipython3",
   "version": "3.12.3"
  }
 },
 "nbformat": 4,
 "nbformat_minor": 5
}
