{
 "cells": [
  {
   "cell_type": "markdown",
   "id": "9e72023e-ab7d-43e4-b12f-7c6441003730",
   "metadata": {},
   "source": [
    "# rapida tool"
   ]
  },
  {
   "cell_type": "markdown",
   "id": "ba51a166-6959-4772-bb0d-4cdc4855284a",
   "metadata": {},
   "source": [
    "A python tool that facilitate the assessment of natural hazards over various domains such as population, infrastructure, etc"
   ]
  },
  {
   "cell_type": "markdown",
   "id": "fae07f2c-cd08-4ad2-aec2-b34001650b31",
   "metadata": {},
   "source": [
    "As the tool is already installed in this jupyter environment and all the functionality is available, no extra installation is needed."
   ]
  },
  {
   "cell_type": "markdown",
   "id": "4e41e12b-aea0-4ab9-99fd-97d087911d4e",
   "metadata": {},
   "source": [
    "The following command shows a help message that explains the functionality of the root `rapida` command. There are several subcommands as shown\n",
    "Run the following cell"
   ]
  },
  {
   "cell_type": "markdown",
   "id": "eed4274b-094a-48bd-8ae1-0c3c5a27190e",
   "metadata": {},
   "source": [
    "Import the rapida `run_cmd` module. This allows you to run the commands\n",
    "The initialization is as simple as running the following two cells"
   ]
  },
  {
   "cell_type": "code",
   "execution_count": 1,
   "id": "297f13e2-4f80-4d3b-afef-99071ed3cd18",
   "metadata": {},
   "outputs": [
    {
     "data": {
      "application/vnd.jupyter.widget-view+json": {
       "model_id": "d85331d834a04794b7bc7e2f23e288cf",
       "version_major": 2,
       "version_minor": 0
      },
      "text/plain": [
       "VBox(children=(HBox(children=(Text(value='', description='Email:', layout=Layout(width='200px'), placeholder='…"
      ]
     },
     "metadata": {},
     "output_type": "display_data"
    },
    {
     "name": "stderr",
     "output_type": "stream",
     "text": [
      "2025-04-29 15:39:55.136585: E external/local_xla/xla/stream_executor/cuda/cuda_fft.cc:467] Unable to register cuFFT factory: Attempting to register factory for plugin cuFFT when one has already been registered\n",
      "WARNING: All log messages before absl::InitializeLog() is called are written to STDERR\n",
      "E0000 00:00:1745941195.156184    2018 cuda_dnn.cc:8579] Unable to register cuDNN factory: Attempting to register factory for plugin cuDNN when one has already been registered\n",
      "E0000 00:00:1745941195.161826    2018 cuda_blas.cc:1407] Unable to register cuBLAS factory: Attempting to register factory for plugin cuBLAS when one has already been registered\n",
      "W0000 00:00:1745941195.176647    2018 computation_placer.cc:177] computation placer already registered. Please check linkage and avoid linking the same target more than once.\n",
      "W0000 00:00:1745941195.176674    2018 computation_placer.cc:177] computation placer already registered. Please check linkage and avoid linking the same target more than once.\n",
      "W0000 00:00:1745941195.176676    2018 computation_placer.cc:177] computation placer already registered. Please check linkage and avoid linking the same target more than once.\n",
      "W0000 00:00:1745941195.176677    2018 computation_placer.cc:177] computation placer already registered. Please check linkage and avoid linking the same target more than once.\n"
     ]
    }
   ],
   "source": [
    "from rapida.cli.run import run_cmd"
   ]
  },
  {
   "cell_type": "code",
   "execution_count": 8,
   "id": "106868cb-c3b0-4286-bdc8-66a35a7764a8",
   "metadata": {},
   "outputs": [
    {
     "name": "stdout",
     "output_type": "stream",
     "text": [
      "Welcome to rapida CLI tool!\n",
      "Initialization was done. config file was saved to /home/joseph/.rapida/config.json\n"
     ]
    }
   ],
   "source": [
    "run_cmd('init', '--no-input')"
   ]
  },
  {
   "cell_type": "code",
   "execution_count": null,
   "id": "29e1864a-3832-4ec9-9350-6c53ea76fffc",
   "metadata": {},
   "outputs": [],
   "source": []
  }
 ],
 "metadata": {
  "kernelspec": {
   "display_name": "Python 3 (ipykernel)",
   "language": "python",
   "name": "python3"
  },
  "language_info": {
   "codemirror_mode": {
    "name": "ipython",
    "version": 3
   },
   "file_extension": ".py",
   "mimetype": "text/x-python",
   "name": "python",
   "nbconvert_exporter": "python",
   "pygments_lexer": "ipython3",
   "version": "3.12.3"
  }
 },
 "nbformat": 4,
 "nbformat_minor": 5
}
