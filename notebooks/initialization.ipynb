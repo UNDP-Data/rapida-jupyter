{
 "cells": [
  {
   "cell_type": "markdown",
   "id": "9e72023e-ab7d-43e4-b12f-7c6441003730",
   "metadata": {},
   "source": [
    "# rapida tool"
   ]
  },
  {
   "cell_type": "markdown",
   "id": "ba51a166-6959-4772-bb0d-4cdc4855284a",
   "metadata": {},
   "source": [
    "A python tool that facilitate the assessment of natural hazards over various domains such as population, infrastructure, etc"
   ]
  },
  {
   "cell_type": "markdown",
   "id": "fae07f2c-cd08-4ad2-aec2-b34001650b31",
   "metadata": {},
   "source": [
    "As the tool is already installed in this jupyter environment and all the functionality is available, no extra installation is needed."
   ]
  },
  {
   "cell_type": "markdown",
   "id": "4e41e12b-aea0-4ab9-99fd-97d087911d4e",
   "metadata": {},
   "source": [
    "The following command shows a help message that explains the functionality of the root `rapida` command. There are several subcommands as shown\n",
    "Run the following cell"
   ]
  },
  {
   "cell_type": "markdown",
   "id": "eed4274b-094a-48bd-8ae1-0c3c5a27190e",
   "metadata": {},
   "source": [
    "Import the rapida `run_cmd` module. This allows you to run the commands\n",
    "The initialization is as simple as running the following two cells"
   ]
  },
  {
   "cell_type": "code",
   "execution_count": null,
   "id": "297f13e2-4f80-4d3b-afef-99071ed3cd18",
   "metadata": {},
   "outputs": [],
   "source": [
    "from rapida.cli.run import run_cmd"
   ]
  },
  {
   "cell_type": "code",
   "execution_count": 8,
   "id": "106868cb-c3b0-4286-bdc8-66a35a7764a8",
   "metadata": {},
   "outputs": [
    {
     "name": "stdout",
     "output_type": "stream",
     "text": [
      "Welcome to rapida CLI tool!\n",
      "Initialization was done. config file was saved to /home/joseph/.rapida/config.json\n"
     ]
    }
   ],
   "source": [
    "run_cmd('init', '--no-input')"
   ]
  },
  {
   "cell_type": "code",
   "execution_count": null,
   "id": "29e1864a-3832-4ec9-9350-6c53ea76fffc",
   "metadata": {},
   "outputs": [],
   "source": []
  }
 ],
 "metadata": {
  "kernelspec": {
   "display_name": "Python 3 (ipykernel)",
   "language": "python",
   "name": "python3"
  },
  "language_info": {
   "codemirror_mode": {
    "name": "ipython",
    "version": 3
   },
   "file_extension": ".py",
   "mimetype": "text/x-python",
   "name": "python",
   "nbconvert_exporter": "python",
   "pygments_lexer": "ipython3",
   "version": "3.12.3"
  }
 },
 "nbformat": 4,
 "nbformat_minor": 5
}
