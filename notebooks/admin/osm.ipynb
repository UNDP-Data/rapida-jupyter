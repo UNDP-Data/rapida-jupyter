{
 "cells": [
  {
   "cell_type": "markdown",
   "id": "304187f8-b999-4bc2-b21b-683aa03e7bc9",
   "metadata": {},
   "source": [
    "# Introduction: Open Street Map(OSM)"
   ]
  },
  {
   "cell_type": "markdown",
   "id": "0fc185d4-4ecd-43a1-91d2-dbc7c7cb34da",
   "metadata": {},
   "source": [
    "The Admin dataset from **OSM** (Open Street Map) is a collection of administrative boundaries collected and maintained by volunteers worldwide. It defines the different levels of political and administrative divisions within a country.\n",
    "\n",
    "What's inside?\n",
    "\n",
    "**Admin Levels** (different layers of boundaries, e.g., country = level 2, county = level 4, district = level 6, etc.)\n",
    "\n",
    "**Names and Codes** (official names of regions and sometimes unique identifiers)\n",
    "\n",
    "**Geometry Data** (shapes that define the boundary lines)\n",
    "\n",
    "\n",
    "There are 2 ways in which you can access OSM admin data using the rapida tool:\n",
    "1. using the API\n",
    "2. Using the (CLI) Commandline Interface"
   ]
  },
  {
   "cell_type": "markdown",
   "id": "82de2f38-6d71-48c3-8a0b-b527e9c2f6be",
   "metadata": {},
   "source": [
    "### 1: Using the API"
   ]
  },
  {
   "cell_type": "markdown",
   "id": "7331b31c-faaa-48a6-9106-347421b8824d",
   "metadata": {},
   "source": [
    "Step 1: Import the necessary packages."
   ]
  },
  {
   "cell_type": "code",
   "execution_count": 1,
   "id": "b89eb542-a269-4981-a058-5f96479d3944",
   "metadata": {},
   "outputs": [],
   "source": [
    "import json\n",
    "from rapida.admin import osm\n",
    "from rapida.admin.osm import fetch_admin, get_admin0_bbox\n",
    "from rapida.cli.admin import save"
   ]
  },
  {
   "cell_type": "markdown",
   "id": "fe28c5bf-e3f9-4f85-84f6-035b95fefbc5",
   "metadata": {},
   "source": [
    "We can get the admin0 bounding box by calling the get_adm0_bbox() and passing the iso3 code"
   ]
  },
  {
   "cell_type": "code",
   "execution_count": 2,
   "id": "bd3c964c-2a3b-4f8c-8be6-3825a453ce2f",
   "metadata": {},
   "outputs": [
    {
     "data": {
      "text/plain": [
       "(33.9096888, -4.8995204, 41.9067502, 4.62)"
      ]
     },
     "execution_count": 2,
     "metadata": {},
     "output_type": "execute_result"
    }
   ],
   "source": [
    "bbox = get_admin0_bbox(iso3='KEN')\n",
    "bbox"
   ]
  },
  {
   "cell_type": "markdown",
   "id": "e2d79223-0374-446b-84a1-a3fbf9415b40",
   "metadata": {},
   "source": [
    "To fetch the admin level 1 for the country `KEN`, run the following cell"
   ]
  },
  {
   "cell_type": "code",
   "execution_count": 4,
   "id": "af0b5551-a274-4834-abe6-132fe9e8abb3",
   "metadata": {},
   "outputs": [
    {
     "data": {
      "text/html": [
       "<pre style=\"white-space:pre;overflow-x:auto;line-height:normal;font-family:Menlo,'DejaVu Sans Mono',consolas,'Courier New',monospace\"><span style=\"color: #7fbfbf; text-decoration-color: #7fbfbf\">[05/19/25 15:04:50] </span><span style=\"color: #000080; text-decoration-color: #000080\">INFO    </span> Going to fetch  admin level <span style=\"color: #008080; text-decoration-color: #008080; font-weight: bold\">1</span> boundaries from OSM level <span style=\"color: #008080; text-decoration-color: #008080; font-weight: bold\">3</span>                   <a href=\"file:///home/thuha/.local/share/virtualenvs/rapida-jupyter-MCgerfVC/lib/python3.12/site-packages/rapida/admin/osm.py\" target=\"_blank\"><span style=\"color: #7f7f7f; text-decoration-color: #7f7f7f\">osm.py</span></a><span style=\"color: #7f7f7f; text-decoration-color: #7f7f7f\">:</span><a href=\"file:///home/thuha/.local/share/virtualenvs/rapida-jupyter-MCgerfVC/lib/python3.12/site-packages/rapida/admin/osm.py#239\" target=\"_blank\"><span style=\"color: #7f7f7f; text-decoration-color: #7f7f7f\">239</span></a>\n",
       "</pre>\n"
      ],
      "text/plain": [
       "\u001b[2;36m[05/19/25 15:04:50]\u001b[0m\u001b[2;36m \u001b[0m\u001b[34mINFO    \u001b[0m Going to fetch  admin level \u001b[1;36m1\u001b[0m boundaries from OSM level \u001b[1;36m3\u001b[0m                   \u001b]8;id=663453;file:///home/thuha/.local/share/virtualenvs/rapida-jupyter-MCgerfVC/lib/python3.12/site-packages/rapida/admin/osm.py\u001b\\\u001b[2mosm.py\u001b[0m\u001b]8;;\u001b\\\u001b[2m:\u001b[0m\u001b]8;id=509649;file:///home/thuha/.local/share/virtualenvs/rapida-jupyter-MCgerfVC/lib/python3.12/site-packages/rapida/admin/osm.py#239\u001b\\\u001b[2m239\u001b[0m\u001b]8;;\u001b\\\n"
      ]
     },
     "metadata": {},
     "output_type": "display_data"
    },
    {
     "name": "stderr",
     "output_type": "stream",
     "text": [
      "Downloading ...: 100%|████████████████████████████████████████████████████████████████████████████████████████████████████████████████████████████████████████████████████████████████████| 14/14 [00:17<00:00,  1.28s/it, finished]\n"
     ]
    }
   ],
   "source": [
    "data = fetch_admin(bbox=bbox, admin_level=1, clip=False) # the fetch_admin returns python dictionary representing a geojson object\n",
    "if data is not None:\n",
    "    save(geojson_dict=data, dst_path='admin1_osm.geojson', layer_name='admin1')"
   ]
  },
  {
   "cell_type": "markdown",
   "id": "89bd7de4-a7d5-4f81-91ce-dea38b72d18a",
   "metadata": {},
   "source": [
    "### 2. Visualizing the downloaded admin data"
   ]
  },
  {
   "cell_type": "markdown",
   "id": "6524afdc-2d83-479d-bcb4-657eb0056e5f",
   "metadata": {},
   "source": [
    "1. import the leafmap package"
   ]
  },
  {
   "cell_type": "code",
   "execution_count": 5,
   "id": "760e102e-1464-4f80-a1b7-d860b6ab3320",
   "metadata": {},
   "outputs": [],
   "source": [
    "import leafmap"
   ]
  },
  {
   "cell_type": "code",
   "execution_count": 6,
   "id": "7964b275-a555-44e9-a86d-15c1c3f087b1",
   "metadata": {},
   "outputs": [],
   "source": [
    "m = leafmap.Map(center=(0.35, 38.48), zoom=6) # set the center and zoom level to an appropriate values to see the result without having to pan the map"
   ]
  },
  {
   "cell_type": "code",
   "execution_count": 7,
   "id": "79cb369e-2f90-4e5c-8323-effed39d57db",
   "metadata": {},
   "outputs": [
    {
     "data": {
      "application/vnd.jupyter.widget-view+json": {
       "model_id": "9f5b79d95609496ca8824e328474ec52",
       "version_major": 2,
       "version_minor": 0
      },
      "text/plain": [
       "Map(center=[0.35, 38.48], controls=(ZoomControl(options=['position', 'zoom_in_text', 'zoom_in_title', 'zoom_ou…"
      ]
     },
     "execution_count": 7,
     "metadata": {},
     "output_type": "execute_result"
    }
   ],
   "source": [
    "geojson_path = \"admin1_osm.geojson\"\n",
    "m.add_geojson(geojson_path, layer_name=\"admin1\")\n",
    "m"
   ]
  },
  {
   "cell_type": "markdown",
   "id": "575ee4e8-e0d6-4b18-a276-d299a150e0e8",
   "metadata": {},
   "source": [
    "### 3: Using the Command Line interface"
   ]
  },
  {
   "cell_type": "markdown",
   "id": "053aae9f-7d14-4af8-a241-78fc7db94d73",
   "metadata": {},
   "source": [
    "You can also fetch admin data using the rapida cli. The following command is necessary:\n",
    "\n",
    "> **💡 Note:**\n",
    "Before you run this command, you **have to be authenticated** and have the rapida tool **initialized** the steps to authenticate and initialize are specified in this [notebook](https://rapida.undpgeohub.org/hub/user-redirect/lab/tree/jin/20240213_training/20240213_population.ipynb)\n"
   ]
  },
  {
   "cell_type": "code",
   "execution_count": 10,
   "id": "d539d5b3-25d5-49ea-abe7-75d842f3bf1e",
   "metadata": {},
   "outputs": [
    {
     "data": {
      "text/html": [
       "<pre style=\"white-space:pre;overflow-x:auto;line-height:normal;font-family:Menlo,'DejaVu Sans Mono',consolas,'Courier New',monospace\"><span style=\"color: #7fbfbf; text-decoration-color: #7fbfbf\">[05/19/25 15:15:28] </span><span style=\"color: #000080; text-decoration-color: #000080\">INFO    </span> Going to fetch  admin level <span style=\"color: #008080; text-decoration-color: #008080; font-weight: bold\">2</span> boundaries from OSM level <span style=\"color: #008080; text-decoration-color: #008080; font-weight: bold\">4</span>                   <a href=\"file:///home/thuha/.local/share/virtualenvs/rapida-jupyter-MCgerfVC/lib/python3.12/site-packages/rapida/admin/osm.py\" target=\"_blank\"><span style=\"color: #7f7f7f; text-decoration-color: #7f7f7f\">osm.py</span></a><span style=\"color: #7f7f7f; text-decoration-color: #7f7f7f\">:</span><a href=\"file:///home/thuha/.local/share/virtualenvs/rapida-jupyter-MCgerfVC/lib/python3.12/site-packages/rapida/admin/osm.py#239\" target=\"_blank\"><span style=\"color: #7f7f7f; text-decoration-color: #7f7f7f\">239</span></a>\n",
       "</pre>\n"
      ],
      "text/plain": [
       "\u001b[2;36m[05/19/25 15:15:28]\u001b[0m\u001b[2;36m \u001b[0m\u001b[34mINFO    \u001b[0m Going to fetch  admin level \u001b[1;36m2\u001b[0m boundaries from OSM level \u001b[1;36m4\u001b[0m                   \u001b]8;id=349442;file:///home/thuha/.local/share/virtualenvs/rapida-jupyter-MCgerfVC/lib/python3.12/site-packages/rapida/admin/osm.py\u001b\\\u001b[2mosm.py\u001b[0m\u001b]8;;\u001b\\\u001b[2m:\u001b[0m\u001b]8;id=684651;file:///home/thuha/.local/share/virtualenvs/rapida-jupyter-MCgerfVC/lib/python3.12/site-packages/rapida/admin/osm.py#239\u001b\\\u001b[2m239\u001b[0m\u001b]8;;\u001b\\\n"
      ]
     },
     "metadata": {},
     "output_type": "display_data"
    },
    {
     "name": "stderr",
     "output_type": "stream",
     "text": [
      "Downloading ...: 100%|████████████████████████████████████████████████████████████████████████████████████████████████████████████████████████████████████████████████████████████████████| 35/35 [00:36<00:00,  1.04s/it, finished]\n"
     ]
    }
   ],
   "source": [
    "from rapida.cli.run import run_cmd\n",
    "run_cmd('admin', 'osm --bbox=33.681335,-0.131836,35.966492,1.158979 --admin_level=2 --clip admin2_osm_cli.geojson')"
   ]
  },
  {
   "cell_type": "markdown",
   "id": "9a2e0ba8-ef94-4b48-abc7-4aafe6a80597",
   "metadata": {},
   "source": [
    "Running the `rapida admin ocha` command will give you a help message of the command and the different options that you could use as follows"
   ]
  },
  {
   "cell_type": "markdown",
   "id": "a5191ac2-d343-4f23-b21d-030b812c1ece",
   "metadata": {},
   "source": [
    "### 4: Visualizing the downloaded admin data"
   ]
  },
  {
   "cell_type": "markdown",
   "id": "9f8c7f47-f8d5-4a12-bbfa-f26fc3980f12",
   "metadata": {},
   "source": [
    "We use the [leafmap](https://github.com/opengeos/leafmap) package to visualize the data on this notebook"
   ]
  },
  {
   "cell_type": "code",
   "execution_count": 11,
   "id": "fb652cb7-4197-488a-8bfe-fb89e040a9a1",
   "metadata": {},
   "outputs": [],
   "source": [
    "from rapida_jupyter.util.display_geodata import display_data"
   ]
  },
  {
   "cell_type": "code",
   "execution_count": 12,
   "id": "420fad7b-0839-4e5f-b20c-79276f740c7e",
   "metadata": {},
   "outputs": [],
   "source": [
    "gpkg_path = \"/data/admin/admin1.gpkg\""
   ]
  },
  {
   "cell_type": "code",
   "execution_count": 13,
   "id": "cec58597-f4d1-4292-9010-ee208b188284",
   "metadata": {},
   "outputs": [
    {
     "data": {
      "application/vnd.jupyter.widget-view+json": {
       "model_id": "f0a8895e2eff42749096dd5ba5403333",
       "version_major": 2,
       "version_minor": 0
      },
      "text/plain": [
       "Map(center=[0.35, 38.48], controls=(ZoomControl(options=['position', 'zoom_in_text', 'zoom_in_title', 'zoom_ou…"
      ]
     },
     "execution_count": 13,
     "metadata": {},
     "output_type": "execute_result"
    }
   ],
   "source": [
    "display_data(gpkg_path=gpkg_path)"
   ]
  },
  {
   "cell_type": "code",
   "execution_count": null,
   "id": "e8c1544c-5df5-41ff-a429-554a7b749870",
   "metadata": {},
   "outputs": [],
   "source": []
  }
 ],
 "metadata": {
  "kernelspec": {
   "display_name": "Python 3 (ipykernel)",
   "language": "python",
   "name": "python3"
  },
  "language_info": {
   "codemirror_mode": {
    "name": "ipython",
    "version": 3
   },
   "file_extension": ".py",
   "mimetype": "text/x-python",
   "name": "python",
   "nbconvert_exporter": "python",
   "pygments_lexer": "ipython3",
   "version": "3.12.3"
  }
 },
 "nbformat": 4,
 "nbformat_minor": 5
}
