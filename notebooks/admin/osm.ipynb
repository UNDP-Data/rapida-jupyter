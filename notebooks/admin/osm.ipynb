{
 "cells": [
  {
   "cell_type": "markdown",
   "id": "304187f8-b999-4bc2-b21b-683aa03e7bc9",
   "metadata": {},
   "source": [
    "# Introduction: Open Street Map(OSM)"
   ]
  },
  {
   "cell_type": "markdown",
   "id": "0fc185d4-4ecd-43a1-91d2-dbc7c7cb34da",
   "metadata": {},
   "source": [
    "The Admin dataset from **OSM** (Open Street Map) is a collection of administrative boundaries collected and maintained by volunteers worldwide. It defines the different levels of political and administrative divisions within a country.\n",
    "\n",
    "What's inside?\n",
    "\n",
    "**Admin Levels** (different layers of boundaries, e.g., country = level 2, county = level 4, district = level 6, etc.)\n",
    "\n",
    "**Names and Codes** (official names of regions and sometimes unique identifiers)\n",
    "\n",
    "**Geometry Data** (shapes that define the boundary lines)\n",
    "\n",
    "\n",
    "There are 2 ways in which you can access OSM admin data using the rapida tool:\n",
    "1. using the API\n",
    "2. Using the (CLI) Commandline Interface"
   ]
  },
  {
   "cell_type": "markdown",
   "id": "82de2f38-6d71-48c3-8a0b-b527e9c2f6be",
   "metadata": {},
   "source": [
    "### 1: Using the API"
   ]
  },
  {
   "cell_type": "markdown",
   "id": "7331b31c-faaa-48a6-9106-347421b8824d",
   "metadata": {},
   "source": [
    "Step 1: Import the necessary packages."
   ]
  },
  {
   "cell_type": "code",
   "execution_count": 1,
   "id": "b89eb542-a269-4981-a058-5f96479d3944",
   "metadata": {},
   "outputs": [],
   "source": [
    "import json\n",
    "from cbsurge.admin import osm, save\n",
    "from cbsurge.admin.osm import fetch_admin, get_admin0_bbox\n"
   ]
  },
  {
   "cell_type": "markdown",
   "id": "fe28c5bf-e3f9-4f85-84f6-035b95fefbc5",
   "metadata": {},
   "source": [
    "We can get the admin0 bounding box by calling the get_adm0_bbox() and passing the iso3 code"
   ]
  },
  {
   "cell_type": "code",
   "execution_count": 2,
   "id": "bd3c964c-2a3b-4f8c-8be6-3825a453ce2f",
   "metadata": {},
   "outputs": [
    {
     "data": {
      "text/plain": [
       "(33.9096888, -4.8995204, 41.9067502, 4.62)"
      ]
     },
     "execution_count": 2,
     "metadata": {},
     "output_type": "execute_result"
    }
   ],
   "source": [
    "bbox = get_admin0_bbox(iso3='KEN')\n",
    "bbox"
   ]
  },
  {
   "cell_type": "markdown",
   "id": "e2d79223-0374-446b-84a1-a3fbf9415b40",
   "metadata": {},
   "source": [
    "To fetch the admin level 1 for the country `KEN`, run the following cell"
   ]
  },
  {
   "cell_type": "code",
   "execution_count": 3,
   "id": "af0b5551-a274-4834-abe6-132fe9e8abb3",
   "metadata": {},
   "outputs": [
    {
     "name": "stderr",
     "output_type": "stream",
     "text": [
      "Downloading ...: 100%|██████████| 14/14 [00:17<00:00,  1.24s/it, finished]       \n"
     ]
    }
   ],
   "source": [
    "data = fetch_admin(bbox=bbox, admin_level=1, clip=False) # the fetch_admin returns python dictionary representing a geojson object\n",
    "if data is not None:\n",
    "    save(geojson_dict=data, dst_path='data/admin1_osm.geojson', layer_name='admin1')"
   ]
  },
  {
   "cell_type": "markdown",
   "id": "89bd7de4-a7d5-4f81-91ce-dea38b72d18a",
   "metadata": {},
   "source": [
    "### 2. Visualizing the downloaded admin data"
   ]
  },
  {
   "cell_type": "markdown",
   "id": "6524afdc-2d83-479d-bcb4-657eb0056e5f",
   "metadata": {},
   "source": [
    "1. import the leafmap package"
   ]
  },
  {
   "cell_type": "code",
   "execution_count": 4,
   "id": "760e102e-1464-4f80-a1b7-d860b6ab3320",
   "metadata": {},
   "outputs": [],
   "source": [
    "import leafmap"
   ]
  },
  {
   "cell_type": "code",
   "execution_count": 5,
   "id": "7964b275-a555-44e9-a86d-15c1c3f087b1",
   "metadata": {},
   "outputs": [],
   "source": [
    "m = leafmap.Map(center=(0.35, 38.48), zoom=6) # set the center and zoom level to an appropriate values to see the result without having to pan the map"
   ]
  },
  {
   "cell_type": "code",
   "execution_count": 6,
   "id": "79cb369e-2f90-4e5c-8323-effed39d57db",
   "metadata": {},
   "outputs": [
    {
     "data": {
      "application/vnd.jupyter.widget-view+json": {
       "model_id": "c914c97a25a64430b5d395748ddb409e",
       "version_major": 2,
       "version_minor": 0
      },
      "text/plain": [
       "Map(center=[0.35, 38.48], controls=(ZoomControl(options=['position', 'zoom_in_text', 'zoom_in_title', 'zoom_ou…"
      ]
     },
     "execution_count": 6,
     "metadata": {},
     "output_type": "execute_result"
    }
   ],
   "source": [
    "geojson_path = \"data/admin1_osm.geojson\"\n",
    "m.add_geojson(geojson_path, layer_name=\"admin1\")\n",
    "m"
   ]
  },
  {
   "cell_type": "markdown",
   "id": "575ee4e8-e0d6-4b18-a276-d299a150e0e8",
   "metadata": {},
   "source": [
    "### 3: Using the Command Line interface"
   ]
  },
  {
   "cell_type": "markdown",
   "id": "053aae9f-7d14-4af8-a241-78fc7db94d73",
   "metadata": {},
   "source": [
    "You can also fetch admin data using the rapida cli. The following command is necessary:\n",
    "\n",
    "> **💡 Note:**\n",
    "Before you run this command, you **have to be authenticated** and have the rapida tool **initialized** the steps to authenticate and initialize are specified in this [notebook](https://rapida.undpgeohub.org/hub/user-redirect/lab/tree/jin/20240213_training/20240213_population.ipynb)\n"
   ]
  },
  {
   "cell_type": "code",
   "execution_count": 7,
   "id": "d539d5b3-25d5-49ea-abe7-75d842f3bf1e",
   "metadata": {},
   "outputs": [
    {
     "name": "stdout",
     "output_type": "stream",
     "text": [
      "2025-02-13 12:26:11,183 - INFO - HTTP Request: POST https://overpass-api.de/api/interpreter \"HTTP/1.1 200 OK\"\n",
      "2025-02-13 12:26:11,812 - INFO - Going to fetch  admin level 2 boundaries from OSM level 4\n",
      "2025-02-13 12:26:12,684 - INFO - HTTP Request: POST https://overpass-api.de/api/interpreter \"HTTP/1.1 200 OK\"\n",
      "2025-02-13 12:26:13,426 - INFO - HTTP Request: POST https://overpass-api.de/api/interpreter \"HTTP/1.1 200 OK\"\n",
      "2025-02-13 12:26:14,134 - INFO - HTTP Request: POST https://overpass-api.de/api/interpreter \"HTTP/1.1 200 OK\"\n",
      "2025-02-13 12:26:14,850 - INFO - HTTP Request: POST https://overpass-api.de/api/interpreter \"HTTP/1.1 200 OK\"\n",
      "2025-02-13 12:26:15,832 - INFO - HTTP Request: POST https://overpass-api.de/api/interpreter \"HTTP/1.1 200 OK\"\n",
      "2025-02-13 12:26:16,455 - INFO - HTTP Request: POST https://overpass-api.de/api/interpreter \"HTTP/1.1 200 OK\"\n",
      "2025-02-13 12:26:17,058 - INFO - HTTP Request: POST https://overpass-api.de/api/interpreter \"HTTP/1.1 200 OK\"\n",
      "2025-02-13 12:26:17,655 - INFO - HTTP Request: POST https://overpass-api.de/api/interpreter \"HTTP/1.1 200 OK\"\n",
      "2025-02-13 12:26:18,469 - INFO - HTTP Request: POST https://overpass-api.de/api/interpreter \"HTTP/1.1 200 OK\"\n",
      "2025-02-13 12:26:19,142 - INFO - HTTP Request: POST https://overpass-api.de/api/interpreter \"HTTP/1.1 200 OK\"\n",
      "2025-02-13 12:26:19,901 - INFO - HTTP Request: POST https://overpass-api.de/api/interpreter \"HTTP/1.1 200 OK\"\n",
      "2025-02-13 12:26:20,821 - INFO - HTTP Request: POST https://overpass-api.de/api/interpreter \"HTTP/1.1 200 OK\"\n",
      "2025-02-13 12:26:21,629 - INFO - HTTP Request: POST https://overpass-api.de/api/interpreter \"HTTP/1.1 200 OK\"\n",
      "2025-02-13 12:26:22,449 - INFO - HTTP Request: POST https://overpass-api.de/api/interpreter \"HTTP/1.1 200 OK\"\n",
      "2025-02-13 12:26:23,195 - INFO - HTTP Request: POST https://overpass-api.de/api/interpreter \"HTTP/1.1 200 OK\"\n",
      "2025-02-13 12:26:24,029 - INFO - HTTP Request: POST https://overpass-api.de/api/interpreter \"HTTP/1.1 200 OK\"\n",
      "2025-02-13 12:26:24,638 - INFO - HTTP Request: POST https://overpass-api.de/api/interpreter \"HTTP/1.1 200 OK\"\n",
      "2025-02-13 12:26:25,996 - INFO - HTTP Request: POST https://overpass-api.de/api/interpreter \"HTTP/1.1 200 OK\"\n",
      "2025-02-13 12:26:26,556 - INFO - HTTP Request: POST https://overpass-api.de/api/interpreter \"HTTP/1.1 200 OK\"\n",
      "2025-02-13 12:26:27,154 - INFO - HTTP Request: POST https://overpass-api.de/api/interpreter \"HTTP/1.1 200 OK\"\n",
      "2025-02-13 12:26:27,831 - INFO - HTTP Request: POST https://overpass-api.de/api/interpreter \"HTTP/1.1 200 OK\"\n",
      "2025-02-13 12:26:28,584 - INFO - HTTP Request: POST https://overpass-api.de/api/interpreter \"HTTP/1.1 200 OK\"\n",
      "2025-02-13 12:26:29,634 - INFO - HTTP Request: POST https://overpass-api.de/api/interpreter \"HTTP/1.1 200 OK\"\n",
      "2025-02-13 12:26:30,557 - INFO - HTTP Request: POST https://overpass-api.de/api/interpreter \"HTTP/1.1 200 OK\"\n",
      "2025-02-13 12:26:31,198 - INFO - HTTP Request: POST https://overpass-api.de/api/interpreter \"HTTP/1.1 200 OK\"\n",
      "2025-02-13 12:26:31,876 - INFO - HTTP Request: POST https://overpass-api.de/api/interpreter \"HTTP/1.1 200 OK\"\n",
      "2025-02-13 12:26:32,580 - INFO - HTTP Request: POST https://overpass-api.de/api/interpreter \"HTTP/1.1 200 OK\"\n",
      "2025-02-13 12:26:33,141 - INFO - HTTP Request: POST https://overpass-api.de/api/interpreter \"HTTP/1.1 200 OK\"\n",
      "2025-02-13 12:26:34,136 - INFO - HTTP Request: POST https://overpass-api.de/api/interpreter \"HTTP/1.1 200 OK\"\n",
      "2025-02-13 12:26:34,777 - INFO - HTTP Request: POST https://overpass-api.de/api/interpreter \"HTTP/1.1 200 OK\"\n",
      "2025-02-13 12:26:35,515 - INFO - HTTP Request: POST https://overpass-api.de/api/interpreter \"HTTP/1.1 200 OK\"\n",
      "2025-02-13 12:26:36,246 - INFO - HTTP Request: POST https://overpass-api.de/api/interpreter \"HTTP/1.1 200 OK\"\n",
      "2025-02-13 12:26:38,804 - INFO - HTTP Request: POST https://overpass-api.de/api/interpreter \"HTTP/1.1 200 OK\"\n",
      "2025-02-13 12:26:39,596 - INFO - HTTP Request: POST https://overpass-api.de/api/interpreter \"HTTP/1.1 200 OK\"\n",
      "2025-02-13 12:26:40,207 - INFO - HTTP Request: POST https://overpass-api.de/api/interpreter \"HTTP/1.1 200 OK\"\n",
      "Downloading ...: 100%|████████████████| 35/35 [00:28<00:00,  1.23it/s, finished]\n"
     ]
    }
   ],
   "source": [
    "! rapida admin osm --bbox=33.681335,-0.131836,35.966492,1.158979 --admin_level=2 --clip data/admin2_osm_cli.geojson"
   ]
  },
  {
   "cell_type": "markdown",
   "id": "9a2e0ba8-ef94-4b48-abc7-4aafe6a80597",
   "metadata": {},
   "source": [
    "Running the `rapida admin ocha` command will give you a help message of the command and the different options that you could use as follows"
   ]
  },
  {
   "cell_type": "code",
   "execution_count": 8,
   "id": "bf74dc75-4586-42af-b760-efbc27ef3341",
   "metadata": {},
   "outputs": [
    {
     "name": "stdout",
     "output_type": "stream",
     "text": [
      "Usage: rapida admin osm [OPTIONS] DESTINATION_PATH\n",
      "\n",
      "  Fetch admin boundaries from OSM\n",
      "\n",
      "  OSM is a great source of open data and here the Overpass \"https://overpass-\n",
      "  api.de/api/interpreter\" API is used to fetch the geospatial representation\n",
      "  of administrative divisions. OSM has its own levels described at:\n",
      "\n",
      "  https://wiki.openstreetmap.org/wiki/Tag:boundary%3Dadministrative#Super-\n",
      "  national_administrations\n",
      "\n",
      "  ranging from 1 (supra national and not rendered) to 12 (noty\n",
      "  rendered/reserved). In practical terms, the levels start at 2 and end at 10\n",
      "  (inclusive) and can be mapped to  the three UN admin levels using following\n",
      "  structure:\n",
      "\n",
      "  {0:2, 1:(3,4), 2:(4,5,6,7,8)}\n",
      "\n",
      "  The returned admin layer features  the matched admin level and the name of\n",
      "  every admin feature that was retrieved by the Overpass query. Additionally,\n",
      "  all hierarchically superior admin levels and names are returned and\n",
      "  attributes of the admin units.\n",
      "\n",
      "  To save the result as a file, for instance, the following command can be\n",
      "  executed to extract admin 0 data for Rwanda and Burundi as GeoJSON file:\n",
      "\n",
      "  rapida admin osm -b \"27.767944,-5.063586,31.734009,-0.417477\" -l 0\n",
      "  osm.geojson\n",
      "\n",
      "Options:\n",
      "  -b, --bbox BBOX                 Bounding box xmin/west, ymin/south,\n",
      "                                  xmax/east, ymax/north  [required]\n",
      "  -l, --admin_level INTEGER RANGE\n",
      "                                  UNDP admin level from where to extract the\n",
      "                                  admin features  [0<=x<=2; required]\n",
      "  -o, --osm_level INTEGER         OSM admin level from where to extract\n",
      "                                  features corresponding to UNDP admin_level\n",
      "  --clip                          Whether to clip the data to the bounding\n",
      "                                  box.\n",
      "  --h3id-precision INTEGER        Precision level for H3 indexing (default is\n",
      "                                  7).  [default: 7]\n",
      "  --debug                         Set log level to debug\n",
      "  --help                          Show this message and exit.\n"
     ]
    }
   ],
   "source": [
    "! rapida admin osm"
   ]
  },
  {
   "cell_type": "markdown",
   "id": "a5191ac2-d343-4f23-b21d-030b812c1ece",
   "metadata": {},
   "source": [
    "### 4: Visualizing the downloaded admin data"
   ]
  },
  {
   "cell_type": "markdown",
   "id": "9f8c7f47-f8d5-4a12-bbfa-f26fc3980f12",
   "metadata": {},
   "source": [
    "We use the [leafmap](https://github.com/opengeos/leafmap) package to visualize the data on this notebook"
   ]
  },
  {
   "cell_type": "code",
   "execution_count": 9,
   "id": "fb652cb7-4197-488a-8bfe-fb89e040a9a1",
   "metadata": {},
   "outputs": [],
   "source": [
    "import leafmap"
   ]
  },
  {
   "cell_type": "code",
   "execution_count": 10,
   "id": "420fad7b-0839-4e5f-b20c-79276f740c7e",
   "metadata": {},
   "outputs": [],
   "source": [
    "m = leafmap.Map(center=(0.35, 38.48), zoom=6) # set the center to the "
   ]
  },
  {
   "cell_type": "code",
   "execution_count": 11,
   "id": "cec58597-f4d1-4292-9010-ee208b188284",
   "metadata": {},
   "outputs": [
    {
     "data": {
      "application/vnd.jupyter.widget-view+json": {
       "model_id": "7932e31956af42c8856d429671c726d7",
       "version_major": 2,
       "version_minor": 0
      },
      "text/plain": [
       "Map(center=[0.35, 38.48], controls=(ZoomControl(options=['position', 'zoom_in_text', 'zoom_in_title', 'zoom_ou…"
      ]
     },
     "execution_count": 11,
     "metadata": {},
     "output_type": "execute_result"
    }
   ],
   "source": [
    "geojson_path = \"data/admin2_osm_cli.geojson\"\n",
    "m.add_geojson(geojson_path, layer_name=\"Admin 1\")\n",
    "m"
   ]
  }
 ],
 "metadata": {
  "kernelspec": {
   "display_name": "Python 3 (ipykernel)",
   "language": "python",
   "name": "python3"
  },
  "language_info": {
   "codemirror_mode": {
    "name": "ipython",
    "version": 3
   },
   "file_extension": ".py",
   "mimetype": "text/x-python",
   "name": "python",
   "nbconvert_exporter": "python",
   "pygments_lexer": "ipython3",
   "version": "3.12.3"
  }
 },
 "nbformat": 4,
 "nbformat_minor": 5
}
