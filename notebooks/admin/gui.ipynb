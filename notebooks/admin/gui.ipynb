{
 "cells": [
  {
   "cell_type": "code",
   "execution_count": 1,
   "id": "9b60a41c-61e0-45d0-9d0f-1ba18f658965",
   "metadata": {},
   "outputs": [],
   "source": [
    "from rapida_jupyter.admin.gui import load_ui"
   ]
  },
  {
   "cell_type": "code",
   "execution_count": 2,
   "id": "9ff6e151-0035-490f-8208-1d125a48795b",
   "metadata": {},
   "outputs": [
    {
     "data": {
      "application/vnd.jupyter.widget-view+json": {
       "model_id": "ee03388eee9b40e18ecf75fa1630bada",
       "version_major": 2,
       "version_minor": 0
      },
      "text/plain": [
       "VBox(children=(Map(center=[0, 34], controls=(ZoomControl(options=['position', 'zoom_in_text', 'zoom_in_title',…"
      ]
     },
     "metadata": {},
     "output_type": "display_data"
    }
   ],
   "source": [
    "load_ui()"
   ]
  },
  {
   "cell_type": "code",
   "execution_count": null,
   "id": "97476ec3-d6d4-43db-b92e-a8bbb734e46b",
   "metadata": {},
   "outputs": [],
   "source": []
  }
 ],
 "metadata": {
  "kernelspec": {
   "display_name": "Python 3 (ipykernel)",
   "language": "python",
   "name": "python3"
  },
  "language_info": {
   "codemirror_mode": {
    "name": "ipython",
    "version": 3
   },
   "file_extension": ".py",
   "mimetype": "text/x-python",
   "name": "python",
   "nbconvert_exporter": "python",
   "pygments_lexer": "ipython3",
   "version": "3.12.3"
  }
 },
 "nbformat": 4,
 "nbformat_minor": 5
}
