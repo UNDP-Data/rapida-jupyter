{
 "cells": [
  {
   "cell_type": "markdown",
   "id": "304187f8-b999-4bc2-b21b-683aa03e7bc9",
   "metadata": {},
   "source": [
    "# Introduction: CGAZ"
   ]
  },
  {
   "cell_type": "markdown",
   "id": "0fc185d4-4ecd-43a1-91d2-dbc7c7cb34da",
   "metadata": {},
   "source": [
    "The Admin dataset from Comprehensive Global Administrative Zones (CGAZ) is a collection of global composites for administrative boundaries. This data is currently stored in Azure Storage Blob. The dataset contains **names**, **codes** and **polygons** for each administrative unit.\n",
    "\n",
    "There are 2 ways in which you can access CGAZ admin data using the rapida tool:\n",
    "1. using the API\n",
    "2. Using the (CLI) Commandline Interface"
   ]
  },
  {
   "cell_type": "markdown",
   "id": "4512fdad-521c-4871-9b9e-6003fcbf5b54",
   "metadata": {},
   "source": [
    "> **💡 Tip:**\n",
    "Run the code cells by hitting `SHIFT` + `ENTER` on your keyboard"
   ]
  },
  {
   "cell_type": "markdown",
   "id": "82de2f38-6d71-48c3-8a0b-b527e9c2f6be",
   "metadata": {},
   "source": [
    "## 1.Using the API"
   ]
  },
  {
   "cell_type": "markdown",
   "id": "7331b31c-faaa-48a6-9106-347421b8824d",
   "metadata": {},
   "source": [
    "Step 1: Import the necessary packages."
   ]
  },
  {
   "cell_type": "code",
   "execution_count": 4,
   "id": "b89eb542-a269-4981-a058-5f96479d3944",
   "metadata": {},
   "outputs": [],
   "source": [
    "import json\n",
    "from rapida.admin.cgaz import fetch_admin"
   ]
  },
  {
   "cell_type": "markdown",
   "id": "01820542-1c18-4bd9-adfa-89ec40951e41",
   "metadata": {},
   "source": [
    "For the purposes of this section, we are going to use a specific bounding box\n",
    "\n",
    "`bbox = (33.681335, -0.131836, 35.966492, 1.158979)`"
   ]
  },
  {
   "cell_type": "markdown",
   "id": "e2d79223-0374-446b-84a1-a3fbf9415b40",
   "metadata": {},
   "source": [
    "Assign the bbox variable"
   ]
  },
  {
   "cell_type": "code",
   "execution_count": 8,
   "id": "af0b5551-a274-4834-abe6-132fe9e8abb3",
   "metadata": {},
   "outputs": [],
   "source": [
    "bbox = (33.681335, -0.131836, 35.966492, 1.158979)\n",
    "destination_path=\"/data/admin/admin1.gpkg\""
   ]
  },
  {
   "cell_type": "markdown",
   "id": "fb0602b3-b3d5-4991-a4ae-26b8102902f9",
   "metadata": {},
   "source": [
    "To fetch the admin dataset, you can use the `fetch_admin` function as follows:"
   ]
  },
  {
   "cell_type": "code",
   "execution_count": 9,
   "id": "5d66bd2d-0bca-4f06-bd39-941ecc3503af",
   "metadata": {},
   "outputs": [
    {
     "data": {
      "text/plain": [
       "'/home/thuha/Desktop/UNDP/rapida-jupyter/notebooks/admin'"
      ]
     },
     "execution_count": 9,
     "metadata": {},
     "output_type": "execute_result"
    }
   ],
   "source": [
    "import os\n",
    "os.getcwd()"
   ]
  },
  {
   "cell_type": "code",
   "execution_count": 10,
   "id": "79cb369e-2f90-4e5c-8323-effed39d57db",
   "metadata": {},
   "outputs": [
    {
     "data": {
      "application/vnd.jupyter.widget-view+json": {
       "model_id": "c4ae3602bc2b419581ac9e4e7c2d4caf",
       "version_major": 2,
       "version_minor": 0
      },
      "text/plain": [
       "Output()"
      ]
     },
     "metadata": {},
     "output_type": "display_data"
    },
    {
     "data": {
      "text/html": [
       "<pre style=\"white-space:pre;overflow-x:auto;line-height:normal;font-family:Menlo,'DejaVu Sans Mono',consolas,'Courier New',monospace\"></pre>\n"
      ],
      "text/plain": []
     },
     "metadata": {},
     "output_type": "display_data"
    }
   ],
   "source": [
    "fetch_admin(bbox=bbox, admin_level=1, clip=False, destination_path=destination_path)"
   ]
  },
  {
   "cell_type": "markdown",
   "id": "7e1ca3be-9ddd-4c35-b8d3-e78a84a79335",
   "metadata": {},
   "source": [
    "If you open the `data` folder, you will see the `admin1.geojson` file within the folder"
   ]
  },
  {
   "cell_type": "code",
   "execution_count": null,
   "id": "2b4af85f-ddfb-4ac9-a1ba-2db007e11610",
   "metadata": {},
   "outputs": [],
   "source": []
  },
  {
   "cell_type": "markdown",
   "id": "575ee4e8-e0d6-4b18-a276-d299a150e0e8",
   "metadata": {},
   "source": [
    "## 2. Using the command line interface"
   ]
  },
  {
   "cell_type": "markdown",
   "id": "053aae9f-7d14-4af8-a241-78fc7db94d73",
   "metadata": {},
   "source": [
    "You can also fetch admin data using the rapida cli. The following command is necessary:\n",
    "\n",
    "> **💡 Note:**\n",
    "Before you run this command, you **have to be authenticated** and have the rapida tool **initialized** the steps to authenticate and initialize are specified in this [notebook](https://rapida.undpgeohub.org/hub/user-redirect/lab/tree/jin/20240213_training/20240213_population.ipynb)\n"
   ]
  },
  {
   "cell_type": "code",
   "execution_count": 20,
   "id": "d539d5b3-25d5-49ea-abe7-75d842f3bf1e",
   "metadata": {},
   "outputs": [
    {
     "data": {
      "application/vnd.jupyter.widget-view+json": {
       "model_id": "06a25796fe474d8e875ea3ca1fddcaed",
       "version_major": 2,
       "version_minor": 0
      },
      "text/plain": [
       "Output()"
      ]
     },
     "metadata": {},
     "output_type": "display_data"
    },
    {
     "data": {
      "text/html": [
       "<pre style=\"white-space:pre;overflow-x:auto;line-height:normal;font-family:Menlo,'DejaVu Sans Mono',consolas,'Courier New',monospace\"></pre>\n"
      ],
      "text/plain": []
     },
     "metadata": {},
     "output_type": "display_data"
    }
   ],
   "source": [
    "from rapida.cli.run import run_cmd\n",
    "\n",
    "run_cmd('admin', 'cgaz --bbox=33.681335,-0.131836,35.966492,1.158979 --admin_level=2 --clip admin2_ocha_cli.gpkg')"
   ]
  },
  {
   "cell_type": "markdown",
   "id": "9a2e0ba8-ef94-4b48-abc7-4aafe6a80597",
   "metadata": {},
   "source": [
    "Running the `rapida admin cgaz` command will give you a help message of the command and the different options that you could use as follows"
   ]
  },
  {
   "cell_type": "code",
   "execution_count": 16,
   "id": "e763fd71-a90a-4732-a35d-90982ce8f458",
   "metadata": {},
   "outputs": [
    {
     "name": "stdout",
     "output_type": "stream",
     "text": [
      "Usage: ipykernel_launcher.py cgaz [OPTIONS] DESTINATION_PATH\n",
      "\n",
      "  Fetch admin boundaries from CGAZ\n",
      "\n",
      "  Retrieves administrative boundaries of a specific level/levels that\n",
      "  intersect the area covered iby bbox from CGAZ data hosted in Azure Blob\n",
      "  Storage The admin level argument should be an integer.\n",
      "\n",
      "  If --clip option is supplied, it is going to clip geometries to return only\n",
      "  the part of the admin datasets that are within the bounding box, if not, it\n",
      "  returns whole admin polygons that intersect with the bounding box supplied\n",
      "\n",
      "  The following is an example to save the result as a geopackage from bbox\n",
      "  33.681335,-0.131836,35.966492,1.158979\n",
      "\n",
      "  rapida admin cgaz --bbox 33.681335,-0.131836,35.966492,1.158979 -l 2 --clip\n",
      "  /data/admin2_cgaz.gpkg\n",
      "\n",
      "Options:\n",
      "  -b, --bbox BBOX                 Bounding box xmin/west, ymin/south,\n",
      "                                  xmax/east, ymax/north  [required]\n",
      "  -l, --admin_level INTEGER RANGE\n",
      "                                  UNDP admin level from where to extract the\n",
      "                                  admin features  [0<=x<=2; required]\n",
      "  --clip                          Whether to clip the data to the bounding\n",
      "                                  box.\n",
      "  --debug                         Set log level to debug\n",
      "  --help                          Show this message and exit.\n"
     ]
    },
    {
     "data": {
      "text/plain": [
       "0"
      ]
     },
     "execution_count": 16,
     "metadata": {},
     "output_type": "execute_result"
    }
   ],
   "source": [
    "run_cmd(\"admin\", \"cgaz --help\")"
   ]
  },
  {
   "cell_type": "markdown",
   "id": "a5191ac2-d343-4f23-b21d-030b812c1ece",
   "metadata": {},
   "source": [
    "## 3. Visualizing the downloaded admin data"
   ]
  },
  {
   "cell_type": "markdown",
   "id": "9f8c7f47-f8d5-4a12-bbfa-f26fc3980f12",
   "metadata": {},
   "source": [
    "We use the display_geodata function to visualize the data on this notebook"
   ]
  },
  {
   "cell_type": "code",
   "execution_count": 19,
   "id": "fb652cb7-4197-488a-8bfe-fb89e040a9a1",
   "metadata": {},
   "outputs": [],
   "source": [
    "from rapida_jupyter.util.display_geodata import display_data"
   ]
  },
  {
   "cell_type": "code",
   "execution_count": 22,
   "id": "31cc7552-6849-429c-881c-359f0109570c",
   "metadata": {},
   "outputs": [],
   "source": [
    "gpkg_path = \"/data/admin/admin1.gpkg\""
   ]
  },
  {
   "cell_type": "code",
   "execution_count": 23,
   "id": "420fad7b-0839-4e5f-b20c-79276f740c7e",
   "metadata": {},
   "outputs": [
    {
     "data": {
      "application/vnd.jupyter.widget-view+json": {
       "model_id": "45341897d2964e71a507bdac35198eb2",
       "version_major": 2,
       "version_minor": 0
      },
      "text/plain": [
       "VBox(children=(HBox(children=(Dropdown(description='Layer:', options=('admin2',), value='admin2'), HBox(childr…"
      ]
     },
     "metadata": {},
     "output_type": "display_data"
    },
    {
     "data": {
      "application/vnd.jupyter.widget-view+json": {
       "model_id": "c1abe8136c1b4fe3ad27754c18ce9a83",
       "version_major": 2,
       "version_minor": 0
      },
      "text/plain": [
       "Map(center=[0.5135714999999998, 34.82391350000001], controls=(ZoomControl(options=['position', 'zoom_in_text',…"
      ]
     },
     "metadata": {},
     "output_type": "display_data"
    }
   ],
   "source": [
    "display_data(gpkg_path=gpkg_path)"
   ]
  },
  {
   "cell_type": "code",
   "execution_count": null,
   "id": "cec58597-f4d1-4292-9010-ee208b188284",
   "metadata": {},
   "outputs": [],
   "source": []
  },
  {
   "cell_type": "code",
   "execution_count": null,
   "id": "7b444b60-2930-4f15-8c58-73d7bac2bfb3",
   "metadata": {},
   "outputs": [],
   "source": []
  }
 ],
 "metadata": {
  "kernelspec": {
   "display_name": "Python 3 (ipykernel)",
   "language": "python",
   "name": "python3"
  },
  "language_info": {
   "codemirror_mode": {
    "name": "ipython",
    "version": 3
   },
   "file_extension": ".py",
   "mimetype": "text/x-python",
   "name": "python",
   "nbconvert_exporter": "python",
   "pygments_lexer": "ipython3",
   "version": "3.12.3"
  }
 },
 "nbformat": 4,
 "nbformat_minor": 5
}
