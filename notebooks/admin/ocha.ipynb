{
 "cells": [
  {
   "cell_type": "markdown",
   "id": "304187f8-b999-4bc2-b21b-683aa03e7bc9",
   "metadata": {},
   "source": [
    "# Introduction: OCHA"
   ]
  },
  {
   "cell_type": "markdown",
   "id": "0fc185d4-4ecd-43a1-91d2-dbc7c7cb34da",
   "metadata": {},
   "source": [
    "The Admin dataset from **OCHA** is a collection of administrative boundaries used for humanitarian planning, disaster response, and development efforts. The dataset contains **names**, **codes** and **polygons** for each administrative unit.\n",
    "\n",
    "There are 2 ways in which you can access OCHA admin data using the rapida tool:\n",
    "1. using the API\n",
    "2. Using the (CLI) Commandline Interface"
   ]
  },
  {
   "cell_type": "markdown",
   "id": "4512fdad-521c-4871-9b9e-6003fcbf5b54",
   "metadata": {},
   "source": [
    "> **💡 Tip:**\n",
    "Run the code cells by hitting `SHIFT` + `ENTER` on your keyboard"
   ]
  },
  {
   "cell_type": "markdown",
   "id": "82de2f38-6d71-48c3-8a0b-b527e9c2f6be",
   "metadata": {},
   "source": [
    "## 1.Using the API"
   ]
  },
  {
   "cell_type": "markdown",
   "id": "7331b31c-faaa-48a6-9106-347421b8824d",
   "metadata": {},
   "source": [
    "Step 1: Import the necessary packages."
   ]
  },
  {
   "cell_type": "code",
   "execution_count": 1,
   "id": "b89eb542-a269-4981-a058-5f96479d3944",
   "metadata": {},
   "outputs": [],
   "source": [
    "import json\n",
    "from cbsurge.admin import ocha, save\n",
    "from cbsurge.admin.ocha import fetch_admin, countries_for_bbox, fetch_ocha_admin_levels, fetch_admin\n"
   ]
  },
  {
   "cell_type": "markdown",
   "id": "01820542-1c18-4bd9-adfa-89ec40951e41",
   "metadata": {},
   "source": [
    "For the purposes of this section, we are going to use a specific bounding box\n",
    "\n",
    "`bbox = (33.681335, -0.131836, 35.966492, 1.158979)`"
   ]
  },
  {
   "cell_type": "markdown",
   "id": "e2d79223-0374-446b-84a1-a3fbf9415b40",
   "metadata": {},
   "source": [
    "You can check which countries are covered by the specified bounding box by running:\n",
    "In the output of the cell below, you will see a tuple of the ISO3 codes of countries covered by the specified bounding box"
   ]
  },
  {
   "cell_type": "code",
   "execution_count": 2,
   "id": "af0b5551-a274-4834-abe6-132fe9e8abb3",
   "metadata": {},
   "outputs": [
    {
     "data": {
      "text/plain": [
       "('KEN', 'UGA')"
      ]
     },
     "execution_count": 2,
     "metadata": {},
     "output_type": "execute_result"
    }
   ],
   "source": [
    "bbox = (33.681335, -0.131836, 35.966492, 1.158979)\n",
    "countries = countries_for_bbox(bounding_box=bbox)\n",
    "countries"
   ]
  },
  {
   "cell_type": "markdown",
   "id": "89bd7de4-a7d5-4f81-91ce-dea38b72d18a",
   "metadata": {},
   "source": [
    "You can also check which admin levels are available for the above countries by running `fetch_ocha_admin_levels`"
   ]
  },
  {
   "cell_type": "code",
   "execution_count": 3,
   "id": "760e102e-1464-4f80-a1b7-d860b6ab3320",
   "metadata": {},
   "outputs": [
    {
     "data": {
      "text/plain": [
       "{0: ('Admin0', 0), 1: ('Admin1', 1), 2: ('Admin2', 2)}"
      ]
     },
     "execution_count": 3,
     "metadata": {},
     "output_type": "execute_result"
    }
   ],
   "source": [
    "admin_levels = fetch_ocha_admin_levels(iso3_country='KEN')\n",
    "admin_levels"
   ]
  },
  {
   "cell_type": "markdown",
   "id": "fb0602b3-b3d5-4991-a4ae-26b8102902f9",
   "metadata": {},
   "source": [
    "To fetch the admin dataset, you can use the `fetch_admin` function as follows:"
   ]
  },
  {
   "cell_type": "code",
   "execution_count": 4,
   "id": "79cb369e-2f90-4e5c-8323-effed39d57db",
   "metadata": {},
   "outputs": [
    {
     "name": "stderr",
     "output_type": "stream",
     "text": [
      "Downloading ...: 100%|██████████| 2/2 [00:01<00:00,  1.20it/s, Finished]                        \n"
     ]
    }
   ],
   "source": [
    "data = fetch_admin(bbox=bbox, admin_level=1, clip=False) # the fetch_admin returns geojson object\n",
    "if data is not None:\n",
    "    save(geojson_dict=data, dst_path='data/admin1_ocha.geojson', layer_name='admin1')"
   ]
  },
  {
   "cell_type": "markdown",
   "id": "7e1ca3be-9ddd-4c35-b8d3-e78a84a79335",
   "metadata": {},
   "source": [
    "If you open the `data` folder, you will see the `admin1.geojson` file within the folder"
   ]
  },
  {
   "cell_type": "code",
   "execution_count": null,
   "id": "2b4af85f-ddfb-4ac9-a1ba-2db007e11610",
   "metadata": {},
   "outputs": [],
   "source": []
  },
  {
   "cell_type": "markdown",
   "id": "575ee4e8-e0d6-4b18-a276-d299a150e0e8",
   "metadata": {},
   "source": [
    "## 2. Using the command line interface"
   ]
  },
  {
   "cell_type": "markdown",
   "id": "053aae9f-7d14-4af8-a241-78fc7db94d73",
   "metadata": {},
   "source": [
    "You can also fetch admin data using the rapida cli. The following command is necessary:\n",
    "\n",
    "> **💡 Note:**\n",
    "Before you run this command, you **have to be authenticated** and have the rapida tool **initialized** the steps to authenticate and initialize are specified in this [notebook](https://rapida.undpgeohub.org/hub/user-redirect/lab/tree/jin/20240213_training/20240213_population.ipynb)\n"
   ]
  },
  {
   "cell_type": "code",
   "execution_count": 5,
   "id": "d539d5b3-25d5-49ea-abe7-75d842f3bf1e",
   "metadata": {},
   "outputs": [
    {
     "name": "stdout",
     "output_type": "stream",
     "text": [
      "2025-02-13 14:36:10,878 - INFO - HTTP Request: GET https://services.arcgis.com/P3ePLMYs2RVChkJx/arcgis/rest/services/World_Countries_(Generalized)/FeatureServer/0/query?where=1%3D1&outFields=*&geometry=33.681335,-0.131836,35.966492,1.158979&geometryType=esriGeometryEnvelope&inSR=4326&spatialRel=esriSpatialRelIntersects&returnGeometry=false&outSR=4326&f=json \"HTTP/1.1 200 OK\"\n",
      "2025-02-13 14:36:11,228 - INFO - HTTP Request: GET https://codgis.itos.uga.edu/arcgis/rest/services/COD_External?f=pjson \"HTTP/1.1 200 \"\n",
      "2025-02-13 14:36:11,373 - INFO - HTTP Request: GET https://codgis.itos.uga.edu/arcgis/rest/services/COD_External/KEN_pcode/MapServer?f=pjson \"HTTP/1.1 200 \"\n",
      "2025-02-13 14:36:11,729 - INFO - HTTP Request: GET https://codgis.itos.uga.edu/arcgis/rest/services/COD_External/KEN_pcode/FeatureServer/2/query?outFields=%2A&geometry=33.681335%2C+-0.131836%2C+35.966492%2C+1.158979&geometryType=esriGeometryEnvelope&inSR=4326&spatialRel=esriSpatialRelIntersects&returnGeometry=true&outSR=4326&f=GeoJSON \"HTTP/1.1 200 \"\n",
      "2025-02-13 14:36:12,223 - INFO - HTTP Request: GET https://codgis.itos.uga.edu/arcgis/rest/services/COD_External/UGA_pcode/MapServer?f=pjson \"HTTP/1.1 200 \"\n",
      "2025-02-13 14:36:12,714 - INFO - HTTP Request: GET https://codgis.itos.uga.edu/arcgis/rest/services/COD_External/UGA_pcode/FeatureServer/2/query?outFields=%2A&geometry=33.681335%2C+-0.131836%2C+35.966492%2C+1.158979&geometryType=esriGeometryEnvelope&inSR=4326&spatialRel=esriSpatialRelIntersects&returnGeometry=true&outSR=4326&f=GeoJSON \"HTTP/1.1 200 \"\n",
      "Downloading ...: 100%|██████████████████| 2/2 [00:01<00:00,  1.03it/s, Finished]\n",
      "Warning 1: Several features with id = 11 have been found. Altering it to be unique. This warning will not be emitted anymore for this layer\n"
     ]
    }
   ],
   "source": [
    "! rapida admin ocha --bbox=33.681335,-0.131836,35.966492,1.158979 --admin_level=2 --clip data/admin2_ocha_cli.geojson"
   ]
  },
  {
   "cell_type": "markdown",
   "id": "9a2e0ba8-ef94-4b48-abc7-4aafe6a80597",
   "metadata": {},
   "source": [
    "Running the `rapida admin ocha` command will give you a help message of the command and the different options that you could use as follows"
   ]
  },
  {
   "cell_type": "code",
   "execution_count": 6,
   "id": "bf74dc75-4586-42af-b760-efbc27ef3341",
   "metadata": {},
   "outputs": [
    {
     "name": "stdout",
     "output_type": "stream",
     "text": [
      "Usage: rapida admin ocha [OPTIONS] DESTINATION_PATH\n",
      "\n",
      "  Fetch admin boundaries from OCHA COD\n",
      "\n",
      "  Retrieves administrative boundaries of a specific level/levels that\n",
      "  intersect the area covered iby bbox from OCHA COD database hosted on ArcGIS\n",
      "  server The admin_level argument can be an integer or a dictionary.\n",
      "\n",
      "  In case an integer is supplied, the best effort is made to retrieve admin\n",
      "  boundaries from that specific admin level data layer for all countries\n",
      "  whose extent intersects the bounding box\n",
      "\n",
      "  The OCA COD database is hosted on an ArcGIS server instance and is organized\n",
      "  on a per country basis. As a result this function also uses a per country\n",
      "  approach to fetch features and merge them into one layer in case the\n",
      "  supplied bounding box covers several countries.\n",
      "\n",
      "  To save the result as a file, for instance, the following command can be\n",
      "  executed to extract admin 0 data for Rwanda and Burundi as GeoJSON file:\n",
      "\n",
      "  rapida admin ocha -b 33.681335,-0.131836,35.966492,1.158979 -l 2 --clip\n",
      "  /data/admocha.fgb --layer-name abc\n",
      "\n",
      "Options:\n",
      "  -b, --bbox BBOX                 Bounding box xmin/west, ymin/south,\n",
      "                                  xmax/east, ymax/north  [required]\n",
      "  -l, --admin_level INTEGER RANGE\n",
      "                                  UNDP admin level from where to extract the\n",
      "                                  admin features  [0<=x<=2; required]\n",
      "  --clip                          Whether to clip the data to the bounding\n",
      "                                  box.\n",
      "  --h3id-precision INTEGER        Precision level for H3 indexing (default is\n",
      "                                  7).  [default: 7]\n",
      "  --debug                         Set log level to debug\n",
      "  --help                          Show this message and exit.\n"
     ]
    }
   ],
   "source": [
    "! rapida admin ocha"
   ]
  },
  {
   "cell_type": "markdown",
   "id": "a5191ac2-d343-4f23-b21d-030b812c1ece",
   "metadata": {},
   "source": [
    "## 3. Visualizing the downloaded admin data"
   ]
  },
  {
   "cell_type": "markdown",
   "id": "9f8c7f47-f8d5-4a12-bbfa-f26fc3980f12",
   "metadata": {},
   "source": [
    "We use the [leafmap](https://github.com/opengeos/leafmap) package to visualize the data on this notebook"
   ]
  },
  {
   "cell_type": "code",
   "execution_count": 7,
   "id": "fb652cb7-4197-488a-8bfe-fb89e040a9a1",
   "metadata": {},
   "outputs": [],
   "source": [
    "import leafmap"
   ]
  },
  {
   "cell_type": "code",
   "execution_count": 8,
   "id": "420fad7b-0839-4e5f-b20c-79276f740c7e",
   "metadata": {},
   "outputs": [],
   "source": [
    "m = leafmap.Map(center=(0.35, 38.48), zoom=6) # set the center and zoom level to an appropriate values to see the result without having to pan the map"
   ]
  },
  {
   "cell_type": "code",
   "execution_count": 9,
   "id": "cec58597-f4d1-4292-9010-ee208b188284",
   "metadata": {},
   "outputs": [],
   "source": [
    "geojson_path = \"data/admin2_ocha_cli.geojson\"\n",
    "m.add_geojson(geojson_path, layer_name=\"admin2\")\n",
    "m"
   ]
  }
 ],
 "metadata": {
  "kernelspec": {
   "display_name": "Python 3 (ipykernel)",
   "language": "python",
   "name": "python3"
  },
  "language_info": {
   "codemirror_mode": {
    "name": "ipython",
    "version": 3
   },
   "file_extension": ".py",
   "mimetype": "text/x-python",
   "name": "python",
   "nbconvert_exporter": "python",
   "pygments_lexer": "ipython3",
   "version": "3.12.3"
  }
 },
 "nbformat": 4,
 "nbformat_minor": 5
}
