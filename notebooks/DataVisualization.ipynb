{
 "cells": [
  {
   "cell_type": "markdown",
   "id": "d93e7e45-6baa-4b73-88ba-7c026de99e21",
   "metadata": {},
   "source": [
    "### Data Visualization"
   ]
  },
  {
   "cell_type": "markdown",
   "id": "3f3ddb7f-cb9a-496b-a468-7f7881e40d7d",
   "metadata": {},
   "source": [
    "To visualize data, all you need to do is to call display_data function of the rapida_jupyter and pass the project geopackage path"
   ]
  },
  {
   "cell_type": "code",
   "execution_count": 3,
   "id": "8ccfe79e-fc1c-4677-81e3-72e6c83812f3",
   "metadata": {},
   "outputs": [],
   "source": [
    "from rapida_jupyter.util.display_geodata import display_data"
   ]
  },
  {
   "cell_type": "code",
   "execution_count": 4,
   "id": "acc4d921-702d-4777-8ea7-97ae538186b1",
   "metadata": {},
   "outputs": [
    {
     "data": {
      "application/vnd.jupyter.widget-view+json": {
       "model_id": "711bd11961e04ea5928994053316c9b6",
       "version_major": 2,
       "version_minor": 0
      },
      "text/plain": [
       "HBox(children=(Dropdown(description='Layer:', options=('polygons', 'mask', 'stats.population', 'buildings'), v…"
      ]
     },
     "metadata": {},
     "output_type": "display_data"
    },
    {
     "data": {
      "application/vnd.jupyter.widget-view+json": {
       "model_id": "75c179b5d3704cca8976eb6200ce29a9",
       "version_major": 2,
       "version_minor": 0
      },
      "text/plain": [
       "Map(center=[-1.2907794985595658, 36.87149049999999], controls=(ZoomControl(options=['position', 'zoom_in_text'…"
      ]
     },
     "metadata": {},
     "output_type": "display_data"
    }
   ],
   "source": [
    "display_data(gpkg_path=\"/data/notebooks/nairobi/data/nairobi.gpkg\")"
   ]
  },
  {
   "cell_type": "code",
   "execution_count": null,
   "id": "5e874945-0a2f-4f19-af38-77df7690b857",
   "metadata": {},
   "outputs": [],
   "source": []
  }
 ],
 "metadata": {
  "kernelspec": {
   "display_name": "Python 3 (ipykernel)",
   "language": "python",
   "name": "python3"
  },
  "language_info": {
   "codemirror_mode": {
    "name": "ipython",
    "version": 3
   },
   "file_extension": ".py",
   "mimetype": "text/x-python",
   "name": "python",
   "nbconvert_exporter": "python",
   "pygments_lexer": "ipython3",
   "version": "3.12.3"
  }
 },
 "nbformat": 4,
 "nbformat_minor": 5
}
