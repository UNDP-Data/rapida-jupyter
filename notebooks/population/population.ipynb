{
 "cells": [
  {
   "cell_type": "markdown",
   "id": "970f3e3e-3f89-459f-886b-7dc004c9c8a6",
   "metadata": {},
   "source": [
    "## Population assessment"
   ]
  },
  {
   "cell_type": "markdown",
   "id": "7c099538-8f68-409d-b0a6-9eaeae338e5a",
   "metadata": {},
   "source": [
    "### Data"
   ]
  },
  {
   "cell_type": "markdown",
   "id": "61524e0b-f623-4e32-93fb-fd4c7fb04fca",
   "metadata": {},
   "source": [
    "The population data used for assessment is sourced from [WorldPop](https://www.worldpop.org/), which provides high-resolution gridded population count estimates. These datasets are:\n",
    "\n",
    "- In GeoTIFF format\n",
    "\n",
    "- Disaggregated by age and sex"
   ]
  },
  {
   "cell_type": "markdown",
   "id": "c78fad1e-e159-4ad3-9096-dc8aed4a06d8",
   "metadata": {},
   "source": [
    "### Data Preprocessing"
   ]
  },
  {
   "cell_type": "markdown",
   "id": "a07a4a56-a944-48f3-9b6b-f6bbc46f5dd9",
   "metadata": {
    "jp-MarkdownHeadingCollapsed": true
   },
   "source": [
    "WorldPop datasets are treated as raw inputs and undergo preprocessing to make them usable within the rapida tool. The following steps outline the preprocessing pipeline:\n",
    "\n",
    "- Download the original GeoTIFF population files from WorldPop.\n",
    "\n",
    "- Convert the files to Cloud-Optimized GeoTIFFs (COGs) to enable faster and more efficient access.\n",
    "\n",
    "- Upload the COGs to our Azure Blob Storage, preserving their original age-sex structure.\n",
    "\n",
    "- Perform aggregation based on defined age and sex groupings (e.g., total population by gender).\n",
    "\n",
    "- Upload the aggregated files (still in COG format) back to Azure Blob Storage.\n",
    "\n",
    "⚠️ Note: All population data used for analysis is retrieved from our Azure Blob Storage container. The original data source remains WorldPop.\n",
    "\n",
    "#### Aggregation\n",
    "\n",
    "Aggregation is done programmatically using predefined rules for demographic groupings. For example, the total male population is computed as:.\n",
    "For instance, for **`male_total`** population:\n",
    "\n",
    "**`male_total = male_child + male_active + male_elderly`**\n",
    "    \n",
    "Similar rules are applied to other demographic groups, such as female populations or combined totals."
   ]
  },
  {
   "cell_type": "markdown",
   "id": "e5faa241-3417-4b81-a272-7b73278886bc",
   "metadata": {},
   "source": [
    "### Create a project"
   ]
  },
  {
   "cell_type": "markdown",
   "id": "97633a76-8173-4138-97a6-7f3efbd47f8c",
   "metadata": {},
   "source": [
    "To run any assessment, you need to have a project already created.\n",
    "To create a project, please follow the instruction statement in the [CreateProject](https://rapida.undpgeohub.org/hub/user-redirect/lab/tree/notebooks/CreateProject.ipynb) notebook"
   ]
  },
  {
   "cell_type": "markdown",
   "id": "651078fa-98ea-4a89-8e55-746d840f02f0",
   "metadata": {},
   "source": [
    "### Variables\n",
    "\n",
    "The following variables make up the population component"
   ]
  },
  {
   "cell_type": "markdown",
   "id": "883b5a46-a889-44cf-ad79-0280c83d7cd0",
   "metadata": {},
   "source": [
    "| Variable ID         | Title                      |\n",
    "|------------------|----------------------------|\n",
    "| male_child       | Male child population      |\n",
    "| child_total      | Child population           |\n",
    "| male_active      | Male active population     |\n",
    "| active_total     | Active population          |\n",
    "| male_elderly     | Male elderly population    |\n",
    "| elderly_total    | Elderly population         |\n",
    "| male_total       | Male population            |\n",
    "| female_child     | Female child population    |\n",
    "| female_active    | Female active population   |\n",
    "| female_elderly   | Female elderly population  |\n",
    "| female_total     | Female population          |\n",
    "| total            | Total population           |\n"
   ]
  },
  {
   "cell_type": "markdown",
   "id": "94613f97-c600-4b87-a3b8-888053719de5",
   "metadata": {},
   "source": [
    "### Assessment"
   ]
  },
  {
   "cell_type": "markdown",
   "id": "308b4cab-aad2-4fb8-ae2b-aba8be16ec73",
   "metadata": {},
   "source": [
    "For our purposes, we are going to load the assessment GUI to run assessment for the Electricity Grid"
   ]
  },
  {
   "cell_type": "code",
   "execution_count": 3,
   "id": "92c8fa7d-c719-40bf-ab00-e2b632f6d935",
   "metadata": {},
   "outputs": [
    {
     "data": {
      "application/vnd.jupyter.widget-view+json": {
       "model_id": "c5b609373be54031b594251326b575d4",
       "version_major": 2,
       "version_minor": 0
      },
      "text/plain": [
       "Label(value='Run Assessment')"
      ]
     },
     "metadata": {},
     "output_type": "display_data"
    },
    {
     "data": {
      "application/vnd.jupyter.widget-view+json": {
       "model_id": "c1ec38a885d04e1bb8bbde1a04d48221",
       "version_major": 2,
       "version_minor": 0
      },
      "text/plain": [
       "Tab(children=(VBox(children=(Checkbox(value=False, description='Select All in Tab'), GridBox(children=(Checkbo…"
      ]
     },
     "metadata": {},
     "output_type": "display_data"
    },
    {
     "data": {
      "application/vnd.jupyter.widget-view+json": {
       "model_id": "00a0712a911e46299f55fea2d855b215",
       "version_major": 2,
       "version_minor": 0
      },
      "text/plain": [
       "HBox(children=(Button(button_style='success', description='Select All', style=ButtonStyle()), Button(button_st…"
      ]
     },
     "metadata": {},
     "output_type": "display_data"
    },
    {
     "data": {
      "application/vnd.jupyter.widget-view+json": {
       "model_id": "8c1a716716b5418e9e4af308ec152b0c",
       "version_major": 2,
       "version_minor": 0
      },
      "text/plain": [
       "Output()"
      ]
     },
     "metadata": {},
     "output_type": "display_data"
    }
   ],
   "source": [
    "from rapida_jupyter.util.assess_gui import assessment_gui"
   ]
  },
  {
   "cell_type": "code",
   "execution_count": null,
   "id": "a58199e5-61f6-4209-8094-e19dfcca5581",
   "metadata": {},
   "outputs": [],
   "source": [
    "assessment_gui(project_path=\"/data/demo_project/\", component=\"population\")"
   ]
  },
  {
   "cell_type": "markdown",
   "id": "6b18ae0e-c8cb-45f0-bd86-0804ddf6e61b",
   "metadata": {},
   "source": [
    "### Visualization\n",
    "\n",
    "To visualize the assessed data, We will also use the `display_data` function of rapida_jupyter package"
   ]
  },
  {
   "cell_type": "code",
   "execution_count": 5,
   "id": "426dd4aa-27ef-4051-92bb-fb185f6a090d",
   "metadata": {},
   "outputs": [
    {
     "data": {
      "application/vnd.jupyter.widget-view+json": {
       "model_id": "be6792e497dc4e2ba6bf696ff63b344f",
       "version_major": 2,
       "version_minor": 0
      },
      "text/plain": [
       "HBox(children=(Dropdown(description='Layer:', options=('polygons', 'mask', 'buildings.affected', 'stats.buildi…"
      ]
     },
     "metadata": {},
     "output_type": "display_data"
    },
    {
     "data": {
      "application/vnd.jupyter.widget-view+json": {
       "model_id": "575a35e3ecb44515bdaa256e1557fc83",
       "version_major": 2,
       "version_minor": 0
      },
      "text/plain": [
       "Map(center=[-1.2907794985595658, 36.87149049999999], controls=(ZoomControl(options=['position', 'zoom_in_text'…"
      ]
     },
     "metadata": {},
     "output_type": "display_data"
    }
   ],
   "source": [
    "from rapida_jupyter.util.display_geodata import display_data\n",
    "display_data(gpkg_path=\"/data/demo_project/data/demo_project.gpkg\") "
   ]
  },
  {
   "cell_type": "code",
   "execution_count": null,
   "id": "40083683-e539-48ad-8283-5cfe9d74c954",
   "metadata": {},
   "outputs": [],
   "source": []
  }
 ],
 "metadata": {
  "kernelspec": {
   "display_name": "Python 3 (ipykernel)",
   "language": "python",
   "name": "python3"
  },
  "language_info": {
   "codemirror_mode": {
    "name": "ipython",
    "version": 3
   },
   "file_extension": ".py",
   "mimetype": "text/x-python",
   "name": "python",
   "nbconvert_exporter": "python",
   "pygments_lexer": "ipython3",
   "version": "3.12.3"
  }
 },
 "nbformat": 4,
 "nbformat_minor": 5
}
