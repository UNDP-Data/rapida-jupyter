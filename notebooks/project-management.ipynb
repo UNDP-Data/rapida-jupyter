{
 "cells": [
  {
   "cell_type": "markdown",
   "id": "00b272b9-d317-4406-ab2d-2a9311282159",
   "metadata": {},
   "source": [
    "# Project lifecycle"
   ]
  },
  {
   "cell_type": "markdown",
   "id": "7535f48e-2146-4a79-8148-a4ee327c73db",
   "metadata": {},
   "source": [
    "Continuing with this guide assumes that the authentication has already been done and that the setup is complete.\n",
    "Read the [README](./README.ipynb) if you have not. "
   ]
  },
  {
   "cell_type": "markdown",
   "id": "dd2b5fc3-f8c4-40a2-a3f0-040f8acd5c2e",
   "metadata": {},
   "source": [
    "In this notebook, the following steps describe the lifecycle of RAPIDA project management.\n",
    "\n",
    "1. Check uploaded projects\n",
    "2. Download a project\n",
    "3. Upload a project\n",
    "4. Pulibish a project in GeoHub\n",
    "5. Delete a project\n",
    "\n",
    "note. `upload`, `download`, `publish` and `delete` command are not actually compatible with Jupyter Notebook because it uses prompts. So, currently it requires to be executed in the terminal."
   ]
  },
  {
   "cell_type": "markdown",
   "id": "c8b1e34b-b162-4bad-9d01-4b1caa4172ba",
   "metadata": {},
   "source": [
    "Import the libraries needed"
   ]
  },
  {
   "cell_type": "code",
   "execution_count": 1,
   "id": "bac7d2cd-bfaf-4942-8d23-9d4a44f98cf7",
   "metadata": {},
   "outputs": [
    {
     "data": {
      "application/vnd.jupyter.widget-view+json": {
       "model_id": "fd3f27d7dc5049ccb9db053625c57421",
       "version_major": 2,
       "version_minor": 0
      },
      "text/plain": [
       "VBox(children=(HBox(children=(Text(value='', description='Email:', layout=Layout(width='200px'), placeholder='…"
      ]
     },
     "metadata": {},
     "output_type": "display_data"
    },
    {
     "name": "stderr",
     "output_type": "stream",
     "text": [
      "2025-04-30 11:35:36.659366: E external/local_xla/xla/stream_executor/cuda/cuda_fft.cc:467] Unable to register cuFFT factory: Attempting to register factory for plugin cuFFT when one has already been registered\n",
      "WARNING: All log messages before absl::InitializeLog() is called are written to STDERR\n",
      "E0000 00:00:1746012936.679178    3854 cuda_dnn.cc:8579] Unable to register cuDNN factory: Attempting to register factory for plugin cuDNN when one has already been registered\n",
      "E0000 00:00:1746012936.684819    3854 cuda_blas.cc:1407] Unable to register cuBLAS factory: Attempting to register factory for plugin cuBLAS when one has already been registered\n",
      "W0000 00:00:1746012936.699888    3854 computation_placer.cc:177] computation placer already registered. Please check linkage and avoid linking the same target more than once.\n",
      "W0000 00:00:1746012936.699913    3854 computation_placer.cc:177] computation placer already registered. Please check linkage and avoid linking the same target more than once.\n",
      "W0000 00:00:1746012936.699915    3854 computation_placer.cc:177] computation placer already registered. Please check linkage and avoid linking the same target more than once.\n",
      "W0000 00:00:1746012936.699917    3854 computation_placer.cc:177] computation placer already registered. Please check linkage and avoid linking the same target more than once.\n"
     ]
    }
   ],
   "source": [
    "from rapida.cli.run import run_cmd"
   ]
  },
  {
   "cell_type": "markdown",
   "id": "0ebf951a-b9f7-4b60-bc09-9ba5d99d4174",
   "metadata": {},
   "source": [
    "Initialize the rapida tool"
   ]
  },
  {
   "cell_type": "code",
   "execution_count": 2,
   "id": "979c836a-a9f1-41fd-92ef-cca4396184c3",
   "metadata": {},
   "outputs": [
    {
     "name": "stdout",
     "output_type": "stream",
     "text": [
      "Welcome to rapida CLI tool!\n",
      "Initialization was done. config file was saved to /home/joseph/.rapida/config.json\n"
     ]
    }
   ],
   "source": [
    "run_cmd('init', '--no-input')"
   ]
  },
  {
   "cell_type": "markdown",
   "id": "f6530ffa-102d-404d-85af-c80b46435b81",
   "metadata": {},
   "source": [
    "## 1. rapida list\n",
    "\n",
    "`rapida list -h` command has more description how to use the command to check uploaded projects in Azure"
   ]
  },
  {
   "cell_type": "code",
   "execution_count": 3,
   "id": "7907c461-bf0b-40f7-8ac2-d6a02f45187b",
   "metadata": {},
   "outputs": [
    {
     "name": "stdout",
     "output_type": "stream",
     "text": [
      "Usage: ipykernel_launcher.py [OPTIONS]\n",
      "\n",
      "Options:\n",
      "  --debug  Set log level to debug\n",
      "  --help   Show this message and exit.\n"
     ]
    },
    {
     "data": {
      "text/plain": [
       "0"
      ]
     },
     "execution_count": 3,
     "metadata": {},
     "output_type": "execute_result"
    }
   ],
   "source": [
    "run_cmd('list', '--help')"
   ]
  },
  {
   "cell_type": "code",
   "execution_count": 4,
   "id": "27c77ded-3d7c-4593-9847-755edff48bd8",
   "metadata": {},
   "outputs": [
    {
     "name": "stdout",
     "output_type": "stream",
     "text": [
      "Usage: ipykernel_launcher.py [OPTIONS]\n",
      "\n",
      "Options:\n",
      "  --debug  Set log level to debug\n",
      "  --help   Show this message and exit.\n"
     ]
    },
    {
     "data": {
      "text/plain": [
       "0"
      ]
     },
     "execution_count": 4,
     "metadata": {},
     "output_type": "execute_result"
    }
   ],
   "source": [
    "run_cmd('list', '--help')"
   ]
  },
  {
   "cell_type": "markdown",
   "id": "b347b083-fd90-4199-a8c7-d9b3a1a0be7c",
   "metadata": {},
   "source": [
    "## 2. rapida download\n",
    "\n",
    "Once you have confirmed which projects were already uploaded in Azure, you can use `rapida download` to download a project data from Azure to your local. The below is help message of download command.\n",
    "\n",
    "You can simply specify a project name and where you want to save it like the below command example.\n",
    "\n",
    "`rapida download MyanmarEQ_project ./MyanmarEQ_project`\n",
    "\n",
    "First positional argument is a project name, and the second argument is the destination folder."
   ]
  },
  {
   "cell_type": "code",
   "execution_count": 5,
   "id": "2332ea64-431c-409b-8f5b-006d2ba6932b",
   "metadata": {},
   "outputs": [
    {
     "name": "stdout",
     "output_type": "stream",
     "text": [
      "Usage: ipykernel_launcher.py [OPTIONS] PROJECT_NAME DESTINATION_FOLDER\n",
      "\n",
      "  Download a project from Azure File Share.\n",
      "\n",
      "  Firstly, please check available projects by using `rapida list` to find a\n",
      "  project name to download.\n",
      "\n",
      "  Usage:\n",
      "\n",
      "  rapida download <project name> <project folder path>\n",
      "\n",
      "  For example, the project data will be downloaded under ./data/test folder if\n",
      "  a project name is `test` if the below command is executed.\n",
      "\n",
      "  Example:\n",
      "\n",
      "      rapida download test ./data\n",
      "\n",
      "      rapida download test ./data/test\n",
      "\n",
      "  To use `-f/--force`, project data will be overwritten if it already exists\n",
      "  in local storage.\n",
      "\n",
      "Options:\n",
      "  -c, --max_concurrency INTEGER  The number of threads to use when downloading\n",
      "                                 a file  [default: 4]\n",
      "  -f, --force                    Whether to overwrite the project in case it\n",
      "                                 already exists locally.\n",
      "  --debug                        Set log level to debug\n",
      "  --help                         Show this message and exit.\n"
     ]
    },
    {
     "data": {
      "text/plain": [
       "0"
      ]
     },
     "execution_count": 5,
     "metadata": {},
     "output_type": "execute_result"
    }
   ],
   "source": [
    "run_cmd('download', '--help')"
   ]
  },
  {
   "cell_type": "markdown",
   "id": "29688491-37ff-485c-bfad-031c68fe541f",
   "metadata": {},
   "source": [
    "## 3. Upload a project\n",
    "\n",
    "`rapida upload` command provides a functionality to upload the entire project folder to Azure to backup."
   ]
  },
  {
   "cell_type": "code",
   "execution_count": 6,
   "id": "5cdac96a-c0f1-4723-a2c1-f9822fccd70e",
   "metadata": {},
   "outputs": [
    {
     "name": "stdout",
     "output_type": "stream",
     "text": [
      "Usage: ipykernel_launcher.py [OPTIONS]\n",
      "\n",
      "  Upload an entire project folder to Azure File Share\n",
      "\n",
      "  Usage:\n",
      "\n",
      "      rapida upload: If you are already in a project folder\n",
      "\n",
      "      rapida upload --project=<project folder path>: If you are not in a\n",
      "      project folder\n",
      "\n",
      "  To use `-f/--force`, project data will be overwritten if it already exists\n",
      "  in Azure File Share.\n",
      "\n",
      "  Use `--no-input` to disable prompting. Default is False.\n",
      "\n",
      "Options:\n",
      "  -p, --project DIRECTORY        Optional. A project folder with rapida.json\n",
      "                                 can be specified. If not, current directory\n",
      "                                 is considered as a project folder.\n",
      "  -c, --max_concurrency INTEGER  The number of threads to use when uploading a\n",
      "                                 file  [default: 4]\n",
      "  -f, --force                    Whether to overwrite the project in case it\n",
      "                                 already exists.\n",
      "  --no-input                     Optional. If True, it will automatically\n",
      "                                 answer yes to prompts. Default is False.\n",
      "  --debug                        Set log level to debug\n",
      "  --help                         Show this message and exit.\n"
     ]
    },
    {
     "data": {
      "text/plain": [
       "0"
      ]
     },
     "execution_count": 6,
     "metadata": {},
     "output_type": "execute_result"
    }
   ],
   "source": [
    "run_cmd('upload', '--help')"
   ]
  },
  {
   "cell_type": "markdown",
   "id": "adf779a1-1210-4998-a392-bb25bd5d6e71",
   "metadata": {},
   "source": [
    "You can use `-p` option to specify the project folder to upload a project. Or if you are already in project folder, just simply execute `rapida upload`. Upload command prompts to confirm whether you really want to upload the project to Azure.\n",
    "\n",
    "After uploading, you should see the message like `Rapida project \"/data/notebooks/nairobi_example_project\" was uploaded successfully to Azure`."
   ]
  },
  {
   "cell_type": "code",
   "execution_count": null,
   "id": "25e90035-ceba-4b3b-b15a-5b9a68cc19d8",
   "metadata": {},
   "outputs": [],
   "source": [
    "run_cmd('upload', '-p /data/demo_project/')"
   ]
  },
  {
   "cell_type": "markdown",
   "id": "68ef00f6-8302-4a0b-991e-36525c85aa68",
   "metadata": {},
   "source": [
    "## 4. Publish a project\n",
    "\n",
    "`rapida publish` command will provide a functionality to convert data.gpkg to cloud optiomised format which is compatible with UNDP GeoHub. And it will give you a link to register and publish it in GeoHub."
   ]
  },
  {
   "cell_type": "code",
   "execution_count": null,
   "id": "26914216-eb7d-42e2-a335-192afa23cd29",
   "metadata": {},
   "outputs": [],
   "source": [
    "run_cmd('publish', '--help')"
   ]
  },
  {
   "cell_type": "markdown",
   "id": "35932736-3bfc-4b3e-852d-99142dbf1c33",
   "metadata": {},
   "source": [
    "You can use `-p` option to specify the project folder to publish a project. Or if you are already in project folder, just simply execute `rapida publish`. Publish command will do the following operations\n",
    "\n",
    "1. convert data.gpkg to PMTiles (cloud optimised vector tiles)\n",
    "2. upload PMTiles to UNDP Azure Blob Container for GeoHub\n",
    "3. generate a GeoHub link to register PMTiles to GeoHub\n",
    "\n",
    "Once the link is provided, please open it in the browser. You will be redirected to the dataset registration page. Please input all metadata appropriately, then you can publish it in GeoHub."
   ]
  },
  {
   "cell_type": "markdown",
   "id": "05dfc9db-ca2f-4e2b-ab0b-6c24fbf41ca3",
   "metadata": {},
   "source": [
    "5. Delete a project\n",
    "\n",
    "`rapida delete` command provides you a funcitonality to delete a project from Azure and from local storage. This command ask several prompts to confirm before deleting it actually."
   ]
  },
  {
   "cell_type": "code",
   "execution_count": null,
   "id": "37497d93-8dac-4fa7-b526-f02939c8eda7",
   "metadata": {},
   "outputs": [],
   "source": [
    "run_cmd('delete', '--help')"
   ]
  },
  {
   "cell_type": "markdown",
   "id": "68f45e92-5a50-48dd-bac3-b5e484ebbe58",
   "metadata": {},
   "source": [
    "You can use `-p` option to specify the project folder to delete a project. Or if you are already in project folder, just simply execute `rapida delete`. Delete command will do the following operations:\n",
    "\n",
    "1. Check if the project data is published in GeoHub. You cannot delete a project if it is already registered in GeoHub.\n",
    "2. If project is not registered in GeoHub, It asks you whether you want to delete a project from Azure File Share (if it is uploaded)\n",
    "3. Lastly, it asks you whether you want to delete a project from local storage.\n",
    "\n",
    "for example, if you want to delete `nairobi_example_project` project from Azure, you can execute `rapida delete -p ./nairobi_example_project`.\n",
    "\n",
    "The below is an example log. First prompt to ask if you want to delete it from Azure, and answer yes. In the second prompt, it ask to delete it from local storage, and answered No because I want to keep it in local.\n",
    "\n",
    "```\n",
    "Delete command is executed at the project folder: /data/notebooks/nairobi_example_project\n",
    "[04/15/25 12:23:34] INFO     Searching for the project 'nairobi_example_project' in Azure...                                                                            project.py:431\n",
    "Project: nairobi_example_project was found. Yes to continue deleting it, or No/Enter to exit.  [y/N]: y\n",
    "[04/15/25 12:23:48] INFO     Successfully deleted the project from Azure: nairobi_example_project.                                                                      project.py:444\n",
    "Do want to continue deleting nairobi_example_project located in /data/notebooks/nairobi_example_project locally? [y/N]: n\n",
    "```"
   ]
  },
  {
   "cell_type": "markdown",
   "id": "ca2a0d1f-1a1a-43ad-a7f7-c50bf46dcc90",
   "metadata": {},
   "source": [
    "After deleting a project, you can run `rapida list` to check if it is deleted actually.\n",
    "\n",
    "```\n",
    "rapida list\n",
    "Project\n",
    "-----------------\n",
    "ap\n",
    "MyanmarEQ_project\n",
    "```"
   ]
  },
  {
   "cell_type": "code",
   "execution_count": null,
   "id": "2eb906fb-ab85-4e36-9f53-10d752d18b67",
   "metadata": {},
   "outputs": [],
   "source": []
  }
 ],
 "metadata": {
  "kernelspec": {
   "display_name": "Python 3 (ipykernel)",
   "language": "python",
   "name": "python3"
  },
  "language_info": {
   "codemirror_mode": {
    "name": "ipython",
    "version": 3
   },
   "file_extension": ".py",
   "mimetype": "text/x-python",
   "name": "python",
   "nbconvert_exporter": "python",
   "pygments_lexer": "ipython3",
   "version": "3.12.3"
  }
 },
 "nbformat": 4,
 "nbformat_minor": 5
}
