{
 "cells": [
  {
   "cell_type": "markdown",
   "id": "00b272b9-d317-4406-ab2d-2a9311282159",
   "metadata": {},
   "source": [
    "# Project lifecycle"
   ]
  },
  {
   "cell_type": "markdown",
   "id": "7535f48e-2146-4a79-8148-a4ee327c73db",
   "metadata": {},
   "source": [
    "Continuing with this guide assumes that the authentication has already been done and that the setup is complete.\n",
    "Read the [README](./README.ipynb) if you have not. "
   ]
  },
  {
   "cell_type": "markdown",
   "id": "dd2b5fc3-f8c4-40a2-a3f0-040f8acd5c2e",
   "metadata": {},
   "source": [
    "In this notebook, the following steps describe the lifecycle of RAPIDA project management.\n",
    "\n",
    "1. Check uploaded projects\n",
    "2. Download a project\n",
    "3. Upload a project\n",
    "4. Pulibish a project in GeoHub\n",
    "5. Delete a project\n",
    "\n",
    "note. `upload`, `download`, `publish` and `delete` command are not actually compatible with Jupyter Notebook because it uses prompts. So, currently it requires to be executed in the terminal."
   ]
  },
  {
   "cell_type": "markdown",
   "id": "c8b1e34b-b162-4bad-9d01-4b1caa4172ba",
   "metadata": {},
   "source": [
    "Import the libraries needed"
   ]
  },
  {
   "cell_type": "code",
   "execution_count": 1,
   "id": "bac7d2cd-bfaf-4942-8d23-9d4a44f98cf7",
   "metadata": {},
   "outputs": [
    {
     "data": {
      "application/vnd.jupyter.widget-view+json": {
       "model_id": "fd3f27d7dc5049ccb9db053625c57421",
       "version_major": 2,
       "version_minor": 0
      },
      "text/plain": [
       "VBox(children=(HBox(children=(Text(value='', description='Email:', layout=Layout(width='200px'), placeholder='…"
      ]
     },
     "metadata": {},
     "output_type": "display_data"
    },
    {
     "name": "stderr",
     "output_type": "stream",
     "text": [
      "2025-04-30 11:35:36.659366: E external/local_xla/xla/stream_executor/cuda/cuda_fft.cc:467] Unable to register cuFFT factory: Attempting to register factory for plugin cuFFT when one has already been registered\n",
      "WARNING: All log messages before absl::InitializeLog() is called are written to STDERR\n",
      "E0000 00:00:1746012936.679178    3854 cuda_dnn.cc:8579] Unable to register cuDNN factory: Attempting to register factory for plugin cuDNN when one has already been registered\n",
      "E0000 00:00:1746012936.684819    3854 cuda_blas.cc:1407] Unable to register cuBLAS factory: Attempting to register factory for plugin cuBLAS when one has already been registered\n",
      "W0000 00:00:1746012936.699888    3854 computation_placer.cc:177] computation placer already registered. Please check linkage and avoid linking the same target more than once.\n",
      "W0000 00:00:1746012936.699913    3854 computation_placer.cc:177] computation placer already registered. Please check linkage and avoid linking the same target more than once.\n",
      "W0000 00:00:1746012936.699915    3854 computation_placer.cc:177] computation placer already registered. Please check linkage and avoid linking the same target more than once.\n",
      "W0000 00:00:1746012936.699917    3854 computation_placer.cc:177] computation placer already registered. Please check linkage and avoid linking the same target more than once.\n"
     ]
    }
   ],
   "source": [
    "from rapida.cli.run import run_cmd"
   ]
  },
  {
   "cell_type": "markdown",
   "id": "0ebf951a-b9f7-4b60-bc09-9ba5d99d4174",
   "metadata": {},
   "source": [
    "Initialize the rapida tool"
   ]
  },
  {
   "cell_type": "code",
   "execution_count": 2,
   "id": "979c836a-a9f1-41fd-92ef-cca4396184c3",
   "metadata": {},
   "outputs": [
    {
     "name": "stdout",
     "output_type": "stream",
     "text": [
      "Welcome to rapida CLI tool!\n",
      "Initialization was done. config file was saved to /home/joseph/.rapida/config.json\n"
     ]
    }
   ],
   "source": [
    "run_cmd('init', '--no-input')"
   ]
  },
  {
   "cell_type": "markdown",
   "id": "f6530ffa-102d-404d-85af-c80b46435b81",
   "metadata": {},
   "source": [
    "## 1. rapida list\n",
    "\n",
    "`rapida list -h` command has more description how to use the command to check uploaded projects in Azure"
   ]
  },
  {
   "cell_type": "code",
   "execution_count": 3,
   "id": "7907c461-bf0b-40f7-8ac2-d6a02f45187b",
   "metadata": {},
   "outputs": [
    {
     "name": "stdout",
     "output_type": "stream",
     "text": [
      "Usage: ipykernel_launcher.py [OPTIONS]\n",
      "\n",
      "Options:\n",
      "  --debug  Set log level to debug\n",
      "  --help   Show this message and exit.\n"
     ]
    },
    {
     "data": {
      "text/plain": [
       "0"
      ]
     },
     "execution_count": 3,
     "metadata": {},
     "output_type": "execute_result"
    }
   ],
   "source": [
    "run_cmd('list', '--help')"
   ]
  },
  {
   "cell_type": "code",
   "execution_count": 4,
   "id": "27c77ded-3d7c-4593-9847-755edff48bd8",
   "metadata": {},
   "outputs": [
    {
     "name": "stdout",
     "output_type": "stream",
     "text": [
      "Usage: ipykernel_launcher.py [OPTIONS]\n",
      "\n",
      "Options:\n",
      "  --debug  Set log level to debug\n",
      "  --help   Show this message and exit.\n"
     ]
    },
    {
     "data": {
      "text/plain": [
       "0"
      ]
     },
     "execution_count": 4,
     "metadata": {},
     "output_type": "execute_result"
    }
   ],
   "source": [
    "run_cmd('list', '--help')"
   ]
  },
  {
   "cell_type": "markdown",
   "id": "b347b083-fd90-4199-a8c7-d9b3a1a0be7c",
   "metadata": {},
   "source": [
    "## 2. rapida download\n",
    "\n",
    "Once you have confirmed which projects were already uploaded in Azure, you can use `rapida download` to download a project data from Azure to your local. The below is help message of download command.\n",
    "\n",
    "You can simply specify a project name and where you want to save it like the below command example.\n",
    "\n",
    "`rapida download MyanmarEQ_project ./MyanmarEQ_project`\n",
    "\n",
    "First positional argument is a project name, and the second argument is the destination folder."
   ]
  },
  {
   "cell_type": "code",
   "execution_count": 5,
   "id": "2332ea64-431c-409b-8f5b-006d2ba6932b",
   "metadata": {},
   "outputs": [
    {
     "name": "stdout",
     "output_type": "stream",
     "text": [
      "Usage: ipykernel_launcher.py [OPTIONS] PROJECT_NAME DESTINATION_FOLDER\n",
      "\n",
      "  Download a project from Azure File Share.\n",
      "\n",
      "  Firstly, please check available projects by using `rapida list` to find a\n",
      "  project name to download.\n",
      "\n",
      "  Usage:\n",
      "\n",
      "  rapida download <project name> <project folder path>\n",
      "\n",
      "  For example, the project data will be downloaded under ./data/test folder if\n",
      "  a project name is `test` if the below command is executed.\n",
      "\n",
      "  Example:\n",
      "\n",
      "      rapida download test ./data\n",
      "\n",
      "      rapida download test ./data/test\n",
      "\n",
      "  To use `-f/--force`, project data will be overwritten if it already exists\n",
      "  in local storage.\n",
      "\n",
      "Options:\n",
      "  -c, --max_concurrency INTEGER  The number of threads to use when downloading\n",
      "                                 a file  [default: 4]\n",
      "  -f, --force                    Whether to overwrite the project in case it\n",
      "                                 already exists locally.\n",
      "  --debug                        Set log level to debug\n",
      "  --help                         Show this message and exit.\n"
     ]
    },
    {
     "data": {
      "text/plain": [
       "0"
      ]
     },
     "execution_count": 5,
     "metadata": {},
     "output_type": "execute_result"
    }
   ],
   "source": [
    "run_cmd('download', '--help')"
   ]
  },
  {
   "cell_type": "markdown",
   "id": "29688491-37ff-485c-bfad-031c68fe541f",
   "metadata": {},
   "source": [
    "## 3. Upload a project\n",
    "\n",
    "`rapida upload` command provides a functionality to upload the entire project folder to Azure to backup."
   ]
  },
  {
   "cell_type": "code",
   "execution_count": 6,
   "id": "5cdac96a-c0f1-4723-a2c1-f9822fccd70e",
   "metadata": {},
   "outputs": [
    {
     "name": "stdout",
     "output_type": "stream",
     "text": [
      "Usage: ipykernel_launcher.py [OPTIONS]\n",
      "\n",
      "  Upload an entire project folder to Azure File Share\n",
      "\n",
      "  Usage:\n",
      "\n",
      "      rapida upload: If you are already in a project folder\n",
      "\n",
      "      rapida upload --project=<project folder path>: If you are not in a\n",
      "      project folder\n",
      "\n",
      "  To use `-f/--force`, project data will be overwritten if it already exists\n",
      "  in Azure File Share.\n",
      "\n",
      "  Use `--no-input` to disable prompting. Default is False.\n",
      "\n",
      "Options:\n",
      "  -p, --project DIRECTORY        Optional. A project folder with rapida.json\n",
      "                                 can be specified. If not, current directory\n",
      "                                 is considered as a project folder.\n",
      "  -c, --max_concurrency INTEGER  The number of threads to use when uploading a\n",
      "                                 file  [default: 4]\n",
      "  -f, --force                    Whether to overwrite the project in case it\n",
      "                                 already exists.\n",
      "  --no-input                     Optional. If True, it will automatically\n",
      "                                 answer yes to prompts. Default is False.\n",
      "  --debug                        Set log level to debug\n",
      "  --help                         Show this message and exit.\n"
     ]
    },
    {
     "data": {
      "text/plain": [
       "0"
      ]
     },
     "execution_count": 6,
     "metadata": {},
     "output_type": "execute_result"
    }
   ],
   "source": [
    "run_cmd('upload', '--help')"
   ]
  },
  {
   "cell_type": "markdown",
   "id": "adf779a1-1210-4998-a392-bb25bd5d6e71",
   "metadata": {},
   "source": [
    "You can use `-p` option to specify the project folder to upload a project. Or if you are already in project folder, just simply execute `rapida upload`. Upload command prompts to confirm whether you really want to upload the project to Azure.\n",
    "\n",
    "After uploading, you should see the message like `Rapida project \"/data/notebooks/nairobi_example_project\" was uploaded successfully to Azure`."
   ]
  },
  {
   "cell_type": "code",
   "execution_count": 8,
   "id": "25e90035-ceba-4b3b-b15a-5b9a68cc19d8",
   "metadata": {},
   "outputs": [
    {
     "ename": "FileNotFoundError",
     "evalue": "[Errno 2] No such file or directory: '/data/notebooks/nairobi_example_project/nairobi_example_project'",
     "output_type": "error",
     "traceback": [
      "\u001b[31m---------------------------------------------------------------------------\u001b[39m",
      "\u001b[31mFileNotFoundError\u001b[39m                         Traceback (most recent call last)",
      "\u001b[36mCell\u001b[39m\u001b[36m \u001b[39m\u001b[32mIn[8]\u001b[39m\u001b[32m, line 1\u001b[39m\n\u001b[32m----> \u001b[39m\u001b[32m1\u001b[39m \u001b[43mrun_cmd\u001b[49m\u001b[43m(\u001b[49m\u001b[33;43m'\u001b[39;49m\u001b[33;43mupload\u001b[39;49m\u001b[33;43m'\u001b[39;49m\u001b[43m,\u001b[49m\u001b[43m \u001b[49m\u001b[33;43m'\u001b[39;49m\u001b[33;43m-p ./nairobi_example_project\u001b[39;49m\u001b[33;43m'\u001b[39;49m\u001b[43m)\u001b[49m\n",
      "\u001b[36mFile \u001b[39m\u001b[32m/app/.venv/lib/python3.12/site-packages/rapida/cli/run.py:25\u001b[39m, in \u001b[36mrun_cmd\u001b[39m\u001b[34m(rapida_command_name, command_string)\u001b[39m\n\u001b[32m     22\u001b[39m \u001b[38;5;28;01mtry\u001b[39;00m:\n\u001b[32m     23\u001b[39m     \u001b[38;5;66;03m# call Click’s entrypoint, passing in our args list\u001b[39;00m\n\u001b[32m     24\u001b[39m     command = cli.commands.get(rapida_command_name)\n\u001b[32m---> \u001b[39m\u001b[32m25\u001b[39m     \u001b[38;5;28;01mreturn\u001b[39;00m \u001b[43mcommand\u001b[49m\u001b[43m.\u001b[49m\u001b[43mmain\u001b[49m\u001b[43m(\u001b[49m\u001b[43margs\u001b[49m\u001b[43m=\u001b[49m\u001b[43margs\u001b[49m\u001b[43m,\u001b[49m\u001b[43m \u001b[49m\u001b[43mstandalone_mode\u001b[49m\u001b[43m=\u001b[49m\u001b[38;5;28;43;01mFalse\u001b[39;49;00m\u001b[43m)\u001b[49m\n\u001b[32m     26\u001b[39m \u001b[38;5;28;01mexcept\u001b[39;00m \u001b[38;5;167;01mSystemExit\u001b[39;00m \u001b[38;5;28;01mas\u001b[39;00m e:\n\u001b[32m     27\u001b[39m     \u001b[38;5;66;03m# catch Click’s “exit” and rewrap non‐zero into a ClickException\u001b[39;00m\n\u001b[32m     28\u001b[39m     \u001b[38;5;28;01mif\u001b[39;00m e.code != \u001b[32m0\u001b[39m:\n",
      "\u001b[36mFile \u001b[39m\u001b[32m/app/.venv/lib/python3.12/site-packages/click/core.py:1082\u001b[39m, in \u001b[36mBaseCommand.main\u001b[39m\u001b[34m(self, args, prog_name, complete_var, standalone_mode, windows_expand_args, **extra)\u001b[39m\n\u001b[32m   1080\u001b[39m \u001b[38;5;28;01mtry\u001b[39;00m:\n\u001b[32m   1081\u001b[39m     \u001b[38;5;28;01mwith\u001b[39;00m \u001b[38;5;28mself\u001b[39m.make_context(prog_name, args, **extra) \u001b[38;5;28;01mas\u001b[39;00m ctx:\n\u001b[32m-> \u001b[39m\u001b[32m1082\u001b[39m         rv = \u001b[38;5;28;43mself\u001b[39;49m\u001b[43m.\u001b[49m\u001b[43minvoke\u001b[49m\u001b[43m(\u001b[49m\u001b[43mctx\u001b[49m\u001b[43m)\u001b[49m\n\u001b[32m   1083\u001b[39m         \u001b[38;5;28;01mif\u001b[39;00m \u001b[38;5;129;01mnot\u001b[39;00m standalone_mode:\n\u001b[32m   1084\u001b[39m             \u001b[38;5;28;01mreturn\u001b[39;00m rv\n",
      "\u001b[36mFile \u001b[39m\u001b[32m/app/.venv/lib/python3.12/site-packages/click/core.py:1443\u001b[39m, in \u001b[36mCommand.invoke\u001b[39m\u001b[34m(self, ctx)\u001b[39m\n\u001b[32m   1440\u001b[39m     echo(style(message, fg=\u001b[33m\"\u001b[39m\u001b[33mred\u001b[39m\u001b[33m\"\u001b[39m), err=\u001b[38;5;28;01mTrue\u001b[39;00m)\n\u001b[32m   1442\u001b[39m \u001b[38;5;28;01mif\u001b[39;00m \u001b[38;5;28mself\u001b[39m.callback \u001b[38;5;129;01mis\u001b[39;00m \u001b[38;5;129;01mnot\u001b[39;00m \u001b[38;5;28;01mNone\u001b[39;00m:\n\u001b[32m-> \u001b[39m\u001b[32m1443\u001b[39m     \u001b[38;5;28;01mreturn\u001b[39;00m \u001b[43mctx\u001b[49m\u001b[43m.\u001b[49m\u001b[43minvoke\u001b[49m\u001b[43m(\u001b[49m\u001b[38;5;28;43mself\u001b[39;49m\u001b[43m.\u001b[49m\u001b[43mcallback\u001b[49m\u001b[43m,\u001b[49m\u001b[43m \u001b[49m\u001b[43m*\u001b[49m\u001b[43m*\u001b[49m\u001b[43mctx\u001b[49m\u001b[43m.\u001b[49m\u001b[43mparams\u001b[49m\u001b[43m)\u001b[49m\n",
      "\u001b[36mFile \u001b[39m\u001b[32m/app/.venv/lib/python3.12/site-packages/click/core.py:788\u001b[39m, in \u001b[36mContext.invoke\u001b[39m\u001b[34m(_Context__self, _Context__callback, *args, **kwargs)\u001b[39m\n\u001b[32m    786\u001b[39m \u001b[38;5;28;01mwith\u001b[39;00m augment_usage_errors(__self):\n\u001b[32m    787\u001b[39m     \u001b[38;5;28;01mwith\u001b[39;00m ctx:\n\u001b[32m--> \u001b[39m\u001b[32m788\u001b[39m         \u001b[38;5;28;01mreturn\u001b[39;00m \u001b[43m__callback\u001b[49m\u001b[43m(\u001b[49m\u001b[43m*\u001b[49m\u001b[43margs\u001b[49m\u001b[43m,\u001b[49m\u001b[43m \u001b[49m\u001b[43m*\u001b[49m\u001b[43m*\u001b[49m\u001b[43mkwargs\u001b[49m\u001b[43m)\u001b[49m\n",
      "\u001b[36mFile \u001b[39m\u001b[32m/app/.venv/lib/python3.12/site-packages/rapida/cli/upload.py:57\u001b[39m, in \u001b[36mupload\u001b[39m\u001b[34m(project, max_concurrency, force, no_input, debug)\u001b[39m\n\u001b[32m     55\u001b[39m     project = os.getcwd()\n\u001b[32m     56\u001b[39m \u001b[38;5;28;01melse\u001b[39;00m:\n\u001b[32m---> \u001b[39m\u001b[32m57\u001b[39m     \u001b[43mos\u001b[49m\u001b[43m.\u001b[49m\u001b[43mchdir\u001b[49m\u001b[43m(\u001b[49m\u001b[43mproject\u001b[49m\u001b[43m)\u001b[49m\n\u001b[32m     58\u001b[39m     click.echo(\u001b[33mf\u001b[39m\u001b[33m\"\u001b[39m\u001b[33mUpload command is executed at the project folder: \u001b[39m\u001b[38;5;132;01m{\u001b[39;00mproject\u001b[38;5;132;01m}\u001b[39;00m\u001b[33m\"\u001b[39m)\n\u001b[32m     60\u001b[39m prj = Project(path=project)\n",
      "\u001b[31mFileNotFoundError\u001b[39m: [Errno 2] No such file or directory: '/data/notebooks/nairobi_example_project/nairobi_example_project'"
     ]
    },
    {
     "data": {
      "text/html": [
       "<pre style=\"white-space:pre;overflow-x:auto;line-height:normal;font-family:Menlo,'DejaVu Sans Mono',consolas,'Courier New',monospace\"><span style=\"color: #7fbfbf; text-decoration-color: #7fbfbf\">[05/01/25 07:51:24] </span><span style=\"color: #000080; text-decoration-color: #000080\">INFO    </span> Token cached at <span style=\"color: #800080; text-decoration-color: #800080\">/home/joseph/.rapida/</span><span style=\"color: #ff00ff; text-decoration-color: #ff00ff\">fugRgVDgzgI3Qr66bxC_I6q78.bin</span>    <a href=\"file:///app/.venv/lib/python3.12/site-packages/rapida/az/surgeauth.py\" target=\"_blank\"><span style=\"color: #7f7f7f; text-decoration-color: #7f7f7f\">surgeauth.py</span></a><span style=\"color: #7f7f7f; text-decoration-color: #7f7f7f\">:</span><a href=\"file:///app/.venv/lib/python3.12/site-packages/rapida/az/surgeauth.py#378\" target=\"_blank\"><span style=\"color: #7f7f7f; text-decoration-color: #7f7f7f\">378</span></a>\n",
       "<span style=\"color: #7fbfbf; text-decoration-color: #7fbfbf\">                    </span>         will expire in <span style=\"color: #008080; text-decoration-color: #008080; font-weight: bold\">-68486.20715</span> secs                                      <span style=\"color: #7f7f7f; text-decoration-color: #7f7f7f\">                </span>\n",
       "</pre>\n"
      ],
      "text/plain": [
       "\u001b[2;36m[05/01/25 07:51:24]\u001b[0m\u001b[2;36m \u001b[0m\u001b[34mINFO    \u001b[0m Token cached at \u001b[35m/home/joseph/.rapida/\u001b[0m\u001b[95mfugRgVDgzgI3Qr66bxC_I6q78.bin\u001b[0m    \u001b]8;id=965429;file:///app/.venv/lib/python3.12/site-packages/rapida/az/surgeauth.py\u001b\\\u001b[2msurgeauth.py\u001b[0m\u001b]8;;\u001b\\\u001b[2m:\u001b[0m\u001b]8;id=804428;file:///app/.venv/lib/python3.12/site-packages/rapida/az/surgeauth.py#378\u001b\\\u001b[2m378\u001b[0m\u001b]8;;\u001b\\\n",
       "\u001b[2;36m                    \u001b[0m         will expire in \u001b[1;36m-68486.20715\u001b[0m secs                                      \u001b[2m                \u001b[0m\n"
      ]
     },
     "metadata": {},
     "output_type": "display_data"
    },
    {
     "data": {
      "text/html": [
       "<pre style=\"white-space:pre;overflow-x:auto;line-height:normal;font-family:Menlo,'DejaVu Sans Mono',consolas,'Courier New',monospace\"><span style=\"color: #7fbfbf; text-decoration-color: #7fbfbf\">                    </span><span style=\"color: #000080; text-decoration-color: #000080\">INFO    </span> Refreshing token                                                      <a href=\"file:///app/.venv/lib/python3.12/site-packages/rapida/az/surgeauth.py\" target=\"_blank\"><span style=\"color: #7f7f7f; text-decoration-color: #7f7f7f\">surgeauth.py</span></a><span style=\"color: #7f7f7f; text-decoration-color: #7f7f7f\">:</span><a href=\"file:///app/.venv/lib/python3.12/site-packages/rapida/az/surgeauth.py#381\" target=\"_blank\"><span style=\"color: #7f7f7f; text-decoration-color: #7f7f7f\">381</span></a>\n",
       "</pre>\n"
      ],
      "text/plain": [
       "\u001b[2;36m                   \u001b[0m\u001b[2;36m \u001b[0m\u001b[34mINFO    \u001b[0m Refreshing token                                                      \u001b]8;id=417861;file:///app/.venv/lib/python3.12/site-packages/rapida/az/surgeauth.py\u001b\\\u001b[2msurgeauth.py\u001b[0m\u001b]8;;\u001b\\\u001b[2m:\u001b[0m\u001b]8;id=114796;file:///app/.venv/lib/python3.12/site-packages/rapida/az/surgeauth.py#381\u001b\\\u001b[2m381\u001b[0m\u001b]8;;\u001b\\\n"
      ]
     },
     "metadata": {},
     "output_type": "display_data"
    }
   ],
   "source": [
    "run_cmd('upload', '-p ./nairobi_example_project')"
   ]
  },
  {
   "cell_type": "markdown",
   "id": "68ef00f6-8302-4a0b-991e-36525c85aa68",
   "metadata": {},
   "source": [
    "## 4. Publish a project\n",
    "\n",
    "`rapida publish` command will provide a functionality to convert data.gpkg to cloud optiomised format which is compatible with UNDP GeoHub. And it will give you a link to register and publish it in GeoHub."
   ]
  },
  {
   "cell_type": "code",
   "execution_count": null,
   "id": "26914216-eb7d-42e2-a335-192afa23cd29",
   "metadata": {},
   "outputs": [],
   "source": [
    "run_cmd('publish', '--help')"
   ]
  },
  {
   "cell_type": "markdown",
   "id": "35932736-3bfc-4b3e-852d-99142dbf1c33",
   "metadata": {},
   "source": [
    "You can use `-p` option to specify the project folder to publish a project. Or if you are already in project folder, just simply execute `rapida publish`. Publish command will do the following operations\n",
    "\n",
    "1. convert data.gpkg to PMTiles (cloud optimised vector tiles)\n",
    "2. upload PMTiles to UNDP Azure Blob Container for GeoHub\n",
    "3. generate a GeoHub link to register PMTiles to GeoHub\n",
    "\n",
    "Once the link is provided, please open it in the browser. You will be redirected to the dataset registration page. Please input all metadata appropriately, then you can publish it in GeoHub."
   ]
  },
  {
   "cell_type": "markdown",
   "id": "05dfc9db-ca2f-4e2b-ab0b-6c24fbf41ca3",
   "metadata": {},
   "source": [
    "5. Delete a project\n",
    "\n",
    "`rapida delete` command provides you a funcitonality to delete a project from Azure and from local storage. This command ask several prompts to confirm before deleting it actually."
   ]
  },
  {
   "cell_type": "code",
   "execution_count": null,
   "id": "37497d93-8dac-4fa7-b526-f02939c8eda7",
   "metadata": {},
   "outputs": [],
   "source": [
    "run_cmd('delete', '--help')"
   ]
  },
  {
   "cell_type": "markdown",
   "id": "68f45e92-5a50-48dd-bac3-b5e484ebbe58",
   "metadata": {},
   "source": [
    "You can use `-p` option to specify the project folder to delete a project. Or if you are already in project folder, just simply execute `rapida delete`. Delete command will do the following operations:\n",
    "\n",
    "1. Check if the project data is published in GeoHub. You cannot delete a project if it is already registered in GeoHub.\n",
    "2. If project is not registered in GeoHub, It asks you whether you want to delete a project from Azure File Share (if it is uploaded)\n",
    "3. Lastly, it asks you whether you want to delete a project from local storage.\n",
    "\n",
    "for example, if you want to delete `nairobi_example_project` project from Azure, you can execute `rapida delete -p ./nairobi_example_project`.\n",
    "\n",
    "The below is an example log. First prompt to ask if you want to delete it from Azure, and answer yes. In the second prompt, it ask to delete it from local storage, and answered No because I want to keep it in local.\n",
    "\n",
    "```\n",
    "Delete command is executed at the project folder: /data/notebooks/nairobi_example_project\n",
    "[04/15/25 12:23:34] INFO     Searching for the project 'nairobi_example_project' in Azure...                                                                            project.py:431\n",
    "Project: nairobi_example_project was found. Yes to continue deleting it, or No/Enter to exit.  [y/N]: y\n",
    "[04/15/25 12:23:48] INFO     Successfully deleted the project from Azure: nairobi_example_project.                                                                      project.py:444\n",
    "Do want to continue deleting nairobi_example_project located in /data/notebooks/nairobi_example_project locally? [y/N]: n\n",
    "```"
   ]
  },
  {
   "cell_type": "markdown",
   "id": "ca2a0d1f-1a1a-43ad-a7f7-c50bf46dcc90",
   "metadata": {},
   "source": [
    "After deleting a project, you can run `rapida list` to check if it is deleted actually.\n",
    "\n",
    "```\n",
    "rapida list\n",
    "Project\n",
    "-----------------\n",
    "ap\n",
    "MyanmarEQ_project\n",
    "```"
   ]
  },
  {
   "cell_type": "code",
   "execution_count": null,
   "id": "2eb906fb-ab85-4e36-9f53-10d752d18b67",
   "metadata": {},
   "outputs": [],
   "source": []
  }
 ],
 "metadata": {
  "kernelspec": {
   "display_name": "Python 3 (ipykernel)",
   "language": "python",
   "name": "python3"
  },
  "language_info": {
   "codemirror_mode": {
    "name": "ipython",
    "version": 3
   },
   "file_extension": ".py",
   "mimetype": "text/x-python",
   "name": "python",
   "nbconvert_exporter": "python",
   "pygments_lexer": "ipython3",
   "version": "3.12.3"
  }
 },
 "nbformat": 4,
 "nbformat_minor": 5
}
